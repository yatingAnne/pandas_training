{
 "cells": [
  {
   "cell_type": "code",
   "execution_count": 6,
   "metadata": {},
   "outputs": [],
   "source": [
    "import os\n",
    "import numpy as np\n",
    "import pandas as pd\n",
    "import joblib\n",
    "import matplotlib.pyplot as plt"
   ]
  },
  {
   "cell_type": "code",
   "execution_count": 4,
   "metadata": {},
   "outputs": [],
   "source": [
    "pd.set_option('max_rows', 20)\n",
    "\n",
    "plt.style.use('default')\n",
    "plt.rcParams['figure.figsize'] = (12, 3)\n",
    "plt.rcParams['font.family'] = 'sans-serif'"
   ]
  },
  {
   "cell_type": "code",
   "execution_count": 5,
   "metadata": {},
   "outputs": [
    {
     "name": "stdout",
     "output_type": "stream",
     "text": [
      "./data/turbofan.csv\n"
     ]
    }
   ],
   "source": [
    "# 指定檔案位置，包含完整路徑以及檔案名稱\n",
    "# os.curdir: 回傳目前目錄的路徑\n",
    "# 若無法在個人電腦上以 Anaconda 開啟 Notebook，請用Google Colab開啟，並將下兩行程式的註解消除，再將 turbofan.csv 和 turbofan_rul.csv資料上傳 \n",
    "# Turbofan_FILEPATH = os.path.join(os.curdir, 'turbofan.csv')\n",
    "# Turbofan_RUL_FILEPATH = os.path.join(os.curdir, 'turbofan_rul.csv')\n",
    "Turbofan_FILEPATH = os.path.join(os.curdir, 'data', 'turbofan.csv')\n",
    "Turbofan_RUL_FILEPATH = os.path.join(os.curdir, 'data', 'turbofan_rul.csv')\n",
    "\n",
    "# 檢視檔案位置\n",
    "print(Turbofan_FILEPATH)\n",
    "\n",
    "# 讀取 CSV 檔案，並將其指定為名稱是 df (DataFrame) 的物件\n",
    "df = pd.read_csv(filepath_or_buffer=Turbofan_FILEPATH)\n",
    "df_bak = df.copy()\n",
    "\n",
    "df_rul = pd.read_csv(filepath_or_buffer=Turbofan_RUL_FILEPATH)\n",
    "df_rul_bak = df_rul.copy()"
   ]
  },
  {
   "cell_type": "markdown",
   "metadata": {},
   "source": [
    "## `to_csv()`：儲存 DataFrame 或 Series 為csv格式\n",
    "\n",
    "* 常用 Parameters：\n",
    "    * `path_or_buf`：儲存路徑\n",
    "        * `outer`：將相同 column/row label 的資料結合，不相同的 label 則**另外存放**\n",
    "        * `inner`：只將相同 column/row label 的資料結合，不相同的 label 則**捨棄**\n",
    "    * `index`：是否要儲存 row index\n",
    "        * `True`：儲存\n",
    "        * `False`：不儲存\n",
    "* 參考文件：\n",
    "    * [pandas.DataFrame.to_csv](https://pandas.pydata.org/pandas-docs/stable/reference/api/pandas.DataFrame.to_csv.html#pandas-dataframe-to-csv)\n",
    "    * [pandas.Series.to_csv](https://pandas.pydata.org/pandas-docs/stable/reference/api/pandas.Series.to_csv.html#pandas-series-to-csv)\n",
    "    * [10 MInutes to Pandas | Getting data in/out | csv](https://pandas.pydata.org/pandas-docs/stable/user_guide/10min.html#csv)"
   ]
  },
  {
   "cell_type": "code",
   "execution_count": 11,
   "metadata": {},
   "outputs": [],
   "source": [
    "# 若無法在個人電腦上以 Anaconda 開啟 Notebook，請用Google Colab開啟，並將下兩行程式的註解消除，再將 turbofan_test.csv 儲存\n",
    "# df.to_csv(os.path.join(os.curdir, 'turbofan_test.csv'), index=False)\n",
    "df.to_csv(os.path.join(os.curdir, 'data', 'turbofan_test.csv'), index=False)"
   ]
  },
  {
   "cell_type": "markdown",
   "metadata": {},
   "source": [
    "## `joblib.dump`：保有 python物件 格式，將其儲存成一個檔案\n",
    "\n",
    "* 常用 Parameters：\n",
    "    * `value`：任何python物件\n",
    "    * `filename`：檔案名稱\n",
    "* 參考文件：\n",
    "    * [joblib.dump](https://joblib.readthedocs.io/en/latest/generated/joblib.dump.html)"
   ]
  },
  {
   "cell_type": "code",
   "execution_count": 9,
   "metadata": {},
   "outputs": [
    {
     "data": {
      "text/plain": [
       "['./data/turbofan_test.joblib']"
      ]
     },
     "execution_count": 9,
     "metadata": {},
     "output_type": "execute_result"
    }
   ],
   "source": [
    "# 若無法在個人電腦上以 Anaconda 開啟 Notebook，請用Google Colab開啟，並將下兩行程式的註解消除，再將 turbofan_test.joblib 儲存\n",
    "# joblib.dump(df, os.path.join(os.curdir, 'turbofan_test.joblib'))\n",
    "joblib.dump(df, os.path.join(os.curdir, 'data', 'turbofan_test.joblib'))"
   ]
  },
  {
   "cell_type": "markdown",
   "metadata": {},
   "source": [
    "## `joblib.load`：讀取經由 `joblib.dump` 所儲存的 python物件\n",
    "\n",
    "* 常用 Parameters：\n",
    "    * `filename`：檔案名稱\n",
    "* 參考文件：\n",
    "    * [joblib.load](https://joblib.readthedocs.io/en/latest/generated/joblib.load.html)"
   ]
  },
  {
   "cell_type": "code",
   "execution_count": 10,
   "metadata": {},
   "outputs": [],
   "source": [
    "# 若無法在個人電腦上以 Anaconda 開啟 Notebook，請用Google Colab開啟，並將下兩行程式的註解消除，再讀取 turbofan_test.joblib \n",
    "# df = joblib.load(os.path.join(os.curdir, 'turbofan_test.joblib'))\n",
    "df = joblib.load(os.path.join(os.curdir, 'data', 'turbofan_test.joblib'))"
   ]
  }
 ],
 "metadata": {
  "kernelspec": {
   "display_name": "Python 3",
   "language": "python",
   "name": "python3"
  },
  "language_info": {
   "codemirror_mode": {
    "name": "ipython",
    "version": 3
   },
   "file_extension": ".py",
   "mimetype": "text/x-python",
   "name": "python",
   "nbconvert_exporter": "python",
   "pygments_lexer": "ipython3",
   "version": "3.6.8"
  }
 },
 "nbformat": 4,
 "nbformat_minor": 4
}
