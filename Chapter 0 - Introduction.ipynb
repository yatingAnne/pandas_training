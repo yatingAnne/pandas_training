{
 "cells": [
  {
   "cell_type": "code",
   "execution_count": 1,
   "metadata": {
    "colab": {
     "autoexec": {
      "startup": false,
      "wait_interval": 0
     }
    },
    "colab_type": "code",
    "id": "XtSt4KG1kRkk"
   },
   "outputs": [],
   "source": [
    "import os\n",
    "import numpy as np\n",
    "import pandas as pd\n",
    "import matplotlib.pyplot as plt"
   ]
  },
  {
   "cell_type": "code",
   "execution_count": 2,
   "metadata": {
    "colab": {
     "autoexec": {
      "startup": false,
      "wait_interval": 0
     }
    },
    "colab_type": "code",
    "id": "DgNt16VWtBSK"
   },
   "outputs": [],
   "source": [
    "plt.style.use('default')\n",
    "plt.rcParams['figure.figsize'] = (12, 3)\n",
    "plt.rcParams['font.family'] = 'sans-serif'"
   ]
  },
  {
   "cell_type": "markdown",
   "metadata": {
    "colab_type": "text",
    "id": "IjtgaOoeaSZy"
   },
   "source": [
    "## Class & Object & Attributes & Method\n"
   ]
  },
  {
   "cell_type": "markdown",
   "metadata": {
    "colab_type": "text",
    "id": "Ea_ReRbRZky-"
   },
   "source": [
    "### Class（類別）"
   ]
  },
  {
   "cell_type": "markdown",
   "metadata": {
    "colab_type": "text",
    "id": "xLruPz2yZoQe"
   },
   "source": [
    "\n",
    "* 類別像是模具，可以重複製作出相同的東西，在撰寫程式的過程中不斷地被重複利用。在Python使用class宣告類別，就可以重複建立此類別的物件。\n",
    "* 類別中會包含已定義的 Attributes (屬性) 和 Method (方法)\n",
    "* ex. 人類\n"
   ]
  },
  {
   "cell_type": "markdown",
   "metadata": {
    "colab_type": "text",
    "id": "kYU6vVSXZpsv"
   },
   "source": [
    "###Object（物件）\n",
    "\n",
    "* 將**類別**實體化的結果就是 物件\n",
    "* 物件 可以使用所屬類別的 屬性 和 方法\n",
    "* ex. 小明\n"
   ]
  },
  {
   "cell_type": "code",
   "execution_count": 3,
   "metadata": {
    "colab": {
     "autoexec": {
      "startup": false,
      "wait_interval": 0
     },
     "base_uri": "https://localhost:8080/",
     "height": 49
    },
    "colab_type": "code",
    "executionInfo": {
     "elapsed": 769,
     "status": "ok",
     "timestamp": 1530663386049,
     "user": {
      "displayName": "李雅庭",
      "photoUrl": "//lh3.googleusercontent.com/-FMmqLpFWdh4/AAAAAAAAAAI/AAAAAAAAAEA/Q8gctKy4m-I/s50-c-k-no/photo.jpg",
      "userId": "107216197418371220980"
     },
     "user_tz": -480
    },
    "id": "T8eCW9LPZ0QD",
    "outputId": "823108fd-487c-4f4b-97bc-eb59e9488d31"
   },
   "outputs": [
    {
     "data": {
      "text/html": [
       "<div>\n",
       "<style scoped>\n",
       "    .dataframe tbody tr th:only-of-type {\n",
       "        vertical-align: middle;\n",
       "    }\n",
       "\n",
       "    .dataframe tbody tr th {\n",
       "        vertical-align: top;\n",
       "    }\n",
       "\n",
       "    .dataframe thead th {\n",
       "        text-align: right;\n",
       "    }\n",
       "</style>\n",
       "<table border=\"1\" class=\"dataframe\">\n",
       "  <thead>\n",
       "    <tr style=\"text-align: right;\">\n",
       "      <th></th>\n",
       "    </tr>\n",
       "  </thead>\n",
       "  <tbody>\n",
       "  </tbody>\n",
       "</table>\n",
       "</div>"
      ],
      "text/plain": [
       "Empty DataFrame\n",
       "Columns: []\n",
       "Index: []"
      ]
     },
     "metadata": {},
     "output_type": "display_data"
    },
    {
     "name": "stdout",
     "output_type": "stream",
     "text": [
      "<class 'pandas.core.frame.DataFrame'>\n"
     ]
    }
   ],
   "source": [
    "# Class \n",
    "# Pandas 已經定義的 類別 如： DataFrame, Series \n",
    "# 但是 DataFrame, Series 只是一個模具。如何建立出 DataFrame 的實體，你必須要進行灌模然後才會得到一個實體。怎麼 灌模 並得到實體？\n",
    "\n",
    "# Object\n",
    "# 使用 pandas.DataFrame() 建立(灌模) DataFrame object ，且指向一個變數 df \n",
    "# 使用 type() 顯示 object 的資料格式或型態 (Chpater 1)\n",
    "df = pd.DataFrame()\n",
    "display(df)\n",
    "print(type(df))"
   ]
  },
  {
   "cell_type": "markdown",
   "metadata": {
    "colab_type": "text",
    "id": "-oVl6_ZTabp_"
   },
   "source": [
    "### Attributes（屬性）\n",
    "\n",
    "* 屬性 是物件的特性，這些特性代表了一個物件的外觀或某些性質\n",
    "* Q1.如何知道有哪些 屬性？\n",
    "    1. 上網查文件\n",
    "    2. `dir()`，ex: `dir(pandas.DataFrame())`\n",
    "* Q2.如何使用 屬性？ 用 . 屬性名稱 來啟動\n",
    "* ex. 身高(cm)，體重(kg)\n"
   ]
  },
  {
   "cell_type": "code",
   "execution_count": 4,
   "metadata": {
    "colab": {
     "autoexec": {
      "startup": false,
      "wait_interval": 0
     },
     "base_uri": "https://localhost:8080/",
     "height": 388
    },
    "colab_type": "code",
    "executionInfo": {
     "elapsed": 613,
     "status": "ok",
     "timestamp": 1530663386788,
     "user": {
      "displayName": "李雅庭",
      "photoUrl": "//lh3.googleusercontent.com/-FMmqLpFWdh4/AAAAAAAAAAI/AAAAAAAAAEA/Q8gctKy4m-I/s50-c-k-no/photo.jpg",
      "userId": "107216197418371220980"
     },
     "user_tz": -480
    },
    "id": "lkbTDzz7a3rD",
    "outputId": "edd3ca9f-5340-4abb-9964-a7adf4383f83"
   },
   "outputs": [
    {
     "name": "stdout",
     "output_type": "stream",
     "text": [
      "shape=  (0, 0)\n",
      "rows label=  Index([], dtype='object')\n",
      "columns label= Index([], dtype='object')\n",
      "=================================\n"
     ]
    },
    {
     "data": {
      "text/html": [
       "<div>\n",
       "<style scoped>\n",
       "    .dataframe tbody tr th:only-of-type {\n",
       "        vertical-align: middle;\n",
       "    }\n",
       "\n",
       "    .dataframe tbody tr th {\n",
       "        vertical-align: top;\n",
       "    }\n",
       "\n",
       "    .dataframe thead th {\n",
       "        text-align: right;\n",
       "    }\n",
       "</style>\n",
       "<table border=\"1\" class=\"dataframe\">\n",
       "  <thead>\n",
       "    <tr style=\"text-align: right;\">\n",
       "      <th></th>\n",
       "      <th>a</th>\n",
       "      <th>b</th>\n",
       "      <th>c</th>\n",
       "    </tr>\n",
       "  </thead>\n",
       "  <tbody>\n",
       "    <tr>\n",
       "      <th>0</th>\n",
       "      <td>0</td>\n",
       "      <td>10</td>\n",
       "      <td>100.0</td>\n",
       "    </tr>\n",
       "    <tr>\n",
       "      <th>1</th>\n",
       "      <td>1</td>\n",
       "      <td>11</td>\n",
       "      <td>110.0</td>\n",
       "    </tr>\n",
       "    <tr>\n",
       "      <th>2</th>\n",
       "      <td>2</td>\n",
       "      <td>12</td>\n",
       "      <td>NaN</td>\n",
       "    </tr>\n",
       "    <tr>\n",
       "      <th>3</th>\n",
       "      <td>3</td>\n",
       "      <td>13</td>\n",
       "      <td>130.0</td>\n",
       "    </tr>\n",
       "    <tr>\n",
       "      <th>4</th>\n",
       "      <td>4</td>\n",
       "      <td>14</td>\n",
       "      <td>140.0</td>\n",
       "    </tr>\n",
       "    <tr>\n",
       "      <th>5</th>\n",
       "      <td>5</td>\n",
       "      <td>15</td>\n",
       "      <td>NaN</td>\n",
       "    </tr>\n",
       "  </tbody>\n",
       "</table>\n",
       "</div>"
      ],
      "text/plain": [
       "   a   b      c\n",
       "0  0  10  100.0\n",
       "1  1  11  110.0\n",
       "2  2  12    NaN\n",
       "3  3  13  130.0\n",
       "4  4  14  140.0\n",
       "5  5  15    NaN"
      ]
     },
     "metadata": {},
     "output_type": "display_data"
    },
    {
     "name": "stdout",
     "output_type": "stream",
     "text": [
      "<class 'pandas.core.frame.DataFrame'>\n",
      "\n",
      "shape=  (6, 3)\n",
      "rows label=  RangeIndex(start=0, stop=6, step=1)\n",
      "columns label= Index(['a', 'b', 'c'], dtype='object')\n"
     ]
    }
   ],
   "source": [
    "# Attributes\n",
    "# DataFrame 這個 類別 中有許多已經定義的 屬性，例如 shape(可以知道 dataframe 的 rows 數量 和 columns 數量), index(取得 rows label), columns(取得 columns label)...\n",
    "# 剛剛已經用 pd.DataFrame() 建立了 df 這個 DataFrame object，此時就能夠使用 DataFrame 類別 自帶的屬性\n",
    "\n",
    "print('shape= ', df.shape)\n",
    "print('rows label= ', df.index)\n",
    "print('columns label=', df.columns)\n",
    "# 因為目前 df 中沒有任何資料，所以 屬性 shape 顯示都 0，而 rows label和 columns label 都是空的\n",
    "\n",
    "print('=================================')\n",
    "\n",
    "# 試著建立個一有資料的 DataFrame object 吧！\n",
    "df_2 = pd.DataFrame({'a':[0, 1, 2, 3, 4, 5], 'b':[10, 11, 12, 13, 14, 15], 'c':[100, 110, np.nan, 130 ,140 ,np.nan]})\n",
    "display(df_2)\n",
    "print(type(df_2))\n",
    "print()\n",
    "print('shape= ', df_2.shape)\n",
    "print('rows label= ', df_2.index)\n",
    "print('columns label=', df_2.columns)"
   ]
  },
  {
   "cell_type": "markdown",
   "metadata": {
    "colab_type": "text",
    "id": "e90KsSVpaeQp"
   },
   "source": [
    "### Method（方法）\n",
    "\n",
    "* 方法 是可以對 物件 進行某種特定目的處理\n",
    "* 方法 中如果有 定義 Parameters (參數) 則可以設定\n",
    "* Q1.如何知道有哪些 方法？\n",
    "    1. 上網查文件\n",
    "    2. `dir()`，ex: `dir(pandas.DataFrame())`\n",
    "* ex. 量體重(參數= 選擇度量單位)"
   ]
  },
  {
   "cell_type": "code",
   "execution_count": 5,
   "metadata": {
    "colab": {
     "autoexec": {
      "startup": false,
      "wait_interval": 0
     },
     "base_uri": "https://localhost:8080/",
     "height": 700
    },
    "colab_type": "code",
    "executionInfo": {
     "elapsed": 855,
     "status": "ok",
     "timestamp": 1530663387765,
     "user": {
      "displayName": "李雅庭",
      "photoUrl": "//lh3.googleusercontent.com/-FMmqLpFWdh4/AAAAAAAAAAI/AAAAAAAAAEA/Q8gctKy4m-I/s50-c-k-no/photo.jpg",
      "userId": "107216197418371220980"
     },
     "user_tz": -480
    },
    "id": "auNivSZ1a4r0",
    "outputId": "15255583-7473-4cd5-d39f-50deb66fc462"
   },
   "outputs": [
    {
     "name": "stdout",
     "output_type": "stream",
     "text": [
      "<class 'method'>\n",
      "<class 'method'>\n",
      "<class 'method'>\n",
      "\n",
      "drop=\n"
     ]
    },
    {
     "data": {
      "text/html": [
       "<div>\n",
       "<style scoped>\n",
       "    .dataframe tbody tr th:only-of-type {\n",
       "        vertical-align: middle;\n",
       "    }\n",
       "\n",
       "    .dataframe tbody tr th {\n",
       "        vertical-align: top;\n",
       "    }\n",
       "\n",
       "    .dataframe thead th {\n",
       "        text-align: right;\n",
       "    }\n",
       "</style>\n",
       "<table border=\"1\" class=\"dataframe\">\n",
       "  <thead>\n",
       "    <tr style=\"text-align: right;\">\n",
       "      <th></th>\n",
       "      <th>a</th>\n",
       "      <th>b</th>\n",
       "      <th>c</th>\n",
       "    </tr>\n",
       "  </thead>\n",
       "  <tbody>\n",
       "    <tr>\n",
       "      <th>1</th>\n",
       "      <td>1</td>\n",
       "      <td>11</td>\n",
       "      <td>110.0</td>\n",
       "    </tr>\n",
       "    <tr>\n",
       "      <th>2</th>\n",
       "      <td>2</td>\n",
       "      <td>12</td>\n",
       "      <td>NaN</td>\n",
       "    </tr>\n",
       "    <tr>\n",
       "      <th>3</th>\n",
       "      <td>3</td>\n",
       "      <td>13</td>\n",
       "      <td>130.0</td>\n",
       "    </tr>\n",
       "    <tr>\n",
       "      <th>4</th>\n",
       "      <td>4</td>\n",
       "      <td>14</td>\n",
       "      <td>140.0</td>\n",
       "    </tr>\n",
       "    <tr>\n",
       "      <th>5</th>\n",
       "      <td>5</td>\n",
       "      <td>15</td>\n",
       "      <td>NaN</td>\n",
       "    </tr>\n",
       "  </tbody>\n",
       "</table>\n",
       "</div>"
      ],
      "text/plain": [
       "   a   b      c\n",
       "1  1  11  110.0\n",
       "2  2  12    NaN\n",
       "3  3  13  130.0\n",
       "4  4  14  140.0\n",
       "5  5  15    NaN"
      ]
     },
     "metadata": {},
     "output_type": "display_data"
    },
    {
     "name": "stdout",
     "output_type": "stream",
     "text": [
      "\n",
      "head=\n"
     ]
    },
    {
     "data": {
      "text/html": [
       "<div>\n",
       "<style scoped>\n",
       "    .dataframe tbody tr th:only-of-type {\n",
       "        vertical-align: middle;\n",
       "    }\n",
       "\n",
       "    .dataframe tbody tr th {\n",
       "        vertical-align: top;\n",
       "    }\n",
       "\n",
       "    .dataframe thead th {\n",
       "        text-align: right;\n",
       "    }\n",
       "</style>\n",
       "<table border=\"1\" class=\"dataframe\">\n",
       "  <thead>\n",
       "    <tr style=\"text-align: right;\">\n",
       "      <th></th>\n",
       "      <th>a</th>\n",
       "      <th>b</th>\n",
       "      <th>c</th>\n",
       "    </tr>\n",
       "  </thead>\n",
       "  <tbody>\n",
       "    <tr>\n",
       "      <th>0</th>\n",
       "      <td>0</td>\n",
       "      <td>10</td>\n",
       "      <td>100.0</td>\n",
       "    </tr>\n",
       "    <tr>\n",
       "      <th>1</th>\n",
       "      <td>1</td>\n",
       "      <td>11</td>\n",
       "      <td>110.0</td>\n",
       "    </tr>\n",
       "    <tr>\n",
       "      <th>2</th>\n",
       "      <td>2</td>\n",
       "      <td>12</td>\n",
       "      <td>NaN</td>\n",
       "    </tr>\n",
       "  </tbody>\n",
       "</table>\n",
       "</div>"
      ],
      "text/plain": [
       "   a   b      c\n",
       "0  0  10  100.0\n",
       "1  1  11  110.0\n",
       "2  2  12    NaN"
      ]
     },
     "metadata": {},
     "output_type": "display_data"
    },
    {
     "name": "stdout",
     "output_type": "stream",
     "text": [
      "\n",
      "replace=\n"
     ]
    },
    {
     "data": {
      "text/html": [
       "<div>\n",
       "<style scoped>\n",
       "    .dataframe tbody tr th:only-of-type {\n",
       "        vertical-align: middle;\n",
       "    }\n",
       "\n",
       "    .dataframe tbody tr th {\n",
       "        vertical-align: top;\n",
       "    }\n",
       "\n",
       "    .dataframe thead th {\n",
       "        text-align: right;\n",
       "    }\n",
       "</style>\n",
       "<table border=\"1\" class=\"dataframe\">\n",
       "  <thead>\n",
       "    <tr style=\"text-align: right;\">\n",
       "      <th></th>\n",
       "      <th>a</th>\n",
       "      <th>b</th>\n",
       "      <th>c</th>\n",
       "    </tr>\n",
       "  </thead>\n",
       "  <tbody>\n",
       "    <tr>\n",
       "      <th>0</th>\n",
       "      <td>0</td>\n",
       "      <td>10</td>\n",
       "      <td>100.0</td>\n",
       "    </tr>\n",
       "    <tr>\n",
       "      <th>1</th>\n",
       "      <td>1</td>\n",
       "      <td>11</td>\n",
       "      <td>110.0</td>\n",
       "    </tr>\n",
       "    <tr>\n",
       "      <th>2</th>\n",
       "      <td>2</td>\n",
       "      <td>12</td>\n",
       "      <td>0.0</td>\n",
       "    </tr>\n",
       "    <tr>\n",
       "      <th>3</th>\n",
       "      <td>3</td>\n",
       "      <td>13</td>\n",
       "      <td>130.0</td>\n",
       "    </tr>\n",
       "    <tr>\n",
       "      <th>4</th>\n",
       "      <td>4</td>\n",
       "      <td>14</td>\n",
       "      <td>140.0</td>\n",
       "    </tr>\n",
       "    <tr>\n",
       "      <th>5</th>\n",
       "      <td>5</td>\n",
       "      <td>15</td>\n",
       "      <td>0.0</td>\n",
       "    </tr>\n",
       "  </tbody>\n",
       "</table>\n",
       "</div>"
      ],
      "text/plain": [
       "   a   b      c\n",
       "0  0  10  100.0\n",
       "1  1  11  110.0\n",
       "2  2  12    0.0\n",
       "3  3  13  130.0\n",
       "4  4  14  140.0\n",
       "5  5  15    0.0"
      ]
     },
     "metadata": {},
     "output_type": "display_data"
    }
   ],
   "source": [
    "# Method\n",
    "# DataFrame 這個 類別 中有許多已經定義的 方法，例如 .drop() (刪除 rows 或 columns)，.head() (取部分資料)，.replace() (取代特定條件下的資料) ...\n",
    "# 剛剛已經用 pd.DataFrame() 建立了 df 這個 DataFrame object，此時就能夠使用 DataFrame 類別 自帶的方法\n",
    "# Q1.如何知道有哪些 屬性？ 上網查文件！\n",
    "# Q2.如何使用 方法？ 用 . 方法名稱() 來啟動\n",
    "\n",
    "print(type(df_2.drop))\n",
    "print(type(df_2.head))\n",
    "print(type(df_2.replace))\n",
    "\n",
    "print('\\ndrop=')\n",
    "display(df_2.drop(index=0))\n",
    "print('\\nhead=')\n",
    "display(df_2.head(3))\n",
    "print('\\nreplace=')\n",
    "display(df_2.replace({'c': {np.nan: 0}}))"
   ]
  },
  {
   "cell_type": "markdown",
   "metadata": {
    "colab_type": "text",
    "id": "lB7hgQtkqUR7"
   },
   "source": [
    "## Method v.s. Function\n"
   ]
  },
  {
   "cell_type": "code",
   "execution_count": 6,
   "metadata": {
    "colab": {
     "autoexec": {
      "startup": false,
      "wait_interval": 0
     },
     "base_uri": "https://localhost:8080/",
     "height": 51
    },
    "colab_type": "code",
    "executionInfo": {
     "elapsed": 632,
     "status": "ok",
     "timestamp": 1530663388518,
     "user": {
      "displayName": "李雅庭",
      "photoUrl": "//lh3.googleusercontent.com/-FMmqLpFWdh4/AAAAAAAAAAI/AAAAAAAAAEA/Q8gctKy4m-I/s50-c-k-no/photo.jpg",
      "userId": "107216197418371220980"
     },
     "user_tz": -480
    },
    "id": "3170VXsRqT1I",
    "outputId": "28f638a7-bada-42da-c47c-c8b334cc130b"
   },
   "outputs": [
    {
     "name": "stdout",
     "output_type": "stream",
     "text": [
      "<class 'function'>\n",
      "<class 'method'>\n"
     ]
    }
   ],
   "source": [
    "# 使用 type() 來觀察 Method 和 Function 所顯示的型態\n",
    "print(type(pd.isna))\n",
    "print(type(pd.DataFrame().isna))\n"
   ]
  },
  {
   "cell_type": "markdown",
   "metadata": {
    "colab_type": "text",
    "id": "7W1aHJ4jbEVq"
   },
   "source": [
    "### Method (方法)\n",
    "\n",
    "* Method 跟 Function 很相似，而差別在於 Method 定義在某個 Class 中，要使用 Method 時必須先建立 Object，且 Method  是針對 Object 做處理。例如，Class 人類，Object 小明，Attribute 身高(cm)，體重(kg)，Method 量體重\n",
    "* 實例：偵測是否有 NA ，[pandas.DataFrame.isna](https://pandas.pydata.org/pandas-docs/stable/generated/pandas.DataFrame.isna.html#pandas.DataFrame.isna)\n",
    "* 文件連結：[Difference Between Method and Function in Python](https://data-flair.training/blogs/python-method-vs-function/)\n"
   ]
  },
  {
   "cell_type": "code",
   "execution_count": 7,
   "metadata": {
    "colab": {
     "autoexec": {
      "startup": false,
      "wait_interval": 0
     },
     "base_uri": "https://localhost:8080/",
     "height": 453
    },
    "colab_type": "code",
    "executionInfo": {
     "elapsed": 811,
     "status": "ok",
     "timestamp": 1530663389453,
     "user": {
      "displayName": "李雅庭",
      "photoUrl": "//lh3.googleusercontent.com/-FMmqLpFWdh4/AAAAAAAAAAI/AAAAAAAAAEA/Q8gctKy4m-I/s50-c-k-no/photo.jpg",
      "userId": "107216197418371220980"
     },
     "user_tz": -480
    },
    "id": "f0AWrPNFcYaC",
    "outputId": "f92e6a55-c2a7-4670-c829-563784a6e9f2"
   },
   "outputs": [
    {
     "data": {
      "text/html": [
       "<div>\n",
       "<style scoped>\n",
       "    .dataframe tbody tr th:only-of-type {\n",
       "        vertical-align: middle;\n",
       "    }\n",
       "\n",
       "    .dataframe tbody tr th {\n",
       "        vertical-align: top;\n",
       "    }\n",
       "\n",
       "    .dataframe thead th {\n",
       "        text-align: right;\n",
       "    }\n",
       "</style>\n",
       "<table border=\"1\" class=\"dataframe\">\n",
       "  <thead>\n",
       "    <tr style=\"text-align: right;\">\n",
       "      <th></th>\n",
       "      <th>a</th>\n",
       "      <th>b</th>\n",
       "      <th>c</th>\n",
       "    </tr>\n",
       "  </thead>\n",
       "  <tbody>\n",
       "    <tr>\n",
       "      <th>0</th>\n",
       "      <td>0</td>\n",
       "      <td>10</td>\n",
       "      <td>100.0</td>\n",
       "    </tr>\n",
       "    <tr>\n",
       "      <th>1</th>\n",
       "      <td>1</td>\n",
       "      <td>11</td>\n",
       "      <td>110.0</td>\n",
       "    </tr>\n",
       "    <tr>\n",
       "      <th>2</th>\n",
       "      <td>2</td>\n",
       "      <td>12</td>\n",
       "      <td>NaN</td>\n",
       "    </tr>\n",
       "    <tr>\n",
       "      <th>3</th>\n",
       "      <td>3</td>\n",
       "      <td>13</td>\n",
       "      <td>130.0</td>\n",
       "    </tr>\n",
       "    <tr>\n",
       "      <th>4</th>\n",
       "      <td>4</td>\n",
       "      <td>14</td>\n",
       "      <td>140.0</td>\n",
       "    </tr>\n",
       "    <tr>\n",
       "      <th>5</th>\n",
       "      <td>5</td>\n",
       "      <td>15</td>\n",
       "      <td>NaN</td>\n",
       "    </tr>\n",
       "  </tbody>\n",
       "</table>\n",
       "</div>"
      ],
      "text/plain": [
       "   a   b      c\n",
       "0  0  10  100.0\n",
       "1  1  11  110.0\n",
       "2  2  12    NaN\n",
       "3  3  13  130.0\n",
       "4  4  14  140.0\n",
       "5  5  15    NaN"
      ]
     },
     "metadata": {},
     "output_type": "display_data"
    },
    {
     "data": {
      "text/html": [
       "<div>\n",
       "<style scoped>\n",
       "    .dataframe tbody tr th:only-of-type {\n",
       "        vertical-align: middle;\n",
       "    }\n",
       "\n",
       "    .dataframe tbody tr th {\n",
       "        vertical-align: top;\n",
       "    }\n",
       "\n",
       "    .dataframe thead th {\n",
       "        text-align: right;\n",
       "    }\n",
       "</style>\n",
       "<table border=\"1\" class=\"dataframe\">\n",
       "  <thead>\n",
       "    <tr style=\"text-align: right;\">\n",
       "      <th></th>\n",
       "      <th>a</th>\n",
       "      <th>b</th>\n",
       "      <th>c</th>\n",
       "    </tr>\n",
       "  </thead>\n",
       "  <tbody>\n",
       "    <tr>\n",
       "      <th>0</th>\n",
       "      <td>False</td>\n",
       "      <td>False</td>\n",
       "      <td>False</td>\n",
       "    </tr>\n",
       "    <tr>\n",
       "      <th>1</th>\n",
       "      <td>False</td>\n",
       "      <td>False</td>\n",
       "      <td>False</td>\n",
       "    </tr>\n",
       "    <tr>\n",
       "      <th>2</th>\n",
       "      <td>False</td>\n",
       "      <td>False</td>\n",
       "      <td>True</td>\n",
       "    </tr>\n",
       "    <tr>\n",
       "      <th>3</th>\n",
       "      <td>False</td>\n",
       "      <td>False</td>\n",
       "      <td>False</td>\n",
       "    </tr>\n",
       "    <tr>\n",
       "      <th>4</th>\n",
       "      <td>False</td>\n",
       "      <td>False</td>\n",
       "      <td>False</td>\n",
       "    </tr>\n",
       "    <tr>\n",
       "      <th>5</th>\n",
       "      <td>False</td>\n",
       "      <td>False</td>\n",
       "      <td>True</td>\n",
       "    </tr>\n",
       "  </tbody>\n",
       "</table>\n",
       "</div>"
      ],
      "text/plain": [
       "       a      b      c\n",
       "0  False  False  False\n",
       "1  False  False  False\n",
       "2  False  False   True\n",
       "3  False  False  False\n",
       "4  False  False  False\n",
       "5  False  False   True"
      ]
     },
     "metadata": {},
     "output_type": "display_data"
    }
   ],
   "source": [
    "# Method\n",
    "df_2 = pd.DataFrame({'a':[0, 1, 2, 3, 4, 5], 'b':[10, 11, 12, 13, 14, 15], 'c':[100, 110, np.nan, 130 ,140 ,np.nan]})\n",
    "display(df_2)\n",
    "display(df_2.isna())\n"
   ]
  },
  {
   "cell_type": "markdown",
   "metadata": {
    "colab_type": "text",
    "id": "ZSSWNEiWcLrS"
   },
   "source": [
    "\n",
    "### Function (函式)\n",
    "\n",
    "* 使用 Function 時，不需要建立 Object，也不只是針對特定 Object 做處理。只要符合 Function 的參數定義，則可以使用。例如，量體重，以 Method 量體重 只能給 Class 人類 的 Object 使用，而 Function 量體重 則可以 給 物品，人類，動物等 各種Object 使用\n",
    "* 實例：偵測任何 array-like object 是否有 NA ，[pandas.isna](https://pandas.pydata.org/pandas-docs/stable/generated/pandas.isna.html#pandas.isna)\n",
    "* 文件連結：[Difference Between Method and Function in Python](https://data-flair.training/blogs/python-method-vs-function/)"
   ]
  },
  {
   "cell_type": "code",
   "execution_count": 8,
   "metadata": {
    "colab": {
     "autoexec": {
      "startup": false,
      "wait_interval": 0
     },
     "base_uri": "https://localhost:8080/",
     "height": 309
    },
    "colab_type": "code",
    "executionInfo": {
     "elapsed": 734,
     "status": "ok",
     "timestamp": 1530663390743,
     "user": {
      "displayName": "李雅庭",
      "photoUrl": "//lh3.googleusercontent.com/-FMmqLpFWdh4/AAAAAAAAAAI/AAAAAAAAAEA/Q8gctKy4m-I/s50-c-k-no/photo.jpg",
      "userId": "107216197418371220980"
     },
     "user_tz": -480
    },
    "id": "zdEY8UuicO6L",
    "outputId": "7b60fecc-5fd9-43a3-c93b-1bffa77c5a6c"
   },
   "outputs": [
    {
     "data": {
      "text/plain": [
       "False"
      ]
     },
     "metadata": {},
     "output_type": "display_data"
    },
    {
     "data": {
      "text/plain": [
       "True"
      ]
     },
     "metadata": {},
     "output_type": "display_data"
    },
    {
     "data": {
      "text/plain": [
       "0    False\n",
       "1    False\n",
       "2    False\n",
       "3     True\n",
       "dtype: bool"
      ]
     },
     "metadata": {},
     "output_type": "display_data"
    },
    {
     "data": {
      "text/plain": [
       "array([False, False, False,  True])"
      ]
     },
     "metadata": {},
     "output_type": "display_data"
    },
    {
     "data": {
      "text/html": [
       "<div>\n",
       "<style scoped>\n",
       "    .dataframe tbody tr th:only-of-type {\n",
       "        vertical-align: middle;\n",
       "    }\n",
       "\n",
       "    .dataframe tbody tr th {\n",
       "        vertical-align: top;\n",
       "    }\n",
       "\n",
       "    .dataframe thead th {\n",
       "        text-align: right;\n",
       "    }\n",
       "</style>\n",
       "<table border=\"1\" class=\"dataframe\">\n",
       "  <thead>\n",
       "    <tr style=\"text-align: right;\">\n",
       "      <th></th>\n",
       "      <th>0</th>\n",
       "    </tr>\n",
       "  </thead>\n",
       "  <tbody>\n",
       "    <tr>\n",
       "      <th>0</th>\n",
       "      <td>False</td>\n",
       "    </tr>\n",
       "    <tr>\n",
       "      <th>1</th>\n",
       "      <td>False</td>\n",
       "    </tr>\n",
       "    <tr>\n",
       "      <th>2</th>\n",
       "      <td>False</td>\n",
       "    </tr>\n",
       "    <tr>\n",
       "      <th>3</th>\n",
       "      <td>True</td>\n",
       "    </tr>\n",
       "  </tbody>\n",
       "</table>\n",
       "</div>"
      ],
      "text/plain": [
       "       0\n",
       "0  False\n",
       "1  False\n",
       "2  False\n",
       "3   True"
      ]
     },
     "metadata": {},
     "output_type": "display_data"
    }
   ],
   "source": [
    "# Function\n",
    "\n",
    "# create series object, numpy array object, dataframe object\n",
    "s = pd.Series([1, 2, 3, np.nan])\n",
    "arr = np.array([1, 2, 3, np.nan])\n",
    "df = pd.DataFrame([1, 2, 3, np.nan])\n",
    "\n",
    "display(pd.isna(1.2))\n",
    "display(pd.isna(np.nan))\n",
    "display(pd.isna(s))\n",
    "display(pd.isna(arr))\n",
    "display(pd.isna(df))"
   ]
  },
  {
   "cell_type": "markdown",
   "metadata": {
    "colab_type": "text",
    "id": "PdA1kBLlqIhx"
   },
   "source": [
    "## Series & DataFrame\n"
   ]
  },
  {
   "cell_type": "markdown",
   "metadata": {
    "colab_type": "text",
    "id": "31FKZwJGdSwq"
   },
   "source": [
    "### Series\n",
    "\n",
    "* 文件連結：[Series](https://pandas.pydata.org/pandas-docs/stable/dsintro.html)\n",
    "\n",
    "* 一維標籤陣列 (one-dimensional labeled array)\n",
    "    * axis labels 也就是 index\n",
    "\n",
    "* 可包含多種資料類別 (`data type：integers, strings, floating point numbers, Python objects, etc.`)\n",
    "\n",
    "* 如何建立一個 Series\n",
    "    * `s = pandas.Series(data=None, index=None, name=Nono, dtype=None)`\n",
    "    * 其中 data 可以是：\n",
    "        1. a Python `dict`\n",
    "        1. an `ndarray`\n",
    "            *  `在設定 index 時，data 和 index 長度必須相同。如果沒有設定 index，則預設 index為 [0 ～ data長度-1] 的數列`\n",
    "                \n",
    "        1. a scalar value (純量 ex.  5)\n",
    "            * 可設定 index，會自動填入重複的數值直至 index 長度為止"
   ]
  },
  {
   "cell_type": "code",
   "execution_count": 9,
   "metadata": {
    "colab": {
     "autoexec": {
      "startup": false,
      "wait_interval": 0
     },
     "base_uri": "https://localhost:8080/",
     "height": 765
    },
    "colab_type": "code",
    "executionInfo": {
     "elapsed": 704,
     "status": "ok",
     "timestamp": 1530663412459,
     "user": {
      "displayName": "李雅庭",
      "photoUrl": "//lh3.googleusercontent.com/-FMmqLpFWdh4/AAAAAAAAAAI/AAAAAAAAAEA/Q8gctKy4m-I/s50-c-k-no/photo.jpg",
      "userId": "107216197418371220980"
     },
     "user_tz": -480
    },
    "id": "rbC5tRG8qH3D",
    "outputId": "cfa874c2-f4ca-4cef-acfe-305b7d1eaf0b"
   },
   "outputs": [
    {
     "name": "stdout",
     "output_type": "stream",
     "text": [
      "a    0.163961\n",
      "b   -0.028261\n",
      "c    0.271515\n",
      "d   -0.681072\n",
      "e    0.806622\n",
      "dtype: float64\n",
      "\n",
      "====================================\n",
      "0    0.823151\n",
      "1    2.038043\n",
      "2   -0.170674\n",
      "3   -1.529454\n",
      "4   -0.517935\n",
      "dtype: float64\n",
      "\n",
      "====================================\n",
      "b     1\n",
      "a     0\n",
      "d     2\n",
      "c     5\n",
      "e    10\n",
      "dtype: int64\n",
      "\n",
      "====================================\n",
      "a    5.0\n",
      "b    5.0\n",
      "c    5.0\n",
      "d    5.0\n",
      "e    5.0\n",
      "dtype: float64\n",
      "0    5.0\n",
      "dtype: float64\n",
      "\n",
      "====================================\n",
      "a    1\n",
      "b    2\n",
      "c    3\n",
      "d    4\n",
      "e    5\n",
      "dtype: int64\n",
      "1\n",
      "d    4\n",
      "e    5\n",
      "dtype: int64\n"
     ]
    }
   ],
   "source": [
    "# Series\n",
    "\n",
    "# 建立方法1. \"data\" from ndarray\n",
    "\n",
    "# 定義 index\n",
    "s = pd.Series(np.random.randn(5), index=['a', 'b', 'c', 'd', 'e'])\n",
    "print(s)\n",
    "\n",
    "print()\n",
    "print('====================================')\n",
    "\n",
    "# 用預設 index\n",
    "s_2 = pd.Series(np.random.randn(5))\n",
    "print(s_2)\n",
    "\n",
    "print()\n",
    "print('====================================')\n",
    "\n",
    "# 建立方法2. \"data\" from dict\n",
    "d = {'b' : 1, 'a' : 0, 'd' : 2, 'c':5, 'e':10}\n",
    "s = pd.Series(d)\n",
    "print(s)\n",
    "\n",
    "print()\n",
    "print('====================================')\n",
    "\n",
    "# 建立方法3. \"data\" from scalar value\n",
    "s = pd.Series(5., index=['a', 'b', 'c', 'd', 'e'])\n",
    "s_2 = pd.Series(5.)\n",
    "print(s)\n",
    "print(s_2)\n",
    "\n",
    "print()\n",
    "print('====================================')\n",
    "\n",
    "# 利用 index 取值\n",
    "s = pd.Series([1, 2, 3, 4, 5], index=['a', 'b', 'c', 'd' , 'e'])\n",
    "print(s)\n",
    "\n",
    "# 取得第一個位置 (index= 'a') 的值\n",
    "print(s['a'])\n",
    "\n",
    "# 取出大於平均值的資料\n",
    "print(s[s > s.mean()])"
   ]
  },
  {
   "cell_type": "markdown",
   "metadata": {
    "colab_type": "text",
    "id": "iqH2TG1aGkwb"
   },
   "source": [
    "### DataFrame\n",
    "* 文件連結：[DataFrame](https://pandas.pydata.org/pandas-docs/stable/dsintro.html)\n",
    "* 二維標籤資料 (2-dimensional labeled data)\n",
    "    * row index\n",
    "    * column label\n",
    "* 如何建立一個 DataFrame\n",
    "    * `df = pandas.DataFrame(data=None, index=None, columns=None, dtype=None)`\n",
    "    * 其中 data 可以是：\n",
    "      1.  Series\n",
    "      1. list\n",
    "      1. numpy.array\n",
    "      1. dict of Series\n",
    "      1. dict of ndarrays / lists\n",
    "      1. 2-D numpy.ndarray"
   ]
  },
  {
   "cell_type": "code",
   "execution_count": 10,
   "metadata": {
    "colab": {
     "autoexec": {
      "startup": false,
      "wait_interval": 0
     },
     "base_uri": "https://localhost:8080/",
     "height": 1123
    },
    "colab_type": "code",
    "executionInfo": {
     "elapsed": 909,
     "status": "ok",
     "timestamp": 1530663413920,
     "user": {
      "displayName": "李雅庭",
      "photoUrl": "//lh3.googleusercontent.com/-FMmqLpFWdh4/AAAAAAAAAAI/AAAAAAAAAEA/Q8gctKy4m-I/s50-c-k-no/photo.jpg",
      "userId": "107216197418371220980"
     },
     "user_tz": -480
    },
    "id": "9jjM8sLKkcF3",
    "outputId": "1483b059-a5b8-44a6-a747-7a979d09de1f"
   },
   "outputs": [
    {
     "data": {
      "text/html": [
       "<div>\n",
       "<style scoped>\n",
       "    .dataframe tbody tr th:only-of-type {\n",
       "        vertical-align: middle;\n",
       "    }\n",
       "\n",
       "    .dataframe tbody tr th {\n",
       "        vertical-align: top;\n",
       "    }\n",
       "\n",
       "    .dataframe thead th {\n",
       "        text-align: right;\n",
       "    }\n",
       "</style>\n",
       "<table border=\"1\" class=\"dataframe\">\n",
       "  <thead>\n",
       "    <tr style=\"text-align: right;\">\n",
       "      <th></th>\n",
       "      <th>one</th>\n",
       "    </tr>\n",
       "  </thead>\n",
       "  <tbody>\n",
       "    <tr>\n",
       "      <th>a</th>\n",
       "      <td>1</td>\n",
       "    </tr>\n",
       "    <tr>\n",
       "      <th>b</th>\n",
       "      <td>2</td>\n",
       "    </tr>\n",
       "    <tr>\n",
       "      <th>c</th>\n",
       "      <td>3</td>\n",
       "    </tr>\n",
       "    <tr>\n",
       "      <th>d</th>\n",
       "      <td>4</td>\n",
       "    </tr>\n",
       "  </tbody>\n",
       "</table>\n",
       "</div>"
      ],
      "text/plain": [
       "   one\n",
       "a    1\n",
       "b    2\n",
       "c    3\n",
       "d    4"
      ]
     },
     "metadata": {},
     "output_type": "display_data"
    },
    {
     "name": "stdout",
     "output_type": "stream",
     "text": [
      "\n",
      "=========================================\n"
     ]
    },
    {
     "data": {
      "text/html": [
       "<div>\n",
       "<style scoped>\n",
       "    .dataframe tbody tr th:only-of-type {\n",
       "        vertical-align: middle;\n",
       "    }\n",
       "\n",
       "    .dataframe tbody tr th {\n",
       "        vertical-align: top;\n",
       "    }\n",
       "\n",
       "    .dataframe thead th {\n",
       "        text-align: right;\n",
       "    }\n",
       "</style>\n",
       "<table border=\"1\" class=\"dataframe\">\n",
       "  <thead>\n",
       "    <tr style=\"text-align: right;\">\n",
       "      <th></th>\n",
       "      <th>one</th>\n",
       "    </tr>\n",
       "  </thead>\n",
       "  <tbody>\n",
       "    <tr>\n",
       "      <th>a</th>\n",
       "      <td>1</td>\n",
       "    </tr>\n",
       "    <tr>\n",
       "      <th>b</th>\n",
       "      <td>2</td>\n",
       "    </tr>\n",
       "    <tr>\n",
       "      <th>c</th>\n",
       "      <td>3</td>\n",
       "    </tr>\n",
       "    <tr>\n",
       "      <th>d</th>\n",
       "      <td>4</td>\n",
       "    </tr>\n",
       "  </tbody>\n",
       "</table>\n",
       "</div>"
      ],
      "text/plain": [
       "   one\n",
       "a    1\n",
       "b    2\n",
       "c    3\n",
       "d    4"
      ]
     },
     "metadata": {},
     "output_type": "display_data"
    },
    {
     "name": "stdout",
     "output_type": "stream",
     "text": [
      "\n",
      "=========================================\n"
     ]
    },
    {
     "data": {
      "text/html": [
       "<div>\n",
       "<style scoped>\n",
       "    .dataframe tbody tr th:only-of-type {\n",
       "        vertical-align: middle;\n",
       "    }\n",
       "\n",
       "    .dataframe tbody tr th {\n",
       "        vertical-align: top;\n",
       "    }\n",
       "\n",
       "    .dataframe thead th {\n",
       "        text-align: right;\n",
       "    }\n",
       "</style>\n",
       "<table border=\"1\" class=\"dataframe\">\n",
       "  <thead>\n",
       "    <tr style=\"text-align: right;\">\n",
       "      <th></th>\n",
       "      <th>one</th>\n",
       "    </tr>\n",
       "  </thead>\n",
       "  <tbody>\n",
       "    <tr>\n",
       "      <th>a</th>\n",
       "      <td>1</td>\n",
       "    </tr>\n",
       "    <tr>\n",
       "      <th>b</th>\n",
       "      <td>2</td>\n",
       "    </tr>\n",
       "    <tr>\n",
       "      <th>c</th>\n",
       "      <td>3</td>\n",
       "    </tr>\n",
       "    <tr>\n",
       "      <th>d</th>\n",
       "      <td>4</td>\n",
       "    </tr>\n",
       "  </tbody>\n",
       "</table>\n",
       "</div>"
      ],
      "text/plain": [
       "   one\n",
       "a    1\n",
       "b    2\n",
       "c    3\n",
       "d    4"
      ]
     },
     "metadata": {},
     "output_type": "display_data"
    },
    {
     "name": "stdout",
     "output_type": "stream",
     "text": [
      "\n",
      "=========================================\n"
     ]
    },
    {
     "data": {
      "text/html": [
       "<div>\n",
       "<style scoped>\n",
       "    .dataframe tbody tr th:only-of-type {\n",
       "        vertical-align: middle;\n",
       "    }\n",
       "\n",
       "    .dataframe tbody tr th {\n",
       "        vertical-align: top;\n",
       "    }\n",
       "\n",
       "    .dataframe thead th {\n",
       "        text-align: right;\n",
       "    }\n",
       "</style>\n",
       "<table border=\"1\" class=\"dataframe\">\n",
       "  <thead>\n",
       "    <tr style=\"text-align: right;\">\n",
       "      <th></th>\n",
       "      <th>one</th>\n",
       "      <th>two</th>\n",
       "    </tr>\n",
       "  </thead>\n",
       "  <tbody>\n",
       "    <tr>\n",
       "      <th>a</th>\n",
       "      <td>1.0</td>\n",
       "      <td>5</td>\n",
       "    </tr>\n",
       "    <tr>\n",
       "      <th>b</th>\n",
       "      <td>2.0</td>\n",
       "      <td>6</td>\n",
       "    </tr>\n",
       "    <tr>\n",
       "      <th>c</th>\n",
       "      <td>3.0</td>\n",
       "      <td>7</td>\n",
       "    </tr>\n",
       "    <tr>\n",
       "      <th>d</th>\n",
       "      <td>NaN</td>\n",
       "      <td>8</td>\n",
       "    </tr>\n",
       "  </tbody>\n",
       "</table>\n",
       "</div>"
      ],
      "text/plain": [
       "   one  two\n",
       "a  1.0    5\n",
       "b  2.0    6\n",
       "c  3.0    7\n",
       "d  NaN    8"
      ]
     },
     "metadata": {},
     "output_type": "display_data"
    },
    {
     "name": "stdout",
     "output_type": "stream",
     "text": [
      "\n",
      "=========================================\n"
     ]
    },
    {
     "data": {
      "text/html": [
       "<div>\n",
       "<style scoped>\n",
       "    .dataframe tbody tr th:only-of-type {\n",
       "        vertical-align: middle;\n",
       "    }\n",
       "\n",
       "    .dataframe tbody tr th {\n",
       "        vertical-align: top;\n",
       "    }\n",
       "\n",
       "    .dataframe thead th {\n",
       "        text-align: right;\n",
       "    }\n",
       "</style>\n",
       "<table border=\"1\" class=\"dataframe\">\n",
       "  <thead>\n",
       "    <tr style=\"text-align: right;\">\n",
       "      <th></th>\n",
       "      <th>one</th>\n",
       "      <th>two</th>\n",
       "    </tr>\n",
       "  </thead>\n",
       "  <tbody>\n",
       "    <tr>\n",
       "      <th>a</th>\n",
       "      <td>1.0</td>\n",
       "      <td>5</td>\n",
       "    </tr>\n",
       "    <tr>\n",
       "      <th>b</th>\n",
       "      <td>2.0</td>\n",
       "      <td>6</td>\n",
       "    </tr>\n",
       "    <tr>\n",
       "      <th>c</th>\n",
       "      <td>3.0</td>\n",
       "      <td>7</td>\n",
       "    </tr>\n",
       "    <tr>\n",
       "      <th>d</th>\n",
       "      <td>NaN</td>\n",
       "      <td>8</td>\n",
       "    </tr>\n",
       "  </tbody>\n",
       "</table>\n",
       "</div>"
      ],
      "text/plain": [
       "   one  two\n",
       "a  1.0    5\n",
       "b  2.0    6\n",
       "c  3.0    7\n",
       "d  NaN    8"
      ]
     },
     "metadata": {},
     "output_type": "display_data"
    },
    {
     "name": "stdout",
     "output_type": "stream",
     "text": [
      "\n",
      "=========================================\n"
     ]
    },
    {
     "data": {
      "text/html": [
       "<div>\n",
       "<style scoped>\n",
       "    .dataframe tbody tr th:only-of-type {\n",
       "        vertical-align: middle;\n",
       "    }\n",
       "\n",
       "    .dataframe tbody tr th {\n",
       "        vertical-align: top;\n",
       "    }\n",
       "\n",
       "    .dataframe thead th {\n",
       "        text-align: right;\n",
       "    }\n",
       "</style>\n",
       "<table border=\"1\" class=\"dataframe\">\n",
       "  <thead>\n",
       "    <tr style=\"text-align: right;\">\n",
       "      <th></th>\n",
       "      <th>one</th>\n",
       "      <th>two</th>\n",
       "    </tr>\n",
       "  </thead>\n",
       "  <tbody>\n",
       "    <tr>\n",
       "      <th>a</th>\n",
       "      <td>1</td>\n",
       "      <td>5</td>\n",
       "    </tr>\n",
       "    <tr>\n",
       "      <th>b</th>\n",
       "      <td>2</td>\n",
       "      <td>6</td>\n",
       "    </tr>\n",
       "    <tr>\n",
       "      <th>c</th>\n",
       "      <td>3</td>\n",
       "      <td>7</td>\n",
       "    </tr>\n",
       "    <tr>\n",
       "      <th>d</th>\n",
       "      <td>4</td>\n",
       "      <td>8</td>\n",
       "    </tr>\n",
       "  </tbody>\n",
       "</table>\n",
       "</div>"
      ],
      "text/plain": [
       "   one  two\n",
       "a    1    5\n",
       "b    2    6\n",
       "c    3    7\n",
       "d    4    8"
      ]
     },
     "metadata": {},
     "output_type": "display_data"
    }
   ],
   "source": [
    "# 建立方法1. Series\n",
    "s = pd.Series([1, 2, 3, 4], index=['a', 'b', 'c', 'd'], name='one')\n",
    "df = pd.DataFrame(s)\n",
    "display(df)\n",
    "print()\n",
    "print('=========================================')\n",
    "\n",
    "# 建立方法2. list\n",
    "df = pd.DataFrame([1, 2, 3, 4], index=['a', 'b', 'c', 'd'], columns=['one'])\n",
    "display(df)\n",
    "print()\n",
    "print('=========================================')\n",
    "\n",
    "# 建立方法3. numpy array\n",
    "arr = np.array([1, 2, 3, 4])\n",
    "df = pd.DataFrame(arr, index=['a', 'b', 'c', 'd'], columns=['one'])\n",
    "display(df)\n",
    "print()\n",
    "print('=========================================')\n",
    "\n",
    "# 建立方法4. \"data\" from dict of Series or dicts\n",
    "\n",
    "# 如果 dict 中各個 Series 的資料長度不同，則會以資料最多者的 index 為 DataFrame 的 index，並將長度不足者補值 NaN\n",
    "d = {'one' : pd.Series([1, 2, 3], index=['a', 'b', 'c']),\n",
    "     'two' : pd.Series([5, 6, 7, 8], index=['a', 'b', 'c', 'd'])}\n",
    "df = pd.DataFrame(d)\n",
    "display(df)\n",
    "print()\n",
    "print('=========================================')\n",
    "\n",
    "# 建立方法5. \"data\" from dict of ndarrays / lists\n",
    "\n",
    "# 如果 dict 中各個 ndarrays / lists 資料長度不同，則會出現錯誤訊息，如下：\n",
    "# 錯誤寫法：\n",
    "# d = {'one' : [1, 2, 3],\n",
    "#      'two' : [5, 6, 7, 8]}\n",
    "# (錯誤訊息) Shape of passed values is (2, 3), indices imply (2, 4)\n",
    "\n",
    "# 正確寫法：\n",
    "d = {'one' : [1, 2, 3, np.nan],\n",
    "     'two' : [5, 6, 7, 8]}\n",
    "df = pd.DataFrame(d, index=['a', 'b', 'c', 'd'])\n",
    "display(df)\n",
    "print()\n",
    "print('=========================================')\n",
    "\n",
    "# 建立方法6. 2-D numpy.ndarray\n",
    "arr_2D = np.array([[1, 5], [2, 6], [3, 7], [4, 8],])\n",
    "df = pd.DataFrame(arr_2D, index=['a', 'b', 'c', 'd'], columns=['one', 'two'])\n",
    "display(df)"
   ]
  },
  {
   "cell_type": "markdown",
   "metadata": {
    "colab_type": "text",
    "id": "Pvznn-qqO29c"
   },
   "source": [
    "### `.copy()`：複製資料"
   ]
  },
  {
   "cell_type": "markdown",
   "metadata": {
    "colab_type": "text",
    "id": "EAUH3l0Ws51Q"
   },
   "source": [
    "在 Python 中，有些物件如果在不使用 `.copy()` method 複製的情況下，直接找一個物件來建立新物件時，兩者的記憶體位置將是一樣的，所以更改一個物件時，將使得其他物件一起受到更改，被稱為可變型別 (Mutable Type)，在操作時要多加注意。\n",
    "\n",
    "Python 原生的可變形別為：\n",
    "\n",
    "* `list`\n",
    "* `dict`\n",
    "* `set`\n",
    "\n",
    "在 Pandas 中，`DataFrame` 與 `Series` 也是可變形別。\n",
    "\n",
    "要得到一個物件的記憶體位址，可以透過 `hex(id(object))` 來獲得。"
   ]
  },
  {
   "cell_type": "code",
   "execution_count": 11,
   "metadata": {
    "colab": {
     "autoexec": {
      "startup": false,
      "wait_interval": 0
     },
     "base_uri": "https://localhost:8080/",
     "height": 34
    },
    "colab_type": "code",
    "executionInfo": {
     "elapsed": 704,
     "status": "ok",
     "timestamp": 1530865985930,
     "user": {
      "displayName": "黃種平",
      "photoUrl": "//lh3.googleusercontent.com/-ay6h3dmyraY/AAAAAAAAAAI/AAAAAAAADhg/t8F2AGa00fc/s50-c-k-no/photo.jpg",
      "userId": "114874362450166068432"
     },
     "user_tz": -480
    },
    "id": "s8NWSqMQt65k",
    "outputId": "ec77fac7-4a7f-4d8d-c9fa-dbcbdc87b509"
   },
   "outputs": [
    {
     "data": {
      "text/plain": [
       "[0, 1, 2, 3, 4, 5, 6, 7, 8, 9]"
      ]
     },
     "execution_count": 11,
     "metadata": {},
     "output_type": "execute_result"
    }
   ],
   "source": [
    "# 我們先來觀察一下原生物件中，可變型別的特性\n",
    "# list\n",
    "l1 = list(range(10))\n",
    "l1"
   ]
  },
  {
   "cell_type": "code",
   "execution_count": 12,
   "metadata": {
    "colab": {
     "autoexec": {
      "startup": false,
      "wait_interval": 0
     },
     "base_uri": "https://localhost:8080/",
     "height": 34
    },
    "colab_type": "code",
    "executionInfo": {
     "elapsed": 1448,
     "status": "ok",
     "timestamp": 1530865992640,
     "user": {
      "displayName": "黃種平",
      "photoUrl": "//lh3.googleusercontent.com/-ay6h3dmyraY/AAAAAAAAAAI/AAAAAAAADhg/t8F2AGa00fc/s50-c-k-no/photo.jpg",
      "userId": "114874362450166068432"
     },
     "user_tz": -480
    },
    "id": "KNGF4VYHuO8-",
    "outputId": "00c5557b-2a65-47c9-83e6-9ae38aa21b11"
   },
   "outputs": [
    {
     "data": {
      "text/plain": [
       "[0, 1, 2, 3, 4, 5, 6, 7, 8, 9]"
      ]
     },
     "execution_count": 12,
     "metadata": {},
     "output_type": "execute_result"
    }
   ],
   "source": [
    "# 直接參照一個物件來建立新物件\n",
    "l2 = l1\n",
    "l2"
   ]
  },
  {
   "cell_type": "code",
   "execution_count": 13,
   "metadata": {
    "colab": {
     "autoexec": {
      "startup": false,
      "wait_interval": 0
     },
     "base_uri": "https://localhost:8080/",
     "height": 34
    },
    "colab_type": "code",
    "executionInfo": {
     "elapsed": 1034,
     "status": "ok",
     "timestamp": 1530866011907,
     "user": {
      "displayName": "黃種平",
      "photoUrl": "//lh3.googleusercontent.com/-ay6h3dmyraY/AAAAAAAAAAI/AAAAAAAADhg/t8F2AGa00fc/s50-c-k-no/photo.jpg",
      "userId": "114874362450166068432"
     },
     "user_tz": -480
    },
    "id": "lKHfHvOWuUE_",
    "outputId": "17ebef8d-5685-4535-99f4-0b1546bf8f50"
   },
   "outputs": [
    {
     "data": {
      "text/plain": [
       "[0, 1, 2, 3, 4, 50, 6, 7, 8, 9]"
      ]
     },
     "execution_count": 13,
     "metadata": {},
     "output_type": "execute_result"
    }
   ],
   "source": [
    "# 讓我們修改 l2 的其中一個數值\n",
    "l2[5] = 50\n",
    "l2"
   ]
  },
  {
   "cell_type": "code",
   "execution_count": 14,
   "metadata": {
    "colab": {
     "autoexec": {
      "startup": false,
      "wait_interval": 0
     },
     "base_uri": "https://localhost:8080/",
     "height": 34
    },
    "colab_type": "code",
    "executionInfo": {
     "elapsed": 972,
     "status": "ok",
     "timestamp": 1530866019297,
     "user": {
      "displayName": "黃種平",
      "photoUrl": "//lh3.googleusercontent.com/-ay6h3dmyraY/AAAAAAAAAAI/AAAAAAAADhg/t8F2AGa00fc/s50-c-k-no/photo.jpg",
      "userId": "114874362450166068432"
     },
     "user_tz": -480
    },
    "id": "RjFjx6KjuZHk",
    "outputId": "d28a2384-c126-4154-afbd-16c5d0209eb1"
   },
   "outputs": [
    {
     "data": {
      "text/plain": [
       "[0, 1, 2, 3, 4, 50, 6, 7, 8, 9]"
      ]
     },
     "execution_count": 14,
     "metadata": {},
     "output_type": "execute_result"
    }
   ],
   "source": [
    "# 觀察 l1\n",
    "l1\n",
    "\n",
    "# 看起來是跟著 l2 一起被給改變了！"
   ]
  },
  {
   "cell_type": "code",
   "execution_count": 15,
   "metadata": {
    "colab": {
     "autoexec": {
      "startup": false,
      "wait_interval": 0
     },
     "base_uri": "https://localhost:8080/",
     "height": 34
    },
    "colab_type": "code",
    "executionInfo": {
     "elapsed": 1583,
     "status": "ok",
     "timestamp": 1530866027860,
     "user": {
      "displayName": "黃種平",
      "photoUrl": "//lh3.googleusercontent.com/-ay6h3dmyraY/AAAAAAAAAAI/AAAAAAAADhg/t8F2AGa00fc/s50-c-k-no/photo.jpg",
      "userId": "114874362450166068432"
     },
     "user_tz": -480
    },
    "id": "mg0RoNTKubN6",
    "outputId": "d16c198d-8ffe-4b18-bb09-759438cd52bf"
   },
   "outputs": [
    {
     "data": {
      "text/plain": [
       "'0x10c1db948'"
      ]
     },
     "execution_count": 15,
     "metadata": {},
     "output_type": "execute_result"
    }
   ],
   "source": [
    "# 分別看一下 l1, l2 兩個物件的記憶體位址\n",
    "hex(id(l1))"
   ]
  },
  {
   "cell_type": "code",
   "execution_count": 16,
   "metadata": {
    "colab": {
     "autoexec": {
      "startup": false,
      "wait_interval": 0
     },
     "base_uri": "https://localhost:8080/",
     "height": 34
    },
    "colab_type": "code",
    "executionInfo": {
     "elapsed": 1355,
     "status": "ok",
     "timestamp": 1530866033095,
     "user": {
      "displayName": "黃種平",
      "photoUrl": "//lh3.googleusercontent.com/-ay6h3dmyraY/AAAAAAAAAAI/AAAAAAAADhg/t8F2AGa00fc/s50-c-k-no/photo.jpg",
      "userId": "114874362450166068432"
     },
     "user_tz": -480
    },
    "id": "MmYU_sJducvb",
    "outputId": "a513a162-ba42-4009-9fa6-cf56dd1061c9"
   },
   "outputs": [
    {
     "data": {
      "text/plain": [
       "'0x10c1db948'"
      ]
     },
     "execution_count": 16,
     "metadata": {},
     "output_type": "execute_result"
    }
   ],
   "source": [
    "# 會發現 l1, l2 本質上是同一個物件\n",
    "hex(id(l2))"
   ]
  },
  {
   "cell_type": "code",
   "execution_count": 17,
   "metadata": {
    "colab": {
     "autoexec": {
      "startup": false,
      "wait_interval": 0
     }
    },
    "colab_type": "code",
    "id": "aiwmDX2wueK2"
   },
   "outputs": [],
   "source": [
    "# 改用 .copy() 來複製物件\n",
    "l2 = l1.copy()"
   ]
  },
  {
   "cell_type": "code",
   "execution_count": 18,
   "metadata": {
    "colab": {
     "autoexec": {
      "startup": false,
      "wait_interval": 0
     },
     "base_uri": "https://localhost:8080/",
     "height": 34
    },
    "colab_type": "code",
    "executionInfo": {
     "elapsed": 726,
     "status": "ok",
     "timestamp": 1530866064519,
     "user": {
      "displayName": "黃種平",
      "photoUrl": "//lh3.googleusercontent.com/-ay6h3dmyraY/AAAAAAAAAAI/AAAAAAAADhg/t8F2AGa00fc/s50-c-k-no/photo.jpg",
      "userId": "114874362450166068432"
     },
     "user_tz": -480
    },
    "id": "XPXquy2Luj7H",
    "outputId": "e121dd15-badf-4ca8-cef5-dfecc1d00ef0"
   },
   "outputs": [
    {
     "data": {
      "text/plain": [
       "[0, 1, 2, 3, 4, 5, 6, 7, 8, 9]"
      ]
     },
     "execution_count": 18,
     "metadata": {},
     "output_type": "execute_result"
    }
   ],
   "source": [
    "# 再把 l2 物件被修改的數值改回來\n",
    "l2[5] = 5\n",
    "l2"
   ]
  },
  {
   "cell_type": "code",
   "execution_count": 19,
   "metadata": {
    "colab": {
     "autoexec": {
      "startup": false,
      "wait_interval": 0
     },
     "base_uri": "https://localhost:8080/",
     "height": 34
    },
    "colab_type": "code",
    "executionInfo": {
     "elapsed": 1083,
     "status": "ok",
     "timestamp": 1530866067647,
     "user": {
      "displayName": "黃種平",
      "photoUrl": "//lh3.googleusercontent.com/-ay6h3dmyraY/AAAAAAAAAAI/AAAAAAAADhg/t8F2AGa00fc/s50-c-k-no/photo.jpg",
      "userId": "114874362450166068432"
     },
     "user_tz": -480
    },
    "id": "vCDTO4P9ul3R",
    "outputId": "7ceba0af-fd45-4ee6-cfac-940b2dfbd0de"
   },
   "outputs": [
    {
     "data": {
      "text/plain": [
       "[0, 1, 2, 3, 4, 50, 6, 7, 8, 9]"
      ]
     },
     "execution_count": 19,
     "metadata": {},
     "output_type": "execute_result"
    }
   ],
   "source": [
    "# 回去觀察 l1\n",
    "l1\n",
    "\n",
    "# 這次就不會跟著 l2 一起被修改到囉～"
   ]
  },
  {
   "cell_type": "code",
   "execution_count": 20,
   "metadata": {
    "colab": {
     "autoexec": {
      "startup": false,
      "wait_interval": 0
     },
     "base_uri": "https://localhost:8080/",
     "height": 34
    },
    "colab_type": "code",
    "executionInfo": {
     "elapsed": 1194,
     "status": "ok",
     "timestamp": 1530866075923,
     "user": {
      "displayName": "黃種平",
      "photoUrl": "//lh3.googleusercontent.com/-ay6h3dmyraY/AAAAAAAAAAI/AAAAAAAADhg/t8F2AGa00fc/s50-c-k-no/photo.jpg",
      "userId": "114874362450166068432"
     },
     "user_tz": -480
    },
    "id": "05-EhPf3um-M",
    "outputId": "40834c59-7791-4020-a7fc-2f9294d22a76"
   },
   "outputs": [
    {
     "data": {
      "text/plain": [
       "'0x10c1db948'"
      ]
     },
     "execution_count": 20,
     "metadata": {},
     "output_type": "execute_result"
    }
   ],
   "source": [
    "# 分別看一下 l1, l2 兩個物件的記憶體位址\n",
    "hex(id(l1))"
   ]
  },
  {
   "cell_type": "code",
   "execution_count": 21,
   "metadata": {
    "colab": {
     "autoexec": {
      "startup": false,
      "wait_interval": 0
     },
     "base_uri": "https://localhost:8080/",
     "height": 34
    },
    "colab_type": "code",
    "executionInfo": {
     "elapsed": 1542,
     "status": "ok",
     "timestamp": 1530866081624,
     "user": {
      "displayName": "黃種平",
      "photoUrl": "//lh3.googleusercontent.com/-ay6h3dmyraY/AAAAAAAAAAI/AAAAAAAADhg/t8F2AGa00fc/s50-c-k-no/photo.jpg",
      "userId": "114874362450166068432"
     },
     "user_tz": -480
    },
    "id": "OdwP92Zuuon3",
    "outputId": "a74fbe5a-9c10-4d24-82d0-6627396333bd"
   },
   "outputs": [
    {
     "data": {
      "text/plain": [
       "'0x110758b88'"
      ]
     },
     "execution_count": 21,
     "metadata": {},
     "output_type": "execute_result"
    }
   ],
   "source": [
    "# 這下 l1, l2 終於是不同的物件了！\n",
    "hex(id(l2))"
   ]
  },
  {
   "cell_type": "markdown",
   "metadata": {
    "colab_type": "text",
    "id": "6Y0b9OmhkOKI"
   },
   "source": [
    "## Pandas Data Types (dtypes)\n",
    "\n",
    "當拿到一份資料時，必須先了解這份資料藉由程式讀入之後的 data type，以Pandas 而言，定義有 7 種 data type （如下表）。因為 data type 會影響資料處理的結果，如果 data type 錯誤，應將資料處理後，重新定義再進行分析。\n",
    "\n",
    "* Pandas dtype, Python type, NumPy dtype 對照表\n",
    "\n",
    "Pandas dtype | Python type | NumPy dtype | Usage\n",
    "--- | ---\n",
    "object\t| str\t| string_, unicode_\t| 文字\n",
    "int64\t| int\t| int_, int8, int16, int32, int64, uint8, uint16, uint32, uint64\t| 整數\n",
    "float64\t| float\t| float_, float16, float32, float64\t| 小數\n",
    "bool\t| bool\t| bool_\t| Boolean，True/False\n",
    "datetime64[ns]\t| NA\t| datetime64[ns]\t| 日期時間\n",
    "timedelta[ns]\t| NA\t| NA\t| 兩個時間的差值\n",
    "category\t| NA\t| NA\t| Finite list of text values\n",
    "\n",
    "參考文件\n",
    "* [Overview of Pandas Data Types](http://pbpython.com/pandas_dtypes.html)\n",
    "* https://docs.scipy.org/doc/numpy/user/basics.types.html"
   ]
  },
  {
   "cell_type": "markdown",
   "metadata": {
    "colab_type": "text",
    "id": "8_Rh2E9JkXQZ"
   },
   "source": [
    "### 範例資料\n",
    "\n",
    "這是一份銷售資料，這份資料透過 `pandas.read_csv()` 讀入後，部分 column 的 data type 不正確，應進行調整。\n",
    "\n",
    "column label | original dtype | should be dtype\n",
    "--|--\n",
    "Customer Number | float64 | int64\n",
    "2016 | objects | float64 or int64\n",
    "2017 | objects | float64 or int64\n",
    "Percent Growth | object | float64\n",
    "Jan Units | object | float64 or int64\n",
    "Month , Day and Year | int | datetime64\n",
    "Active | object | boolean\n",
    "\n",
    "調整 dtype 有 3 類做法：\n",
    "\n",
    "1. 使用 `pd.DataFrame.astype()`\n",
    "1. 建立 functions\n",
    "1. 使用 pandas functions，例如 `pandas.to_numeric()` 或 `pandas. to_datetime()`"
   ]
  },
  {
   "cell_type": "code",
   "execution_count": 22,
   "metadata": {
    "colab": {
     "autoexec": {
      "startup": false,
      "wait_interval": 0
     },
     "base_uri": "https://localhost:8080/",
     "height": 459
    },
    "colab_type": "code",
    "executionInfo": {
     "elapsed": 3655,
     "status": "ok",
     "timestamp": 1530663418839,
     "user": {
      "displayName": "李雅庭",
      "photoUrl": "//lh3.googleusercontent.com/-FMmqLpFWdh4/AAAAAAAAAAI/AAAAAAAAAEA/Q8gctKy4m-I/s50-c-k-no/photo.jpg",
      "userId": "107216197418371220980"
     },
     "user_tz": -480
    },
    "id": "GawZSkpHkN36",
    "outputId": "dff5fbc0-d192-4803-b74f-35638f7b2248"
   },
   "outputs": [
    {
     "data": {
      "text/html": [
       "<div>\n",
       "<style scoped>\n",
       "    .dataframe tbody tr th:only-of-type {\n",
       "        vertical-align: middle;\n",
       "    }\n",
       "\n",
       "    .dataframe tbody tr th {\n",
       "        vertical-align: top;\n",
       "    }\n",
       "\n",
       "    .dataframe thead th {\n",
       "        text-align: right;\n",
       "    }\n",
       "</style>\n",
       "<table border=\"1\" class=\"dataframe\">\n",
       "  <thead>\n",
       "    <tr style=\"text-align: right;\">\n",
       "      <th></th>\n",
       "      <th>Customer Number</th>\n",
       "      <th>Customer Name</th>\n",
       "      <th>2016</th>\n",
       "      <th>2017</th>\n",
       "      <th>Percent Growth</th>\n",
       "      <th>Jan Units</th>\n",
       "      <th>Month</th>\n",
       "      <th>Day</th>\n",
       "      <th>Year</th>\n",
       "      <th>Active</th>\n",
       "    </tr>\n",
       "  </thead>\n",
       "  <tbody>\n",
       "    <tr>\n",
       "      <th>0</th>\n",
       "      <td>10002.0</td>\n",
       "      <td>Quest Industries</td>\n",
       "      <td>$125,000.00</td>\n",
       "      <td>$162500.00</td>\n",
       "      <td>30.00%</td>\n",
       "      <td>500</td>\n",
       "      <td>1</td>\n",
       "      <td>10</td>\n",
       "      <td>2015</td>\n",
       "      <td>Y</td>\n",
       "    </tr>\n",
       "    <tr>\n",
       "      <th>1</th>\n",
       "      <td>552278.0</td>\n",
       "      <td>Smith Plumbing</td>\n",
       "      <td>$920,000.00</td>\n",
       "      <td>$101,2000.00</td>\n",
       "      <td>10.00%</td>\n",
       "      <td>700</td>\n",
       "      <td>6</td>\n",
       "      <td>15</td>\n",
       "      <td>2014</td>\n",
       "      <td>Y</td>\n",
       "    </tr>\n",
       "    <tr>\n",
       "      <th>2</th>\n",
       "      <td>23477.0</td>\n",
       "      <td>ACME Industrial</td>\n",
       "      <td>$50,000.00</td>\n",
       "      <td>$62500.00</td>\n",
       "      <td>25.00%</td>\n",
       "      <td>125</td>\n",
       "      <td>3</td>\n",
       "      <td>29</td>\n",
       "      <td>2016</td>\n",
       "      <td>Y</td>\n",
       "    </tr>\n",
       "    <tr>\n",
       "      <th>3</th>\n",
       "      <td>24900.0</td>\n",
       "      <td>Brekke LTD</td>\n",
       "      <td>$350,000.00</td>\n",
       "      <td>$490000.00</td>\n",
       "      <td>4.00%</td>\n",
       "      <td>75</td>\n",
       "      <td>10</td>\n",
       "      <td>27</td>\n",
       "      <td>2015</td>\n",
       "      <td>Y</td>\n",
       "    </tr>\n",
       "    <tr>\n",
       "      <th>4</th>\n",
       "      <td>651029.0</td>\n",
       "      <td>Harbor Co</td>\n",
       "      <td>$15,000.00</td>\n",
       "      <td>$12750.00</td>\n",
       "      <td>-15.00%</td>\n",
       "      <td>Closed</td>\n",
       "      <td>2</td>\n",
       "      <td>2</td>\n",
       "      <td>2014</td>\n",
       "      <td>N</td>\n",
       "    </tr>\n",
       "  </tbody>\n",
       "</table>\n",
       "</div>"
      ],
      "text/plain": [
       "   Customer Number     Customer Name         2016          2017  \\\n",
       "0          10002.0  Quest Industries  $125,000.00    $162500.00   \n",
       "1         552278.0    Smith Plumbing  $920,000.00  $101,2000.00   \n",
       "2          23477.0   ACME Industrial   $50,000.00     $62500.00   \n",
       "3          24900.0        Brekke LTD  $350,000.00    $490000.00   \n",
       "4         651029.0         Harbor Co   $15,000.00     $12750.00   \n",
       "\n",
       "  Percent Growth Jan Units  Month  Day  Year Active  \n",
       "0         30.00%       500      1   10  2015      Y  \n",
       "1         10.00%       700      6   15  2014      Y  \n",
       "2         25.00%       125      3   29  2016      Y  \n",
       "3          4.00%        75     10   27  2015      Y  \n",
       "4        -15.00%    Closed      2    2  2014      N  "
      ]
     },
     "metadata": {},
     "output_type": "display_data"
    },
    {
     "name": "stdout",
     "output_type": "stream",
     "text": [
      "\n",
      "Customer Number    float64\n",
      "Customer Name       object\n",
      "2016                object\n",
      "2017                object\n",
      "Percent Growth      object\n",
      "Jan Units           object\n",
      "Month                int64\n",
      "Day                  int64\n",
      "Year                 int64\n",
      "Active              object\n",
      "dtype: object\n"
     ]
    }
   ],
   "source": [
    "# 讀入檔案\n",
    "sale_filepath = os.path.join(os.curdir, 'data', 'sales_data_types.csv')\n",
    "df_orig = pd.read_csv(filepath_or_buffer=sale_filepath)\n",
    "display(df_orig)\n",
    "print()\n",
    "# 使用 pandas.DataFrame.dtypes 觀察資料的 dtype\n",
    "print(df_orig.dtypes)\n",
    "\n",
    "df = df_orig.copy()"
   ]
  },
  {
   "cell_type": "code",
   "execution_count": 23,
   "metadata": {
    "colab": {
     "autoexec": {
      "startup": false,
      "wait_interval": 0
     },
     "base_uri": "https://localhost:8080/",
     "height": 119
    },
    "colab_type": "code",
    "executionInfo": {
     "elapsed": 784,
     "status": "ok",
     "timestamp": 1530663419685,
     "user": {
      "displayName": "李雅庭",
      "photoUrl": "//lh3.googleusercontent.com/-FMmqLpFWdh4/AAAAAAAAAAI/AAAAAAAAAEA/Q8gctKy4m-I/s50-c-k-no/photo.jpg",
      "userId": "107216197418371220980"
     },
     "user_tz": -480
    },
    "id": "vzuEa3aI6QmE",
    "outputId": "1e2fc9bb-694e-414e-8f27-7566d31e4b8a"
   },
   "outputs": [
    {
     "data": {
      "text/plain": [
       "0      $125,000.00$162500.00\n",
       "1    $920,000.00$101,2000.00\n",
       "2        $50,000.00$62500.00\n",
       "3      $350,000.00$490000.00\n",
       "4        $15,000.00$12750.00\n",
       "dtype: object"
      ]
     },
     "execution_count": 23,
     "metadata": {},
     "output_type": "execute_result"
    }
   ],
   "source": [
    "# 計算 2016年 和 2017年 的銷售金額\n",
    "# 在不轉換 column=2016 和 column=2017 的 dtype， dtype 為 object (文字) 可以直接相加嗎？\n",
    "# 答案是不行的。會發現相加後的數值並非正確結果，這是因為資料的 dtype 錯誤導致 df['2016'] + df['2017'] 的結果只是將 文字合併\n",
    "# 必須把 column=2016 和 column=2017轉成可計算的 dtype 像是 int64 或 float64\n",
    "df['2016'] + df['2017']\n"
   ]
  },
  {
   "cell_type": "markdown",
   "metadata": {
    "colab_type": "text",
    "id": "M_Bze_kYqNge"
   },
   "source": [
    "### .astype()\n",
    "\n",
    "* 將 pandas object 轉換成特定的 dtype\n",
    "* 參考文件： [pandas.DataFrame.astype](https://pandas.pydata.org/pandas-docs/stable/generated/pandas.DataFrame.astype.html#pandas.DataFrame.astype)\n",
    "* Parameters：\n",
    "    * dtype：\n",
    "        1. 直接輸入 pandas dtype，numpy.dtype 或 Python type\n",
    "        1. 針對不同 column label 進行 dtype 轉換，使用 `{ col : dtype }`，col 輸入 column label ，dtype 輸入 pandas dtype，numpy.dtype 或 Python type"
   ]
  },
  {
   "cell_type": "code",
   "execution_count": 24,
   "metadata": {
    "colab": {
     "autoexec": {
      "startup": false,
      "wait_interval": 0
     },
     "base_uri": "https://localhost:8080/",
     "height": 204
    },
    "colab_type": "code",
    "executionInfo": {
     "elapsed": 748,
     "status": "ok",
     "timestamp": 1530663420568,
     "user": {
      "displayName": "李雅庭",
      "photoUrl": "//lh3.googleusercontent.com/-FMmqLpFWdh4/AAAAAAAAAAI/AAAAAAAAAEA/Q8gctKy4m-I/s50-c-k-no/photo.jpg",
      "userId": "107216197418371220980"
     },
     "user_tz": -480
    },
    "id": "OtNXlYwSiFzf",
    "outputId": "fc4a33ab-3451-46fa-9c67-f1883bb908a2"
   },
   "outputs": [
    {
     "name": "stdout",
     "output_type": "stream",
     "text": [
      "Customer Number     int64\n",
      "Customer Name      object\n",
      "2016               object\n",
      "2017               object\n",
      "Percent Growth     object\n",
      "Jan Units          object\n",
      "Month               int64\n",
      "Day                 int64\n",
      "Year                int64\n",
      "Active               bool\n",
      "dtype: object\n"
     ]
    }
   ],
   "source": [
    "df['Customer Number'] = df['Customer Number'].astype(dtype='int64')\n",
    "# df = df.astype(dtype={'Customer Number' : 'int64'}) # 等價\n",
    "\n",
    "df['Active'] = df['Active'].astype(dtype='bool')\n",
    "# df = df.astype(dtype={'Active' : 'bool'}) # 等價\n",
    "print(df.dtypes)"
   ]
  },
  {
   "cell_type": "markdown",
   "metadata": {
    "colab_type": "text",
    "id": "EQKhDZwm0Es3"
   },
   "source": [
    "### 建立 function\n",
    "\n",
    "有時候直接使用 `pandas.DataFrame.astype` 無法成功轉換 dtype ， 這時就需要自己寫 function 先做一些前處理再用 `pandas.DataFrame.astype` 。\n",
    "\n",
    "* 寫法1. \n",
    "```\n",
    "def function_name(Parameter):\n",
    "        Parameter = Parameter + 1\n",
    "        return Parameter\n",
    "```\n",
    "* 寫法2. \n",
    "```\n",
    "lambda x : x + 1\n",
    "```"
   ]
  },
  {
   "cell_type": "code",
   "execution_count": 25,
   "metadata": {
    "colab": {
     "autoexec": {
      "startup": false,
      "wait_interval": 0
     },
     "base_uri": "https://localhost:8080/",
     "height": 204
    },
    "colab_type": "code",
    "executionInfo": {
     "elapsed": 810,
     "status": "ok",
     "timestamp": 1530663421573,
     "user": {
      "displayName": "李雅庭",
      "photoUrl": "//lh3.googleusercontent.com/-FMmqLpFWdh4/AAAAAAAAAAI/AAAAAAAAAEA/Q8gctKy4m-I/s50-c-k-no/photo.jpg",
      "userId": "107216197418371220980"
     },
     "user_tz": -480
    },
    "id": "-AZ-sCgow3YO",
    "outputId": "194a6ba5-187f-4319-9540-ac62db0ab3ed"
   },
   "outputs": [
    {
     "name": "stdout",
     "output_type": "stream",
     "text": [
      "Customer Number      int64\n",
      "Customer Name       object\n",
      "2016               float64\n",
      "2017               float64\n",
      "Percent Growth      object\n",
      "Jan Units           object\n",
      "Month                int64\n",
      "Day                  int64\n",
      "Year                 int64\n",
      "Active                bool\n",
      "dtype: object\n"
     ]
    }
   ],
   "source": [
    "# 對 column=2016, column=2017 使用 astype 時轉換失敗，因為數值前面帶有符號 \"$\" 和 \",\"\n",
    "# 出現錯誤訊息：could not convert string to float: '$15,000.00'\n",
    "# df['2016'].astype('float')\n",
    "# 因此必須先將 \"$\" 和 \",\" 移除後再使用 pandas.DataFrame.astype\n",
    "\n",
    "df['2016'] = df['2016'].apply(lambda x: x.replace('$', '').replace(',', '')).astype('float64')\n",
    "df['2017'] = df['2017'].apply(lambda x: x.replace('$', '').replace(',', '')).astype('float64')\n",
    "print(df.dtypes)\n",
    "\n",
    "# 用 def 陳述句 與上等價\n",
    "# def convert_currency(val):\n",
    "#     \"\"\"\n",
    "#     Convert the string number value to a float\n",
    "#      - Remove $\n",
    "#      - Remove commas\n",
    "#      - Convert to float type\n",
    "#     \"\"\"\n",
    "#     new_val = val.replace(',','').replace('$', '')\n",
    "#     return float(new_val)\n",
    "# df['2016'] = df['2016'].apply(convert_currency)\n",
    "# print(df.dtypes)"
   ]
  },
  {
   "cell_type": "code",
   "execution_count": 26,
   "metadata": {
    "colab": {
     "autoexec": {
      "startup": false,
      "wait_interval": 0
     },
     "base_uri": "https://localhost:8080/",
     "height": 204
    },
    "colab_type": "code",
    "executionInfo": {
     "elapsed": 644,
     "status": "ok",
     "timestamp": 1530663422319,
     "user": {
      "displayName": "李雅庭",
      "photoUrl": "//lh3.googleusercontent.com/-FMmqLpFWdh4/AAAAAAAAAAI/AAAAAAAAAEA/Q8gctKy4m-I/s50-c-k-no/photo.jpg",
      "userId": "107216197418371220980"
     },
     "user_tz": -480
    },
    "id": "wFhZe1mi6Fy3",
    "outputId": "d6f7687f-8833-4614-d7b2-7ece3d0b3338"
   },
   "outputs": [
    {
     "name": "stdout",
     "output_type": "stream",
     "text": [
      "Customer Number      int64\n",
      "Customer Name       object\n",
      "2016               float64\n",
      "2017               float64\n",
      "Percent Growth     float64\n",
      "Jan Units           object\n",
      "Month                int64\n",
      "Day                  int64\n",
      "Year                 int64\n",
      "Active                bool\n",
      "dtype: object\n"
     ]
    }
   ],
   "source": [
    "# 對 column=Jan Units 使用 astype 時轉換失敗，因為數值後面帶有符號 \"%\"\n",
    "# 出現錯誤訊息：could not convert string to float: '-15.00%'\n",
    "# df['Percent Growth'].astype('float')\n",
    "# 因此必須先將 \"$\" 和 \",\" 移除後再使用 pandas.DataFrame.astype\n",
    "\n",
    "df['Percent Growth'] = df['Percent Growth'].apply(lambda x: x.replace('%', '')).astype('float') / 100\n",
    "print(df.dtypes)\n",
    "\n",
    "# 用 def 陳述句 與上等價\n",
    "# def convert_percent(val):\n",
    "#     \"\"\"\n",
    "#     Convert the percentage string to an actual floating point percent\n",
    "#     - Remove %\n",
    "#     - Divide by 100 to make decimal\n",
    "#     \"\"\"\n",
    "#     new_val = val.replace('%', '')\n",
    "#     return float(new_val) / 100\n",
    "\n",
    "# df['Percent Growth'] = df['Percent Growth'].apply(convert_percent)\n",
    "# print(df.dtypes)"
   ]
  },
  {
   "cell_type": "markdown",
   "metadata": {
    "colab_type": "text",
    "id": "cidoagAo94vT"
   },
   "source": [
    "### 使用 pandas functions\n",
    "介紹 pandas 中常見的 dtype 轉換 function\n"
   ]
  },
  {
   "cell_type": "markdown",
   "metadata": {
    "colab_type": "text",
    "id": "3f-QBi39Git0"
   },
   "source": [
    "#### pandas.to_numeric()\n",
    "\n",
    "* 將資料轉成 數值 dtype\n",
    "* 參考文件：\n",
    "[pandas.to_numeric](https://pandas.pydata.org/pandas-docs/stable/generated/pandas.to_numeric.html)\n",
    "* Parameters：\n",
    "    1. arg：欲轉換的資料。（資料格式請閱讀參考文件）\n",
    "    1. errors：預設 raise\n",
    "        *  raise：若資料中有非數值，則回傳例外訊息\n",
    "        *  coerce：若資料中有非數值則補值 NaN\n",
    "        *  ignore：若資料中有保留非數值，不處理\n",
    "    1. downcast：預設 None，保留原始資料的狀況\n",
    "        * integer：整數\n",
    "        * float：小數"
   ]
  },
  {
   "cell_type": "code",
   "execution_count": 27,
   "metadata": {
    "colab": {
     "autoexec": {
      "startup": false,
      "wait_interval": 0
     },
     "base_uri": "https://localhost:8080/",
     "height": 204
    },
    "colab_type": "code",
    "executionInfo": {
     "elapsed": 670,
     "status": "ok",
     "timestamp": 1530663423106,
     "user": {
      "displayName": "李雅庭",
      "photoUrl": "//lh3.googleusercontent.com/-FMmqLpFWdh4/AAAAAAAAAAI/AAAAAAAAAEA/Q8gctKy4m-I/s50-c-k-no/photo.jpg",
      "userId": "107216197418371220980"
     },
     "user_tz": -480
    },
    "id": "7iNflMFC3Otq",
    "outputId": "12d6c7ba-1f72-49e8-a904-9422c02892f3"
   },
   "outputs": [
    {
     "name": "stdout",
     "output_type": "stream",
     "text": [
      "Customer Number      int64\n",
      "Customer Name       object\n",
      "2016               float64\n",
      "2017               float64\n",
      "Percent Growth     float64\n",
      "Jan Units          float64\n",
      "Month                int64\n",
      "Day                  int64\n",
      "Year                 int64\n",
      "Active                bool\n",
      "dtype: object\n"
     ]
    }
   ],
   "source": [
    "# 對 column=Jan Units 使用 astype 時轉換失敗，因為資料中有非數值存在 'Closed' 為文字\n",
    "# 出現錯誤訊息：could not convert string to float: 'Closed'\n",
    "# df['Jan Units'].astype('float')\n",
    "\n",
    "# 使用 pd.to_numeric() 將 非數值 轉成 NaN，再用 pandas.DataFrame.fillna(0) 將 NaN 補 0\n",
    "df['Jan Units'] = pd.to_numeric(df['Jan Units'], errors='coerce', downcast='integer').fillna(0)\n",
    "print(df.dtypes)"
   ]
  },
  {
   "cell_type": "markdown",
   "metadata": {
    "colab_type": "text",
    "id": "BLGIcGpLGpmG"
   },
   "source": [
    "#### pandas.to_datetime()\n",
    "\n",
    "* 將資料轉成 datetime64 dtype\n",
    "* 參考文件：\n",
    "[pandas.to_datetime](https://pandas.pydata.org/pandas-docs/stable/generated/pandas.pandas.to_datetime.html)\n",
    "* Parameters：\n",
    "    1. arg：欲轉換的資料（資料格式請閱讀參考文件）\n",
    "    1. errors：預設 raise\n",
    "        *  raise：若資料中有非數值，則回傳例外訊息\n",
    "        *  coerce：若資料中有非數值則補值 NaT\n",
    "        *  ignore：若資料中有保留非數值，不處理"
   ]
  },
  {
   "cell_type": "code",
   "execution_count": 28,
   "metadata": {
    "colab": {
     "autoexec": {
      "startup": false,
      "wait_interval": 0
     },
     "base_uri": "https://localhost:8080/",
     "height": 221
    },
    "colab_type": "code",
    "executionInfo": {
     "elapsed": 594,
     "status": "ok",
     "timestamp": 1530663423862,
     "user": {
      "displayName": "李雅庭",
      "photoUrl": "//lh3.googleusercontent.com/-FMmqLpFWdh4/AAAAAAAAAAI/AAAAAAAAAEA/Q8gctKy4m-I/s50-c-k-no/photo.jpg",
      "userId": "107216197418371220980"
     },
     "user_tz": -480
    },
    "id": "EJDE5gPFFVfR",
    "outputId": "47c7034b-d8ad-444f-e56b-bd81bb00cc47"
   },
   "outputs": [
    {
     "name": "stdout",
     "output_type": "stream",
     "text": [
      "Customer Number             int64\n",
      "Customer Name              object\n",
      "2016                      float64\n",
      "2017                      float64\n",
      "Percent Growth            float64\n",
      "Jan Units                 float64\n",
      "Month                       int64\n",
      "Day                         int64\n",
      "Year                        int64\n",
      "Active                       bool\n",
      "Start_Date         datetime64[ns]\n",
      "dtype: object\n"
     ]
    }
   ],
   "source": [
    "df[\"Start_Date\"] = pd.to_datetime(df[['Year', 'Month', 'Day']])\n",
    "print(df.dtypes)"
   ]
  },
  {
   "cell_type": "code",
   "execution_count": 29,
   "metadata": {
    "colab": {
     "autoexec": {
      "startup": false,
      "wait_interval": 0
     },
     "base_uri": "https://localhost:8080/",
     "height": 272
    },
    "colab_type": "code",
    "executionInfo": {
     "elapsed": 1001,
     "status": "ok",
     "timestamp": 1530663424967,
     "user": {
      "displayName": "李雅庭",
      "photoUrl": "//lh3.googleusercontent.com/-FMmqLpFWdh4/AAAAAAAAAAI/AAAAAAAAAEA/Q8gctKy4m-I/s50-c-k-no/photo.jpg",
      "userId": "107216197418371220980"
     },
     "user_tz": -480
    },
    "id": "88sFmLi7HjjC",
    "outputId": "e58463cd-3760-454e-8048-85b9afb02e11"
   },
   "outputs": [
    {
     "data": {
      "text/html": [
       "<div>\n",
       "<style scoped>\n",
       "    .dataframe tbody tr th:only-of-type {\n",
       "        vertical-align: middle;\n",
       "    }\n",
       "\n",
       "    .dataframe tbody tr th {\n",
       "        vertical-align: top;\n",
       "    }\n",
       "\n",
       "    .dataframe thead th {\n",
       "        text-align: right;\n",
       "    }\n",
       "</style>\n",
       "<table border=\"1\" class=\"dataframe\">\n",
       "  <thead>\n",
       "    <tr style=\"text-align: right;\">\n",
       "      <th></th>\n",
       "      <th>Customer Number</th>\n",
       "      <th>Customer Name</th>\n",
       "      <th>2016</th>\n",
       "      <th>2017</th>\n",
       "      <th>Percent Growth</th>\n",
       "      <th>Jan Units</th>\n",
       "      <th>Month</th>\n",
       "      <th>Day</th>\n",
       "      <th>Year</th>\n",
       "      <th>Active</th>\n",
       "      <th>Start_Date</th>\n",
       "    </tr>\n",
       "  </thead>\n",
       "  <tbody>\n",
       "    <tr>\n",
       "      <th>0</th>\n",
       "      <td>10002</td>\n",
       "      <td>Quest Industries</td>\n",
       "      <td>125000.0</td>\n",
       "      <td>162500.0</td>\n",
       "      <td>0.30</td>\n",
       "      <td>500.0</td>\n",
       "      <td>1</td>\n",
       "      <td>10</td>\n",
       "      <td>2015</td>\n",
       "      <td>True</td>\n",
       "      <td>2015-01-10</td>\n",
       "    </tr>\n",
       "    <tr>\n",
       "      <th>1</th>\n",
       "      <td>552278</td>\n",
       "      <td>Smith Plumbing</td>\n",
       "      <td>920000.0</td>\n",
       "      <td>1012000.0</td>\n",
       "      <td>0.10</td>\n",
       "      <td>700.0</td>\n",
       "      <td>6</td>\n",
       "      <td>15</td>\n",
       "      <td>2014</td>\n",
       "      <td>True</td>\n",
       "      <td>2014-06-15</td>\n",
       "    </tr>\n",
       "    <tr>\n",
       "      <th>2</th>\n",
       "      <td>23477</td>\n",
       "      <td>ACME Industrial</td>\n",
       "      <td>50000.0</td>\n",
       "      <td>62500.0</td>\n",
       "      <td>0.25</td>\n",
       "      <td>125.0</td>\n",
       "      <td>3</td>\n",
       "      <td>29</td>\n",
       "      <td>2016</td>\n",
       "      <td>True</td>\n",
       "      <td>2016-03-29</td>\n",
       "    </tr>\n",
       "    <tr>\n",
       "      <th>3</th>\n",
       "      <td>24900</td>\n",
       "      <td>Brekke LTD</td>\n",
       "      <td>350000.0</td>\n",
       "      <td>490000.0</td>\n",
       "      <td>0.04</td>\n",
       "      <td>75.0</td>\n",
       "      <td>10</td>\n",
       "      <td>27</td>\n",
       "      <td>2015</td>\n",
       "      <td>True</td>\n",
       "      <td>2015-10-27</td>\n",
       "    </tr>\n",
       "    <tr>\n",
       "      <th>4</th>\n",
       "      <td>651029</td>\n",
       "      <td>Harbor Co</td>\n",
       "      <td>15000.0</td>\n",
       "      <td>12750.0</td>\n",
       "      <td>-0.15</td>\n",
       "      <td>0.0</td>\n",
       "      <td>2</td>\n",
       "      <td>2</td>\n",
       "      <td>2014</td>\n",
       "      <td>True</td>\n",
       "      <td>2014-02-02</td>\n",
       "    </tr>\n",
       "  </tbody>\n",
       "</table>\n",
       "</div>"
      ],
      "text/plain": [
       "   Customer Number     Customer Name      2016       2017  Percent Growth  \\\n",
       "0            10002  Quest Industries  125000.0   162500.0            0.30   \n",
       "1           552278    Smith Plumbing  920000.0  1012000.0            0.10   \n",
       "2            23477   ACME Industrial   50000.0    62500.0            0.25   \n",
       "3            24900        Brekke LTD  350000.0   490000.0            0.04   \n",
       "4           651029         Harbor Co   15000.0    12750.0           -0.15   \n",
       "\n",
       "   Jan Units  Month  Day  Year  Active Start_Date  \n",
       "0      500.0      1   10  2015    True 2015-01-10  \n",
       "1      700.0      6   15  2014    True 2014-06-15  \n",
       "2      125.0      3   29  2016    True 2016-03-29  \n",
       "3       75.0     10   27  2015    True 2015-10-27  \n",
       "4        0.0      2    2  2014    True 2014-02-02  "
      ]
     },
     "execution_count": 29,
     "metadata": {},
     "output_type": "execute_result"
    }
   ],
   "source": [
    "df"
   ]
  },
  {
   "cell_type": "markdown",
   "metadata": {
    "colab_type": "text",
    "id": "6wg4uqz3MKL9"
   },
   "source": [
    "## Input/Output Function\n",
    "\n",
    "雖然目前都在使用 pandas 的資料格式 series 和 dataframe ，但是 pandas 僅是使用 python 所開發的一個 module，未來因應需求可能使用到其他  module 的 function，例如 scipy。\n",
    "不同 module 所需要的資料格式不同，要如何將整理好的 series 或 dataframe 資料傳遞給其他 module 做進一步處理，則需要了解  Input/Output Function 。\n",
    "\n",
    "python 原生資料格式，例如 `list`, `tuple`, `set`, `dict` ... ，以下將介紹 `.tolist()` ,  `.to_dict()` 和 `.to_json()`\n",
    "\n",
    "* 參考文件：[Scipy](https://zh.wikipedia.org/wiki/SciPy)"
   ]
  },
  {
   "cell_type": "markdown",
   "metadata": {
    "colab_type": "text",
    "id": "1slespmBmCuV"
   },
   "source": [
    "### .tolist()\n",
    "\n",
    "回傳 python `list`  格式資料 `[value1, value2, ...]` 。適用於 `pandas.Series` 和 `pandas.Index`。\n",
    "\n",
    "參考文件：\n",
    "* [pandas.Series.tolist](https://pandas.pydata.org/pandas-docs/stable/generated/pandas.Series.tolist.html)\n",
    "* [pandas.Index.tolist](http://pandas.pydata.org/pandas-docs/stable/generated/pandas.Index.tolist.html)\n"
   ]
  },
  {
   "cell_type": "code",
   "execution_count": 30,
   "metadata": {
    "colab": {
     "autoexec": {
      "startup": false,
      "wait_interval": 0
     },
     "base_uri": "https://localhost:8080/",
     "height": 204
    },
    "colab_type": "code",
    "executionInfo": {
     "elapsed": 763,
     "status": "ok",
     "timestamp": 1530663425889,
     "user": {
      "displayName": "李雅庭",
      "photoUrl": "//lh3.googleusercontent.com/-FMmqLpFWdh4/AAAAAAAAAAI/AAAAAAAAAEA/Q8gctKy4m-I/s50-c-k-no/photo.jpg",
      "userId": "107216197418371220980"
     },
     "user_tz": -480
    },
    "id": "sdAjrNVgIgy_",
    "outputId": "0c181f9b-0fdf-4fd9-bb5b-eb8e2035325f"
   },
   "outputs": [
    {
     "data": {
      "text/html": [
       "<div>\n",
       "<style scoped>\n",
       "    .dataframe tbody tr th:only-of-type {\n",
       "        vertical-align: middle;\n",
       "    }\n",
       "\n",
       "    .dataframe tbody tr th {\n",
       "        vertical-align: top;\n",
       "    }\n",
       "\n",
       "    .dataframe thead th {\n",
       "        text-align: right;\n",
       "    }\n",
       "</style>\n",
       "<table border=\"1\" class=\"dataframe\">\n",
       "  <thead>\n",
       "    <tr style=\"text-align: right;\">\n",
       "      <th></th>\n",
       "      <th>a</th>\n",
       "      <th>b</th>\n",
       "      <th>c</th>\n",
       "    </tr>\n",
       "  </thead>\n",
       "  <tbody>\n",
       "    <tr>\n",
       "      <th>0</th>\n",
       "      <td>1</td>\n",
       "      <td>11</td>\n",
       "      <td>100</td>\n",
       "    </tr>\n",
       "    <tr>\n",
       "      <th>1</th>\n",
       "      <td>2</td>\n",
       "      <td>12</td>\n",
       "      <td>200</td>\n",
       "    </tr>\n",
       "    <tr>\n",
       "      <th>2</th>\n",
       "      <td>3</td>\n",
       "      <td>13</td>\n",
       "      <td>300</td>\n",
       "    </tr>\n",
       "    <tr>\n",
       "      <th>3</th>\n",
       "      <td>4</td>\n",
       "      <td>14</td>\n",
       "      <td>400</td>\n",
       "    </tr>\n",
       "    <tr>\n",
       "      <th>4</th>\n",
       "      <td>5</td>\n",
       "      <td>15</td>\n",
       "      <td>500</td>\n",
       "    </tr>\n",
       "  </tbody>\n",
       "</table>\n",
       "</div>"
      ],
      "text/plain": [
       "   a   b    c\n",
       "0  1  11  100\n",
       "1  2  12  200\n",
       "2  3  13  300\n",
       "3  4  14  400\n",
       "4  5  15  500"
      ]
     },
     "execution_count": 30,
     "metadata": {},
     "output_type": "execute_result"
    }
   ],
   "source": [
    "# 建立一個 dataframe\n",
    "df = pd.DataFrame({'a':[1, 2, 3, 4, 5], 'b':[11, 12, 13, 14, 15], 'c':[100, 200, 300, 400, 500]})\n",
    "df"
   ]
  },
  {
   "cell_type": "code",
   "execution_count": 31,
   "metadata": {
    "colab": {
     "autoexec": {
      "startup": false,
      "wait_interval": 0
     },
     "base_uri": "https://localhost:8080/",
     "height": 187
    },
    "colab_type": "code",
    "executionInfo": {
     "elapsed": 654,
     "status": "ok",
     "timestamp": 1530663426654,
     "user": {
      "displayName": "李雅庭",
      "photoUrl": "//lh3.googleusercontent.com/-FMmqLpFWdh4/AAAAAAAAAAI/AAAAAAAAAEA/Q8gctKy4m-I/s50-c-k-no/photo.jpg",
      "userId": "107216197418371220980"
     },
     "user_tz": -480
    },
    "id": "khNNgiLh6Z-h",
    "outputId": "d6dced84-d7d1-4515-9857-46b453a1d089"
   },
   "outputs": [
    {
     "name": "stdout",
     "output_type": "stream",
     "text": [
      "0    1\n",
      "1    2\n",
      "2    3\n",
      "3    4\n",
      "4    5\n",
      "Name: a, dtype: int64\n",
      "<class 'pandas.core.series.Series'>\n",
      "====================================\n",
      "[1, 2, 3, 4, 5]\n",
      "<class 'list'>\n"
     ]
    }
   ],
   "source": [
    "# 舉例說明1. 將 pandas.Series 轉成 list\n",
    "# 使用 pandas.DataFrame.loc 取得 columns label = 'a'，此時 a 為 series ，並將格式轉成 list\n",
    "\n",
    "# step1. 使用 pandas.DataFrame.loc 取得 columns label = 'a'\n",
    "a = df.loc[:, 'a']\n",
    "# step2. 使用 .type() 觀察 a 的格式，得到結果為 series object\n",
    "print(a)\n",
    "print(type(a))\n",
    "\n",
    "print('====================================')\n",
    "\n",
    "# step3. 使用 .tolist() 將 a 轉成 list 格式\n",
    "a = a.tolist()\n",
    "print(a)\n",
    "print(type(a))\n"
   ]
  },
  {
   "cell_type": "code",
   "execution_count": 32,
   "metadata": {
    "colab": {
     "autoexec": {
      "startup": false,
      "wait_interval": 0
     },
     "base_uri": "https://localhost:8080/",
     "height": 170
    },
    "colab_type": "code",
    "executionInfo": {
     "elapsed": 632,
     "status": "ok",
     "timestamp": 1530663427415,
     "user": {
      "displayName": "李雅庭",
      "photoUrl": "//lh3.googleusercontent.com/-FMmqLpFWdh4/AAAAAAAAAAI/AAAAAAAAAEA/Q8gctKy4m-I/s50-c-k-no/photo.jpg",
      "userId": "107216197418371220980"
     },
     "user_tz": -480
    },
    "id": "-tVC40g06cdF",
    "outputId": "629833b0-4cdb-4523-8582-4731601a32bb"
   },
   "outputs": [
    {
     "name": "stdout",
     "output_type": "stream",
     "text": [
      "RangeIndex(start=0, stop=5, step=1)\n",
      "<class 'pandas.core.indexes.range.RangeIndex'>\n",
      "Index(['a', 'b', 'c'], dtype='object')\n",
      "<class 'pandas.core.indexes.base.Index'>\n",
      "====================================\n",
      "[0, 1, 2, 3, 4]\n",
      "<class 'list'>\n",
      "['a', 'b', 'c']\n",
      "<class 'list'>\n"
     ]
    }
   ],
   "source": [
    "# 舉例說明2. 將 pandas.Index 轉成 list\n",
    "# 使用 pandas.DataFrame.index 和 pandas.DataFrame.columns 取得 row index 和 column index，並將格式轉成 list\n",
    "\n",
    "# step1. 使用 pandas.DataFrame.index 和 pandas.DataFrame.columns 取得 row index 和 column index\n",
    "row_idx = df.index\n",
    "col_idx = df.columns\n",
    "# step2. 使用 .type() 觀察 row index 和 column index 的格式，得到結果為 index object\n",
    "print(row_idx)\n",
    "print(type(row_idx))\n",
    "print(col_idx)\n",
    "print(type(col_idx))\n",
    "\n",
    "print('====================================')\n",
    "\n",
    "# step3. 使用 .tolist() 將 row index 和 column index 轉成 list 格式\n",
    "row_idx = df.index.tolist()\n",
    "col_idx = df.columns.tolist()\n",
    "print(row_idx)\n",
    "print(type(row_idx))\n",
    "print(col_idx)\n",
    "print(type(col_idx))"
   ]
  },
  {
   "cell_type": "markdown",
   "metadata": {
    "colab_type": "text",
    "id": "u1TmET3J60Qh"
   },
   "source": [
    "### .to_dict()\n",
    "\n",
    "回傳 python `dict`  格式資料 `{ key:value}` ，在 `{}` 中都是 一組組的 `key-value` 搭配 key 和 value 用 ： 隔開。\n",
    "\n",
    "* 參考文件：\n",
    "    * [pandas.DataFrame.to_dict](http://pandas.pydata.org/pandas-docs/stable/generated/pandas.DataFrame.to_dict.html#pandas.DataFrame.to_dict)\n",
    "    * [pandas.Series.to_dict](http://pandas.pydata.org/pandas-docs/stable/generated/pandas.Series.to_dict.html#pandas.Series.to_dict)\n",
    "    * Parameters :\n",
    "        1. orient : 設定 `value` 的格式，預設為 `dict`\n",
    "            * `dict`  : `{column:{index:value}}`\n",
    "            * `list` : `{column:[values]}`\n",
    "            * `series` : `{column:Series(values)}`\n",
    "            * `split` : `{index:[index], columns:[columns], data: [values]}`\n",
    "            * `records` : `[{column:value}, … , {column:value}]`\n",
    "            * `index` : `{index:{column:value}}`\n",
    "        1. 在 series 中 key 為 label\n",
    "\n"
   ]
  },
  {
   "cell_type": "code",
   "execution_count": 33,
   "metadata": {
    "colab": {
     "autoexec": {
      "startup": false,
      "wait_interval": 0
     },
     "base_uri": "https://localhost:8080/",
     "height": 221
    },
    "colab_type": "code",
    "executionInfo": {
     "elapsed": 845,
     "status": "ok",
     "timestamp": 1530663428453,
     "user": {
      "displayName": "李雅庭",
      "photoUrl": "//lh3.googleusercontent.com/-FMmqLpFWdh4/AAAAAAAAAAI/AAAAAAAAAEA/Q8gctKy4m-I/s50-c-k-no/photo.jpg",
      "userId": "107216197418371220980"
     },
     "user_tz": -480
    },
    "id": "-91vCBRUuHdj",
    "outputId": "cedabe0b-19ea-4b8f-f5a4-065009f4fdec"
   },
   "outputs": [
    {
     "data": {
      "text/html": [
       "<div>\n",
       "<style scoped>\n",
       "    .dataframe tbody tr th:only-of-type {\n",
       "        vertical-align: middle;\n",
       "    }\n",
       "\n",
       "    .dataframe tbody tr th {\n",
       "        vertical-align: top;\n",
       "    }\n",
       "\n",
       "    .dataframe thead th {\n",
       "        text-align: right;\n",
       "    }\n",
       "</style>\n",
       "<table border=\"1\" class=\"dataframe\">\n",
       "  <thead>\n",
       "    <tr style=\"text-align: right;\">\n",
       "      <th></th>\n",
       "      <th>a</th>\n",
       "      <th>b</th>\n",
       "      <th>c</th>\n",
       "    </tr>\n",
       "  </thead>\n",
       "  <tbody>\n",
       "    <tr>\n",
       "      <th>0</th>\n",
       "      <td>1</td>\n",
       "      <td>11</td>\n",
       "      <td>100</td>\n",
       "    </tr>\n",
       "    <tr>\n",
       "      <th>1</th>\n",
       "      <td>2</td>\n",
       "      <td>12</td>\n",
       "      <td>200</td>\n",
       "    </tr>\n",
       "    <tr>\n",
       "      <th>2</th>\n",
       "      <td>3</td>\n",
       "      <td>13</td>\n",
       "      <td>300</td>\n",
       "    </tr>\n",
       "    <tr>\n",
       "      <th>3</th>\n",
       "      <td>4</td>\n",
       "      <td>14</td>\n",
       "      <td>400</td>\n",
       "    </tr>\n",
       "    <tr>\n",
       "      <th>4</th>\n",
       "      <td>5</td>\n",
       "      <td>15</td>\n",
       "      <td>500</td>\n",
       "    </tr>\n",
       "  </tbody>\n",
       "</table>\n",
       "</div>"
      ],
      "text/plain": [
       "   a   b    c\n",
       "0  1  11  100\n",
       "1  2  12  200\n",
       "2  3  13  300\n",
       "3  4  14  400\n",
       "4  5  15  500"
      ]
     },
     "metadata": {},
     "output_type": "display_data"
    },
    {
     "name": "stdout",
     "output_type": "stream",
     "text": [
      "<class 'pandas.core.frame.DataFrame'>\n"
     ]
    }
   ],
   "source": [
    "# 建立一個 dataframe\n",
    "df = pd.DataFrame({'a':[1, 2, 3, 4, 5], 'b':[11, 12, 13, 14, 15], 'c':[100, 200, 300, 400, 500]})\n",
    "display(df)\n",
    "print(type(df))"
   ]
  },
  {
   "cell_type": "code",
   "execution_count": 34,
   "metadata": {
    "colab": {
     "autoexec": {
      "startup": false,
      "wait_interval": 0
     },
     "base_uri": "https://localhost:8080/",
     "height": 85
    },
    "colab_type": "code",
    "executionInfo": {
     "elapsed": 649,
     "status": "ok",
     "timestamp": 1530663429236,
     "user": {
      "displayName": "李雅庭",
      "photoUrl": "//lh3.googleusercontent.com/-FMmqLpFWdh4/AAAAAAAAAAI/AAAAAAAAAEA/Q8gctKy4m-I/s50-c-k-no/photo.jpg",
      "userId": "107216197418371220980"
     },
     "user_tz": -480
    },
    "id": "KBIiayxL7ZM6",
    "outputId": "cd2ce704-5224-4e70-d66e-5d47e7f9a680"
   },
   "outputs": [
    {
     "data": {
      "text/plain": [
       "{'a': {0: 1, 1: 2, 2: 3, 3: 4, 4: 5},\n",
       " 'b': {0: 11, 1: 12, 2: 13, 3: 14, 4: 15},\n",
       " 'c': {0: 100, 1: 200, 2: 300, 3: 400, 4: 500}}"
      ]
     },
     "metadata": {},
     "output_type": "display_data"
    },
    {
     "name": "stdout",
     "output_type": "stream",
     "text": [
      "<class 'dict'>\n"
     ]
    }
   ],
   "source": [
    "# 使用 pandas.DataFrame.to_dict 將格式轉成 dict\n",
    "# 設定 orient='dict'\n",
    "df_to_dict = df.to_dict(orient='dict')\n",
    "display(df_to_dict)\n",
    "print(type(df_to_dict))"
   ]
  },
  {
   "cell_type": "code",
   "execution_count": 35,
   "metadata": {
    "colab": {
     "autoexec": {
      "startup": false,
      "wait_interval": 0
     },
     "base_uri": "https://localhost:8080/",
     "height": 85
    },
    "colab_type": "code",
    "executionInfo": {
     "elapsed": 845,
     "status": "ok",
     "timestamp": 1530663430181,
     "user": {
      "displayName": "李雅庭",
      "photoUrl": "//lh3.googleusercontent.com/-FMmqLpFWdh4/AAAAAAAAAAI/AAAAAAAAAEA/Q8gctKy4m-I/s50-c-k-no/photo.jpg",
      "userId": "107216197418371220980"
     },
     "user_tz": -480
    },
    "id": "wOYypcS5BNAw",
    "outputId": "b148bd47-7630-4965-b3f6-f973c6a8bb87"
   },
   "outputs": [
    {
     "data": {
      "text/plain": [
       "{'a': [1, 2, 3, 4, 5],\n",
       " 'b': [11, 12, 13, 14, 15],\n",
       " 'c': [100, 200, 300, 400, 500]}"
      ]
     },
     "metadata": {},
     "output_type": "display_data"
    },
    {
     "name": "stdout",
     "output_type": "stream",
     "text": [
      "<class 'dict'>\n"
     ]
    }
   ],
   "source": [
    "# 設定 orient='list'\n",
    "df_to_dict = df.to_dict(orient='list')\n",
    "display(df_to_dict)\n",
    "print(type(df_to_dict))"
   ]
  },
  {
   "cell_type": "code",
   "execution_count": 36,
   "metadata": {
    "colab": {
     "autoexec": {
      "startup": false,
      "wait_interval": 0
     },
     "base_uri": "https://localhost:8080/",
     "height": 119
    },
    "colab_type": "code",
    "executionInfo": {
     "elapsed": 836,
     "status": "ok",
     "timestamp": 1530663431112,
     "user": {
      "displayName": "李雅庭",
      "photoUrl": "//lh3.googleusercontent.com/-FMmqLpFWdh4/AAAAAAAAAAI/AAAAAAAAAEA/Q8gctKy4m-I/s50-c-k-no/photo.jpg",
      "userId": "107216197418371220980"
     },
     "user_tz": -480
    },
    "id": "eTqNQDTgBUvv",
    "outputId": "8e605321-9ae7-4c97-d478-93be8950bfc7"
   },
   "outputs": [
    {
     "data": {
      "text/plain": [
       "[{'a': 1, 'b': 11, 'c': 100},\n",
       " {'a': 2, 'b': 12, 'c': 200},\n",
       " {'a': 3, 'b': 13, 'c': 300},\n",
       " {'a': 4, 'b': 14, 'c': 400},\n",
       " {'a': 5, 'b': 15, 'c': 500}]"
      ]
     },
     "metadata": {},
     "output_type": "display_data"
    },
    {
     "name": "stdout",
     "output_type": "stream",
     "text": [
      "<class 'list'>\n"
     ]
    }
   ],
   "source": [
    "# 設定 orient='records'\n",
    "df_to_dict = df.to_dict(orient='records')\n",
    "display(df_to_dict)\n",
    "print(type(df_to_dict))"
   ]
  },
  {
   "cell_type": "markdown",
   "metadata": {
    "colab_type": "text",
    "id": "ufwgCR-GLzwh"
   },
   "source": [
    "### .to_json()"
   ]
  },
  {
   "cell_type": "code",
   "execution_count": 37,
   "metadata": {
    "colab": {
     "autoexec": {
      "startup": false,
      "wait_interval": 0
     },
     "base_uri": "https://localhost:8080/",
     "height": 221
    },
    "colab_type": "code",
    "executionInfo": {
     "elapsed": 767,
     "status": "ok",
     "timestamp": 1530689520689,
     "user": {
      "displayName": "李雅庭",
      "photoUrl": "//lh3.googleusercontent.com/-FMmqLpFWdh4/AAAAAAAAAAI/AAAAAAAAAEA/Q8gctKy4m-I/s50-c-k-no/photo.jpg",
      "userId": "107216197418371220980"
     },
     "user_tz": -480
    },
    "id": "kSjDrF1VLzPt",
    "outputId": "6f6e16ab-10a2-47a0-ab4f-340e9bbe0b31"
   },
   "outputs": [
    {
     "data": {
      "text/html": [
       "<div>\n",
       "<style scoped>\n",
       "    .dataframe tbody tr th:only-of-type {\n",
       "        vertical-align: middle;\n",
       "    }\n",
       "\n",
       "    .dataframe tbody tr th {\n",
       "        vertical-align: top;\n",
       "    }\n",
       "\n",
       "    .dataframe thead th {\n",
       "        text-align: right;\n",
       "    }\n",
       "</style>\n",
       "<table border=\"1\" class=\"dataframe\">\n",
       "  <thead>\n",
       "    <tr style=\"text-align: right;\">\n",
       "      <th></th>\n",
       "      <th>a</th>\n",
       "      <th>b</th>\n",
       "      <th>c</th>\n",
       "    </tr>\n",
       "  </thead>\n",
       "  <tbody>\n",
       "    <tr>\n",
       "      <th>0</th>\n",
       "      <td>1.0</td>\n",
       "      <td>11</td>\n",
       "      <td>100</td>\n",
       "    </tr>\n",
       "    <tr>\n",
       "      <th>1</th>\n",
       "      <td>NaN</td>\n",
       "      <td>12</td>\n",
       "      <td>200</td>\n",
       "    </tr>\n",
       "    <tr>\n",
       "      <th>2</th>\n",
       "      <td>3.0</td>\n",
       "      <td>13</td>\n",
       "      <td>300</td>\n",
       "    </tr>\n",
       "    <tr>\n",
       "      <th>3</th>\n",
       "      <td>4.0</td>\n",
       "      <td>14</td>\n",
       "      <td>400</td>\n",
       "    </tr>\n",
       "    <tr>\n",
       "      <th>4</th>\n",
       "      <td>5.0</td>\n",
       "      <td>15</td>\n",
       "      <td>500</td>\n",
       "    </tr>\n",
       "  </tbody>\n",
       "</table>\n",
       "</div>"
      ],
      "text/plain": [
       "     a   b    c\n",
       "0  1.0  11  100\n",
       "1  NaN  12  200\n",
       "2  3.0  13  300\n",
       "3  4.0  14  400\n",
       "4  5.0  15  500"
      ]
     },
     "metadata": {},
     "output_type": "display_data"
    },
    {
     "name": "stdout",
     "output_type": "stream",
     "text": [
      "<class 'pandas.core.frame.DataFrame'>\n"
     ]
    }
   ],
   "source": [
    "# 建立一個 dataframe\n",
    "df = pd.DataFrame({'a':[1, np.nan, 3, 4, 5], 'b':[11, 12, 13, 14, 15], 'c':[100, 200, 300, 400, 500]})\n",
    "display(df)\n",
    "print(type(df))"
   ]
  },
  {
   "cell_type": "code",
   "execution_count": 38,
   "metadata": {
    "colab": {
     "autoexec": {
      "startup": false,
      "wait_interval": 0
     },
     "base_uri": "https://localhost:8080/",
     "height": 54
    },
    "colab_type": "code",
    "executionInfo": {
     "elapsed": 972,
     "status": "ok",
     "timestamp": 1530689659646,
     "user": {
      "displayName": "李雅庭",
      "photoUrl": "//lh3.googleusercontent.com/-FMmqLpFWdh4/AAAAAAAAAAI/AAAAAAAAAEA/Q8gctKy4m-I/s50-c-k-no/photo.jpg",
      "userId": "107216197418371220980"
     },
     "user_tz": -480
    },
    "id": "CU6JIqbtM4en",
    "outputId": "e2eab8a6-900f-43bb-f0de-3fb86dc0f721"
   },
   "outputs": [
    {
     "data": {
      "text/plain": [
       "'{\"a\":{\"0\":1.0,\"1\":null,\"2\":3.0,\"3\":4.0,\"4\":5.0},\"b\":{\"0\":11,\"1\":12,\"2\":13,\"3\":14,\"4\":15},\"c\":{\"0\":100,\"1\":200,\"2\":300,\"3\":400,\"4\":500}}'"
      ]
     },
     "execution_count": 38,
     "metadata": {},
     "output_type": "execute_result"
    }
   ],
   "source": [
    "df.to_json()"
   ]
  },
  {
   "cell_type": "markdown",
   "metadata": {
    "colab_type": "text",
    "id": "hcUaqITilbtt"
   },
   "source": [
    "## Missing Value"
   ]
  },
  {
   "cell_type": "markdown",
   "metadata": {
    "colab_type": "text",
    "id": "95_EpK7IliGj"
   },
   "source": [
    "* 在 python 中 遺失值（missing value）以 NA (not available) 統稱。\n",
    "* NA 的表示法可分成 Python 原生 和 Pandas 自定義， 且針對不同 data type 有不同的表示方式，請看下表：\n",
    "\n",
    "data type | Python 顯示結果 | Python 程式寫法 | Pandas 顯示結果 | Pandas 程式寫法\n",
    "--|--\n",
    "object | None | `None` | NaN, None | `numpy.nan`, `None`\n",
    "numeric | | | NaN | `numpy.nan`, `None`\n",
    "datetime-like | | | NaT | `numpy.nan`, `None`\n",
    "\n",
    "\n",
    "* 以 Pandas I/O 讀取檔案時，程式預設當識別到以下文字則會標記 `NaN` (not a number)：\n",
    "`['-1.#IND', '1.#QNAN', '1.#IND', '-1.#QNAN', '#N/A N/A', '#N/A', 'N/A', 'n/a', 'NA', '#NA', 'NULL', 'null', 'NaN', '-NaN', 'nan', '-nan', '']`\n",
    "* 參考文件：\n",
    "  * [NA Values](http://pandas-docs.github.io/pandas-docs-travis/io.html#na-values)"
   ]
  },
  {
   "cell_type": "code",
   "execution_count": 39,
   "metadata": {
    "colab": {
     "autoexec": {
      "startup": false,
      "wait_interval": 0
     },
     "base_uri": "https://localhost:8080/",
     "height": 563
    },
    "colab_type": "code",
    "executionInfo": {
     "elapsed": 992,
     "status": "ok",
     "timestamp": 1530669162992,
     "user": {
      "displayName": "李雅庭",
      "photoUrl": "//lh3.googleusercontent.com/-FMmqLpFWdh4/AAAAAAAAAAI/AAAAAAAAAEA/Q8gctKy4m-I/s50-c-k-no/photo.jpg",
      "userId": "107216197418371220980"
     },
     "user_tz": -480
    },
    "id": "0lxF-yiPPtSq",
    "outputId": "04d1a2c8-14ae-4eb9-b5eb-36b0a4f788ea"
   },
   "outputs": [
    {
     "data": {
      "text/html": [
       "<div>\n",
       "<style scoped>\n",
       "    .dataframe tbody tr th:only-of-type {\n",
       "        vertical-align: middle;\n",
       "    }\n",
       "\n",
       "    .dataframe tbody tr th {\n",
       "        vertical-align: top;\n",
       "    }\n",
       "\n",
       "    .dataframe thead th {\n",
       "        text-align: right;\n",
       "    }\n",
       "</style>\n",
       "<table border=\"1\" class=\"dataframe\">\n",
       "  <thead>\n",
       "    <tr style=\"text-align: right;\">\n",
       "      <th></th>\n",
       "      <th>weight</th>\n",
       "      <th>Body_fat_percentage</th>\n",
       "    </tr>\n",
       "  </thead>\n",
       "  <tbody>\n",
       "    <tr>\n",
       "      <th>2018-01-01</th>\n",
       "      <td>50.5</td>\n",
       "      <td>3.5</td>\n",
       "    </tr>\n",
       "    <tr>\n",
       "      <th>2018-01-03</th>\n",
       "      <td>51.2</td>\n",
       "      <td>3.3</td>\n",
       "    </tr>\n",
       "    <tr>\n",
       "      <th>2018-01-04</th>\n",
       "      <td>50.9</td>\n",
       "      <td>3.0</td>\n",
       "    </tr>\n",
       "    <tr>\n",
       "      <th>2018-01-07</th>\n",
       "      <td>51.5</td>\n",
       "      <td>3.6</td>\n",
       "    </tr>\n",
       "    <tr>\n",
       "      <th>2018-01-10</th>\n",
       "      <td>51.6</td>\n",
       "      <td>3.4</td>\n",
       "    </tr>\n",
       "  </tbody>\n",
       "</table>\n",
       "</div>"
      ],
      "text/plain": [
       "            weight  Body_fat_percentage\n",
       "2018-01-01    50.5                  3.5\n",
       "2018-01-03    51.2                  3.3\n",
       "2018-01-04    50.9                  3.0\n",
       "2018-01-07    51.5                  3.6\n",
       "2018-01-10    51.6                  3.4"
      ]
     },
     "metadata": {},
     "output_type": "display_data"
    },
    {
     "name": "stdout",
     "output_type": "stream",
     "text": [
      "\n"
     ]
    },
    {
     "data": {
      "text/html": [
       "<div>\n",
       "<style scoped>\n",
       "    .dataframe tbody tr th:only-of-type {\n",
       "        vertical-align: middle;\n",
       "    }\n",
       "\n",
       "    .dataframe tbody tr th {\n",
       "        vertical-align: top;\n",
       "    }\n",
       "\n",
       "    .dataframe thead th {\n",
       "        text-align: right;\n",
       "    }\n",
       "</style>\n",
       "<table border=\"1\" class=\"dataframe\">\n",
       "  <thead>\n",
       "    <tr style=\"text-align: right;\">\n",
       "      <th></th>\n",
       "      <th>weight</th>\n",
       "      <th>Body_fat_percentage</th>\n",
       "    </tr>\n",
       "  </thead>\n",
       "  <tbody>\n",
       "    <tr>\n",
       "      <th>2018-01-01</th>\n",
       "      <td>50.5</td>\n",
       "      <td>3.5</td>\n",
       "    </tr>\n",
       "    <tr>\n",
       "      <th>2018-01-02</th>\n",
       "      <td>NaN</td>\n",
       "      <td>NaN</td>\n",
       "    </tr>\n",
       "    <tr>\n",
       "      <th>2018-01-03</th>\n",
       "      <td>51.2</td>\n",
       "      <td>3.3</td>\n",
       "    </tr>\n",
       "    <tr>\n",
       "      <th>2018-01-04</th>\n",
       "      <td>50.9</td>\n",
       "      <td>3.0</td>\n",
       "    </tr>\n",
       "    <tr>\n",
       "      <th>2018-01-05</th>\n",
       "      <td>NaN</td>\n",
       "      <td>NaN</td>\n",
       "    </tr>\n",
       "    <tr>\n",
       "      <th>2018-01-06</th>\n",
       "      <td>NaN</td>\n",
       "      <td>NaN</td>\n",
       "    </tr>\n",
       "    <tr>\n",
       "      <th>2018-01-07</th>\n",
       "      <td>51.5</td>\n",
       "      <td>3.6</td>\n",
       "    </tr>\n",
       "    <tr>\n",
       "      <th>2018-01-08</th>\n",
       "      <td>NaN</td>\n",
       "      <td>NaN</td>\n",
       "    </tr>\n",
       "    <tr>\n",
       "      <th>2018-01-09</th>\n",
       "      <td>NaN</td>\n",
       "      <td>NaN</td>\n",
       "    </tr>\n",
       "    <tr>\n",
       "      <th>2018-01-10</th>\n",
       "      <td>51.6</td>\n",
       "      <td>3.4</td>\n",
       "    </tr>\n",
       "  </tbody>\n",
       "</table>\n",
       "</div>"
      ],
      "text/plain": [
       "            weight  Body_fat_percentage\n",
       "2018-01-01    50.5                  3.5\n",
       "2018-01-02     NaN                  NaN\n",
       "2018-01-03    51.2                  3.3\n",
       "2018-01-04    50.9                  3.0\n",
       "2018-01-05     NaN                  NaN\n",
       "2018-01-06     NaN                  NaN\n",
       "2018-01-07    51.5                  3.6\n",
       "2018-01-08     NaN                  NaN\n",
       "2018-01-09     NaN                  NaN\n",
       "2018-01-10    51.6                  3.4"
      ]
     },
     "metadata": {},
     "output_type": "display_data"
    }
   ],
   "source": [
    "# 為什麼會產生 NA ?\n",
    "\n",
    "# 假設有一份資料紀錄每天的 體重（weight）和 體脂肪率（Body_fat_percentage）\n",
    "# 但是部分日期沒有測量紀錄，以下時間 2018-01-02, 2018-01-05, 2018-01-06, 2018-01-08, 2018-01-09 沒有資料\n",
    "df = pd.DataFrame([[50.5, 3.5], [51.2, 3.3], [50.9, 3], [51.5, 3.6], [51.6, 3.4]], \n",
    "                  index=['2018-01-01', '2018-01-03', '2018-01-04', '2018-01-07', '2018-01-10'], \n",
    "                  columns=['weight', 'Body_fat_percentage'])\n",
    "display(df)\n",
    "print()\n",
    "\n",
    "# 資料應該每天記錄，如果把缺失的時間補上，則會產生 NaN \n",
    "# 使用 .reindex() 可將原本已經存在的 row index 資料保留，原本不存在但是現在要加進去的 row index 則 values 補值  numpy.nan -> NaN\n",
    "df2 = df.reindex(['2018-01-01', '2018-01-02', '2018-01-03', '2018-01-04', '2018-01-05', '2018-01-06', '2018-01-07', '2018-01-08', '2018-01-09','2018-01-10'])\n",
    "display(df2)"
   ]
  },
  {
   "cell_type": "markdown",
   "metadata": {
    "colab_type": "text",
    "id": "RXVZK5dUssIR"
   },
   "source": [
    "### 如何偵測 NA ?\n",
    "\n",
    "1. 使用 Pandas Function ：\n",
    "\n",
    "    * [pandas.isna](https://pandas.pydata.org/pandas-docs/stable/generated/pandas.isna.html)\n",
    "    * [pandas.notna](https://pandas.pydata.org/pandas-docs/stable/generated/pandas.notna.html)\n",
    "    * [pandas.isnull](https://pandas.pydata.org/pandas-docs/stable/generated/pandas.isnull.html)\n",
    "    * [pandas.notnull](https://pandas.pydata.org/pandas-docs/stable/generated/pandas.notnull.html)\n",
    "\n",
    "1. Pandas DataFrame Object Method：\n",
    "\n",
    "    * [pandas.DataFrame.isna](https://pandas.pydata.org/pandas-docs/stable/generated/pandas.DataFrame.isna.html)\n",
    "    * [pandas.DataFrame.notna](https://pandas.pydata.org/pandas-docs/stable/generated/pandas.DataFrame.notna.html)\n",
    "    * [pandas.DataFrame.isnull](https://pandas.pydata.org/pandas-docs/stable/generated/pandas.DataFrame.isnull.html)\n",
    "    * [pandas.DataFrame.notnull](https://pandas.pydata.org/pandas-docs/stable/generated/pandas.DataFrame.notnull.html)\n",
    "    \n",
    "1. Pandas Series Object Method：\n",
    "\n",
    "    * [pandas.Series.isna](https://pandas.pydata.org/pandas-docs/stable/generated/pandas.Series.isna.html#pandas.Series.isna)\n",
    "    * [pandas.Series.notna](https://pandas.pydata.org/pandas-docs/stable/generated/pandas.Series.notna.html#pandas.Series.notna)\n",
    "    * [pandas.Series.isnull](https://pandas.pydata.org/pandas-docs/stable/generated/pandas.Series.isnull.html#pandas.Series.isnull)\n",
    "    * [pandas.Series.notnull](https://pandas.pydata.org/pandas-docs/stable/generated/pandas.Series.notnull.html#pandas.Series.notnull)"
   ]
  },
  {
   "cell_type": "code",
   "execution_count": 40,
   "metadata": {
    "colab": {
     "autoexec": {
      "startup": false,
      "wait_interval": 0
     },
     "base_uri": "https://localhost:8080/",
     "height": 359
    },
    "colab_type": "code",
    "executionInfo": {
     "elapsed": 904,
     "status": "ok",
     "timestamp": 1530669973371,
     "user": {
      "displayName": "李雅庭",
      "photoUrl": "//lh3.googleusercontent.com/-FMmqLpFWdh4/AAAAAAAAAAI/AAAAAAAAAEA/Q8gctKy4m-I/s50-c-k-no/photo.jpg",
      "userId": "107216197418371220980"
     },
     "user_tz": -480
    },
    "id": "Z0ti_wClo3Tn",
    "outputId": "23ab0d0c-c51c-4000-beeb-e86b325f00b0"
   },
   "outputs": [
    {
     "data": {
      "text/html": [
       "<div>\n",
       "<style scoped>\n",
       "    .dataframe tbody tr th:only-of-type {\n",
       "        vertical-align: middle;\n",
       "    }\n",
       "\n",
       "    .dataframe tbody tr th {\n",
       "        vertical-align: top;\n",
       "    }\n",
       "\n",
       "    .dataframe thead th {\n",
       "        text-align: right;\n",
       "    }\n",
       "</style>\n",
       "<table border=\"1\" class=\"dataframe\">\n",
       "  <thead>\n",
       "    <tr style=\"text-align: right;\">\n",
       "      <th></th>\n",
       "      <th>weight</th>\n",
       "      <th>Body_fat_percentage</th>\n",
       "    </tr>\n",
       "  </thead>\n",
       "  <tbody>\n",
       "    <tr>\n",
       "      <th>2018-01-01</th>\n",
       "      <td>False</td>\n",
       "      <td>False</td>\n",
       "    </tr>\n",
       "    <tr>\n",
       "      <th>2018-01-02</th>\n",
       "      <td>True</td>\n",
       "      <td>True</td>\n",
       "    </tr>\n",
       "    <tr>\n",
       "      <th>2018-01-03</th>\n",
       "      <td>False</td>\n",
       "      <td>False</td>\n",
       "    </tr>\n",
       "    <tr>\n",
       "      <th>2018-01-04</th>\n",
       "      <td>False</td>\n",
       "      <td>False</td>\n",
       "    </tr>\n",
       "    <tr>\n",
       "      <th>2018-01-05</th>\n",
       "      <td>True</td>\n",
       "      <td>True</td>\n",
       "    </tr>\n",
       "    <tr>\n",
       "      <th>2018-01-06</th>\n",
       "      <td>True</td>\n",
       "      <td>True</td>\n",
       "    </tr>\n",
       "    <tr>\n",
       "      <th>2018-01-07</th>\n",
       "      <td>False</td>\n",
       "      <td>False</td>\n",
       "    </tr>\n",
       "    <tr>\n",
       "      <th>2018-01-08</th>\n",
       "      <td>True</td>\n",
       "      <td>True</td>\n",
       "    </tr>\n",
       "    <tr>\n",
       "      <th>2018-01-09</th>\n",
       "      <td>True</td>\n",
       "      <td>True</td>\n",
       "    </tr>\n",
       "    <tr>\n",
       "      <th>2018-01-10</th>\n",
       "      <td>False</td>\n",
       "      <td>False</td>\n",
       "    </tr>\n",
       "  </tbody>\n",
       "</table>\n",
       "</div>"
      ],
      "text/plain": [
       "            weight  Body_fat_percentage\n",
       "2018-01-01   False                False\n",
       "2018-01-02    True                 True\n",
       "2018-01-03   False                False\n",
       "2018-01-04   False                False\n",
       "2018-01-05    True                 True\n",
       "2018-01-06    True                 True\n",
       "2018-01-07   False                False\n",
       "2018-01-08    True                 True\n",
       "2018-01-09    True                 True\n",
       "2018-01-10   False                False"
      ]
     },
     "metadata": {},
     "output_type": "display_data"
    }
   ],
   "source": [
    "# 使用 Pandas Function .isna()\n",
    "display(pd.isna(df2))"
   ]
  },
  {
   "cell_type": "code",
   "execution_count": 41,
   "metadata": {
    "colab": {
     "autoexec": {
      "startup": false,
      "wait_interval": 0
     },
     "base_uri": "https://localhost:8080/",
     "height": 359
    },
    "colab_type": "code",
    "executionInfo": {
     "elapsed": 661,
     "status": "ok",
     "timestamp": 1530669167877,
     "user": {
      "displayName": "李雅庭",
      "photoUrl": "//lh3.googleusercontent.com/-FMmqLpFWdh4/AAAAAAAAAAI/AAAAAAAAAEA/Q8gctKy4m-I/s50-c-k-no/photo.jpg",
      "userId": "107216197418371220980"
     },
     "user_tz": -480
    },
    "id": "EeO5y2U7utic",
    "outputId": "92bab519-80d9-47c0-95f2-7e057e15f97d"
   },
   "outputs": [
    {
     "data": {
      "text/html": [
       "<div>\n",
       "<style scoped>\n",
       "    .dataframe tbody tr th:only-of-type {\n",
       "        vertical-align: middle;\n",
       "    }\n",
       "\n",
       "    .dataframe tbody tr th {\n",
       "        vertical-align: top;\n",
       "    }\n",
       "\n",
       "    .dataframe thead th {\n",
       "        text-align: right;\n",
       "    }\n",
       "</style>\n",
       "<table border=\"1\" class=\"dataframe\">\n",
       "  <thead>\n",
       "    <tr style=\"text-align: right;\">\n",
       "      <th></th>\n",
       "      <th>weight</th>\n",
       "      <th>Body_fat_percentage</th>\n",
       "    </tr>\n",
       "  </thead>\n",
       "  <tbody>\n",
       "    <tr>\n",
       "      <th>2018-01-01</th>\n",
       "      <td>False</td>\n",
       "      <td>False</td>\n",
       "    </tr>\n",
       "    <tr>\n",
       "      <th>2018-01-02</th>\n",
       "      <td>True</td>\n",
       "      <td>True</td>\n",
       "    </tr>\n",
       "    <tr>\n",
       "      <th>2018-01-03</th>\n",
       "      <td>False</td>\n",
       "      <td>False</td>\n",
       "    </tr>\n",
       "    <tr>\n",
       "      <th>2018-01-04</th>\n",
       "      <td>False</td>\n",
       "      <td>False</td>\n",
       "    </tr>\n",
       "    <tr>\n",
       "      <th>2018-01-05</th>\n",
       "      <td>True</td>\n",
       "      <td>True</td>\n",
       "    </tr>\n",
       "    <tr>\n",
       "      <th>2018-01-06</th>\n",
       "      <td>True</td>\n",
       "      <td>True</td>\n",
       "    </tr>\n",
       "    <tr>\n",
       "      <th>2018-01-07</th>\n",
       "      <td>False</td>\n",
       "      <td>False</td>\n",
       "    </tr>\n",
       "    <tr>\n",
       "      <th>2018-01-08</th>\n",
       "      <td>True</td>\n",
       "      <td>True</td>\n",
       "    </tr>\n",
       "    <tr>\n",
       "      <th>2018-01-09</th>\n",
       "      <td>True</td>\n",
       "      <td>True</td>\n",
       "    </tr>\n",
       "    <tr>\n",
       "      <th>2018-01-10</th>\n",
       "      <td>False</td>\n",
       "      <td>False</td>\n",
       "    </tr>\n",
       "  </tbody>\n",
       "</table>\n",
       "</div>"
      ],
      "text/plain": [
       "            weight  Body_fat_percentage\n",
       "2018-01-01   False                False\n",
       "2018-01-02    True                 True\n",
       "2018-01-03   False                False\n",
       "2018-01-04   False                False\n",
       "2018-01-05    True                 True\n",
       "2018-01-06    True                 True\n",
       "2018-01-07   False                False\n",
       "2018-01-08    True                 True\n",
       "2018-01-09    True                 True\n",
       "2018-01-10   False                False"
      ]
     },
     "metadata": {},
     "output_type": "display_data"
    }
   ],
   "source": [
    "# 使用 Pandas DataFrame Object Method .isna()\n",
    "display(df2.isna())"
   ]
  },
  {
   "cell_type": "markdown",
   "metadata": {
    "colab_type": "text",
    "id": "49XvvPcI9aDR"
   },
   "source": [
    "### 如何處理 NA ? （詳見 Chpater 4：4-1）\n",
    "\n",
    "1. Pandas DataFrame Object Method：\n",
    "\n",
    "    * [pandas.DataFrame.fillna](https://pandas.pydata.org/pandas-docs/stable/generated/pandas.DataFrame.fillna.html#pandas.DataFrame.fillna)\n",
    "    * [pandas.DataFrame.replace](https://pandas.pydata.org/pandas-docs/stable/generated/pandas.DataFrame.replace.html#pandas.DataFrame.replace)\n",
    "    * [pandas.DataFrame.dropna](https://pandas.pydata.org/pandas-docs/stable/generated/pandas.DataFrame.dropna.html#pandas.DataFrame.dropna)\n",
    "\n",
    "1. Pandas Series Object Method：\n",
    "\n",
    "    * [pandas.Series.fillna](https://pandas.pydata.org/pandas-docs/stable/generated/pandas.Series.fillna.html#pandas.Series.fillna)\n",
    "    * [pandas.Series.replace](https://pandas.pydata.org/pandas-docs/stable/generated/pandas.Series.replace.html#pandas.Series.replace)\n",
    "    * [pandas.Series.dropna](https://pandas.pydata.org/pandas-docs/stable/generated/pandas.Series.dropna.html#pandas.Series.dropna)\n"
   ]
  },
  {
   "cell_type": "code",
   "execution_count": 42,
   "metadata": {
    "colab": {
     "autoexec": {
      "startup": false,
      "wait_interval": 0
     },
     "base_uri": "https://localhost:8080/",
     "height": 359
    },
    "colab_type": "code",
    "executionInfo": {
     "elapsed": 686,
     "status": "ok",
     "timestamp": 1530669170040,
     "user": {
      "displayName": "李雅庭",
      "photoUrl": "//lh3.googleusercontent.com/-FMmqLpFWdh4/AAAAAAAAAAI/AAAAAAAAAEA/Q8gctKy4m-I/s50-c-k-no/photo.jpg",
      "userId": "107216197418371220980"
     },
     "user_tz": -480
    },
    "id": "40J9mick_GqW",
    "outputId": "8382882c-ecb7-47ba-eabf-1c0454779a3c"
   },
   "outputs": [
    {
     "data": {
      "text/html": [
       "<div>\n",
       "<style scoped>\n",
       "    .dataframe tbody tr th:only-of-type {\n",
       "        vertical-align: middle;\n",
       "    }\n",
       "\n",
       "    .dataframe tbody tr th {\n",
       "        vertical-align: top;\n",
       "    }\n",
       "\n",
       "    .dataframe thead th {\n",
       "        text-align: right;\n",
       "    }\n",
       "</style>\n",
       "<table border=\"1\" class=\"dataframe\">\n",
       "  <thead>\n",
       "    <tr style=\"text-align: right;\">\n",
       "      <th></th>\n",
       "      <th>weight</th>\n",
       "      <th>Body_fat_percentage</th>\n",
       "    </tr>\n",
       "  </thead>\n",
       "  <tbody>\n",
       "    <tr>\n",
       "      <th>2018-01-01</th>\n",
       "      <td>50.5</td>\n",
       "      <td>3.5</td>\n",
       "    </tr>\n",
       "    <tr>\n",
       "      <th>2018-01-02</th>\n",
       "      <td>50.5</td>\n",
       "      <td>3.5</td>\n",
       "    </tr>\n",
       "    <tr>\n",
       "      <th>2018-01-03</th>\n",
       "      <td>51.2</td>\n",
       "      <td>3.3</td>\n",
       "    </tr>\n",
       "    <tr>\n",
       "      <th>2018-01-04</th>\n",
       "      <td>50.9</td>\n",
       "      <td>3.0</td>\n",
       "    </tr>\n",
       "    <tr>\n",
       "      <th>2018-01-05</th>\n",
       "      <td>50.9</td>\n",
       "      <td>3.0</td>\n",
       "    </tr>\n",
       "    <tr>\n",
       "      <th>2018-01-06</th>\n",
       "      <td>50.9</td>\n",
       "      <td>3.0</td>\n",
       "    </tr>\n",
       "    <tr>\n",
       "      <th>2018-01-07</th>\n",
       "      <td>51.5</td>\n",
       "      <td>3.6</td>\n",
       "    </tr>\n",
       "    <tr>\n",
       "      <th>2018-01-08</th>\n",
       "      <td>51.5</td>\n",
       "      <td>3.6</td>\n",
       "    </tr>\n",
       "    <tr>\n",
       "      <th>2018-01-09</th>\n",
       "      <td>51.5</td>\n",
       "      <td>3.6</td>\n",
       "    </tr>\n",
       "    <tr>\n",
       "      <th>2018-01-10</th>\n",
       "      <td>51.6</td>\n",
       "      <td>3.4</td>\n",
       "    </tr>\n",
       "  </tbody>\n",
       "</table>\n",
       "</div>"
      ],
      "text/plain": [
       "            weight  Body_fat_percentage\n",
       "2018-01-01    50.5                  3.5\n",
       "2018-01-02    50.5                  3.5\n",
       "2018-01-03    51.2                  3.3\n",
       "2018-01-04    50.9                  3.0\n",
       "2018-01-05    50.9                  3.0\n",
       "2018-01-06    50.9                  3.0\n",
       "2018-01-07    51.5                  3.6\n",
       "2018-01-08    51.5                  3.6\n",
       "2018-01-09    51.5                  3.6\n",
       "2018-01-10    51.6                  3.4"
      ]
     },
     "metadata": {},
     "output_type": "display_data"
    }
   ],
   "source": [
    "# Pandas DataFrame Object Method\n",
    "\n",
    "# .fillna(method='ffill') 由前往後補值\n",
    "display(df2.fillna(method='ffill'))"
   ]
  },
  {
   "cell_type": "code",
   "execution_count": 43,
   "metadata": {
    "colab": {
     "autoexec": {
      "startup": false,
      "wait_interval": 0
     },
     "base_uri": "https://localhost:8080/",
     "height": 359
    },
    "colab_type": "code",
    "executionInfo": {
     "elapsed": 943,
     "status": "ok",
     "timestamp": 1530669207542,
     "user": {
      "displayName": "李雅庭",
      "photoUrl": "//lh3.googleusercontent.com/-FMmqLpFWdh4/AAAAAAAAAAI/AAAAAAAAAEA/Q8gctKy4m-I/s50-c-k-no/photo.jpg",
      "userId": "107216197418371220980"
     },
     "user_tz": -480
    },
    "id": "vl3P9Ldj_huk",
    "outputId": "64c98d30-56ff-4843-ab49-bd18dacdf58a"
   },
   "outputs": [
    {
     "data": {
      "text/html": [
       "<div>\n",
       "<style scoped>\n",
       "    .dataframe tbody tr th:only-of-type {\n",
       "        vertical-align: middle;\n",
       "    }\n",
       "\n",
       "    .dataframe tbody tr th {\n",
       "        vertical-align: top;\n",
       "    }\n",
       "\n",
       "    .dataframe thead th {\n",
       "        text-align: right;\n",
       "    }\n",
       "</style>\n",
       "<table border=\"1\" class=\"dataframe\">\n",
       "  <thead>\n",
       "    <tr style=\"text-align: right;\">\n",
       "      <th></th>\n",
       "      <th>weight</th>\n",
       "      <th>Body_fat_percentage</th>\n",
       "    </tr>\n",
       "  </thead>\n",
       "  <tbody>\n",
       "    <tr>\n",
       "      <th>2018-01-01</th>\n",
       "      <td>50.5</td>\n",
       "      <td>3.5</td>\n",
       "    </tr>\n",
       "    <tr>\n",
       "      <th>2018-01-02</th>\n",
       "      <td>0.0</td>\n",
       "      <td>0.0</td>\n",
       "    </tr>\n",
       "    <tr>\n",
       "      <th>2018-01-03</th>\n",
       "      <td>51.2</td>\n",
       "      <td>3.3</td>\n",
       "    </tr>\n",
       "    <tr>\n",
       "      <th>2018-01-04</th>\n",
       "      <td>50.9</td>\n",
       "      <td>3.0</td>\n",
       "    </tr>\n",
       "    <tr>\n",
       "      <th>2018-01-05</th>\n",
       "      <td>0.0</td>\n",
       "      <td>0.0</td>\n",
       "    </tr>\n",
       "    <tr>\n",
       "      <th>2018-01-06</th>\n",
       "      <td>0.0</td>\n",
       "      <td>0.0</td>\n",
       "    </tr>\n",
       "    <tr>\n",
       "      <th>2018-01-07</th>\n",
       "      <td>51.5</td>\n",
       "      <td>3.6</td>\n",
       "    </tr>\n",
       "    <tr>\n",
       "      <th>2018-01-08</th>\n",
       "      <td>0.0</td>\n",
       "      <td>0.0</td>\n",
       "    </tr>\n",
       "    <tr>\n",
       "      <th>2018-01-09</th>\n",
       "      <td>0.0</td>\n",
       "      <td>0.0</td>\n",
       "    </tr>\n",
       "    <tr>\n",
       "      <th>2018-01-10</th>\n",
       "      <td>51.6</td>\n",
       "      <td>3.4</td>\n",
       "    </tr>\n",
       "  </tbody>\n",
       "</table>\n",
       "</div>"
      ],
      "text/plain": [
       "            weight  Body_fat_percentage\n",
       "2018-01-01    50.5                  3.5\n",
       "2018-01-02     0.0                  0.0\n",
       "2018-01-03    51.2                  3.3\n",
       "2018-01-04    50.9                  3.0\n",
       "2018-01-05     0.0                  0.0\n",
       "2018-01-06     0.0                  0.0\n",
       "2018-01-07    51.5                  3.6\n",
       "2018-01-08     0.0                  0.0\n",
       "2018-01-09     0.0                  0.0\n",
       "2018-01-10    51.6                  3.4"
      ]
     },
     "metadata": {},
     "output_type": "display_data"
    }
   ],
   "source": [
    "# Pandas DataFrame Object Method\n",
    "\n",
    "# .replace() 將 np.nan 補值為 0\n",
    "display(df2.replace({np.nan:0}))"
   ]
  },
  {
   "cell_type": "markdown",
   "metadata": {
    "colab_type": "text",
    "id": "ntbgnr1w0MZe"
   },
   "source": [
    "## Positive infinity (+∞) & Negative infinity (-∞)\n",
    "\n",
    "* 當兩數相除，分母為零則發生 infinity。例如，`1/0 =` +∞ ，`-1/0 =` -∞ 。\n",
    "* 在 Python 並沒有對此處理（除零會提示錯誤訊息），而 Pandas 和 Numpy  自定義 Positive infinity 和 Negative infinity 表示方式如下表：\n",
    "\n",
    "| 顯示結果 | 程式寫法\n",
    "--|--\n",
    "Positive infinity | inf | `numpy.inf`\n",
    "Negative infinity | -inf | `-numpy.inf`\n"
   ]
  },
  {
   "cell_type": "code",
   "execution_count": 44,
   "metadata": {
    "colab": {
     "autoexec": {
      "startup": false,
      "wait_interval": 0
     },
     "base_uri": "https://localhost:8080/",
     "height": 168
    },
    "colab_type": "code",
    "executionInfo": {
     "elapsed": 835,
     "status": "error",
     "timestamp": 1530668182491,
     "user": {
      "displayName": "李雅庭",
      "photoUrl": "//lh3.googleusercontent.com/-FMmqLpFWdh4/AAAAAAAAAAI/AAAAAAAAAEA/Q8gctKy4m-I/s50-c-k-no/photo.jpg",
      "userId": "107216197418371220980"
     },
     "user_tz": -480
    },
    "id": "695VQAzt7gcO",
    "outputId": "b4746f13-60d9-4674-a715-cd627ffb158e"
   },
   "outputs": [
    {
     "name": "stdout",
     "output_type": "stream",
     "text": [
      "Error occurs. Message: division by zero\n"
     ]
    }
   ],
   "source": [
    "# Python 並沒有對 infinity 處理（除零會提示錯誤訊息）\n",
    "try:\n",
    "    print(1/0)\n",
    "except Exception as e:\n",
    "    print(\"Error occurs. Message:\", e)\n"
   ]
  },
  {
   "cell_type": "code",
   "execution_count": 45,
   "metadata": {
    "colab": {
     "autoexec": {
      "startup": false,
      "wait_interval": 0
     },
     "base_uri": "https://localhost:8080/",
     "height": 102
    },
    "colab_type": "code",
    "executionInfo": {
     "elapsed": 1219,
     "status": "ok",
     "timestamp": 1530670777232,
     "user": {
      "displayName": "李雅庭",
      "photoUrl": "//lh3.googleusercontent.com/-FMmqLpFWdh4/AAAAAAAAAAI/AAAAAAAAAEA/Q8gctKy4m-I/s50-c-k-no/photo.jpg",
      "userId": "107216197418371220980"
     },
     "user_tz": -480
    },
    "id": "o1iLLEWV7xRb",
    "outputId": "780cf091-28a7-4d37-8923-7df8791c013c"
   },
   "outputs": [
    {
     "name": "stdout",
     "output_type": "stream",
     "text": [
      "0    4.000000\n",
      "1         inf\n",
      "2    2.400000\n",
      "3        -inf\n",
      "dtype: float64\n"
     ]
    }
   ],
   "source": [
    "# 在 Pandas 當兩數相除分母為零則發生 infinity\n",
    "\n",
    "# 先建立 Series object \n",
    "a = pd.Series([2, 4, 6, -8])\n",
    "b = pd.Series([0.5, 0, 2.5, 0])\n",
    "\n",
    "c = a / b\n",
    "# 將 a 除 b\n",
    "print(c)"
   ]
  },
  {
   "cell_type": "markdown",
   "metadata": {
    "colab_type": "text",
    "id": "d5ZPFq4O9T8H"
   },
   "source": [
    "### 如何處理 infinity？\n",
    "\n",
    "將 infinity 取代為 NaN，再使用上一節提到的 NA 處理方法"
   ]
  },
  {
   "cell_type": "code",
   "execution_count": 46,
   "metadata": {
    "colab": {
     "autoexec": {
      "startup": false,
      "wait_interval": 0
     },
     "base_uri": "https://localhost:8080/",
     "height": 102
    },
    "colab_type": "code",
    "executionInfo": {
     "elapsed": 654,
     "status": "ok",
     "timestamp": 1530670896261,
     "user": {
      "displayName": "李雅庭",
      "photoUrl": "//lh3.googleusercontent.com/-FMmqLpFWdh4/AAAAAAAAAAI/AAAAAAAAAEA/Q8gctKy4m-I/s50-c-k-no/photo.jpg",
      "userId": "107216197418371220980"
     },
     "user_tz": -480
    },
    "id": "tx0PeH0vxolL",
    "outputId": "c20ad06d-d8c7-4174-8bea-b174728d6080"
   },
   "outputs": [
    {
     "data": {
      "text/plain": [
       "0    4.0\n",
       "1    NaN\n",
       "2    2.4\n",
       "3    NaN\n",
       "dtype: float64"
      ]
     },
     "execution_count": 46,
     "metadata": {},
     "output_type": "execute_result"
    }
   ],
   "source": [
    "# 使用 .replace() 將 inf, -inf 取代為 NaN\n",
    "c.replace(to_replace=[np.inf, -np.inf], value=np.nan, inplace=True)\n",
    "c"
   ]
  },
  {
   "cell_type": "code",
   "execution_count": 47,
   "metadata": {
    "colab": {
     "autoexec": {
      "startup": false,
      "wait_interval": 0
     },
     "base_uri": "https://localhost:8080/",
     "height": 68
    },
    "colab_type": "code",
    "executionInfo": {
     "elapsed": 659,
     "status": "ok",
     "timestamp": 1530670898794,
     "user": {
      "displayName": "李雅庭",
      "photoUrl": "//lh3.googleusercontent.com/-FMmqLpFWdh4/AAAAAAAAAAI/AAAAAAAAAEA/Q8gctKy4m-I/s50-c-k-no/photo.jpg",
      "userId": "107216197418371220980"
     },
     "user_tz": -480
    },
    "id": "pV72R8pkxT5e",
    "outputId": "194e9a23-5792-4211-87d4-d7d528633bf8"
   },
   "outputs": [
    {
     "data": {
      "text/plain": [
       "0    4.0\n",
       "2    2.4\n",
       "dtype: float64"
      ]
     },
     "execution_count": 47,
     "metadata": {},
     "output_type": "execute_result"
    }
   ],
   "source": [
    "# 使用 Pandas DataFrame Object Method\n",
    "# .dropna() 刪除 NaN 的 row \n",
    "c = c.dropna(how=\"any\")\n",
    "c"
   ]
  },
  {
   "cell_type": "code",
   "execution_count": 48,
   "metadata": {
    "colab": {
     "autoexec": {
      "startup": false,
      "wait_interval": 0
     }
    },
    "colab_type": "code",
    "id": "f2LRFZTvHQtM"
   },
   "outputs": [],
   "source": [
    "pd.set_option('use_inf_as_na', True)"
   ]
  },
  {
   "cell_type": "code",
   "execution_count": 49,
   "metadata": {
    "colab": {
     "autoexec": {
      "startup": false,
      "wait_interval": 0
     },
     "base_uri": "https://localhost:8080/",
     "height": 102
    },
    "colab_type": "code",
    "executionInfo": {
     "elapsed": 639,
     "status": "ok",
     "timestamp": 1530671247712,
     "user": {
      "displayName": "李雅庭",
      "photoUrl": "//lh3.googleusercontent.com/-FMmqLpFWdh4/AAAAAAAAAAI/AAAAAAAAAEA/Q8gctKy4m-I/s50-c-k-no/photo.jpg",
      "userId": "107216197418371220980"
     },
     "user_tz": -480
    },
    "id": "vc9349ACHYgN",
    "outputId": "112c3e50-5a5e-4ff4-aed8-9c711b6914c1"
   },
   "outputs": [
    {
     "name": "stdout",
     "output_type": "stream",
     "text": [
      "0    4.0\n",
      "1    NaN\n",
      "2    2.4\n",
      "3    NaN\n",
      "dtype: float64\n"
     ]
    }
   ],
   "source": [
    "# 先建立 Series object \n",
    "a = pd.Series([2, 4, 6, -8])\n",
    "b = pd.Series([0.5, 0, 2.5, 0])\n",
    "\n",
    "c = a / b\n",
    "# 將 a 除 b\n",
    "print(c)"
   ]
  },
  {
   "cell_type": "code",
   "execution_count": null,
   "metadata": {
    "colab": {
     "autoexec": {
      "startup": false,
      "wait_interval": 0
     }
    },
    "colab_type": "code",
    "id": "s_QgE0mHHa5G"
   },
   "outputs": [],
   "source": []
  }
 ],
 "metadata": {
  "colab": {
   "collapsed_sections": [],
   "default_view": {},
   "name": "Chapter 0 - Introduction.ipynb",
   "provenance": [],
   "toc_visible": true,
   "version": "0.3.2",
   "views": {}
  },
  "kernelspec": {
   "display_name": "Python 3",
   "language": "python",
   "name": "python3"
  },
  "language_info": {
   "codemirror_mode": {
    "name": "ipython",
    "version": 3
   },
   "file_extension": ".py",
   "mimetype": "text/x-python",
   "name": "python",
   "nbconvert_exporter": "python",
   "pygments_lexer": "ipython3",
   "version": "3.6.8"
  }
 },
 "nbformat": 4,
 "nbformat_minor": 2
}
