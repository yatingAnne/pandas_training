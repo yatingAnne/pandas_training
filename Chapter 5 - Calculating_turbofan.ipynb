{
 "cells": [
  {
   "cell_type": "code",
   "execution_count": 1,
   "metadata": {
    "colab": {
     "autoexec": {
      "startup": false,
      "wait_interval": 0
     }
    },
    "colab_type": "code",
    "id": "uWE64OO25RXi"
   },
   "outputs": [],
   "source": [
    "import os\n",
    "import numpy as np\n",
    "import pandas as pd\n",
    "import datetime\n",
    "import random\n",
    "import matplotlib.pyplot as plt"
   ]
  },
  {
   "cell_type": "code",
   "execution_count": 2,
   "metadata": {
    "colab": {
     "autoexec": {
      "startup": false,
      "wait_interval": 0
     }
    },
    "colab_type": "code",
    "id": "nzeYG7whum_S"
   },
   "outputs": [],
   "source": [
    "pd.set_option('max_rows', 20)\n",
    "\n",
    "plt.style.use('default')\n",
    "plt.rcParams['figure.figsize'] = (12, 3)\n",
    "plt.rcParams['font.family'] = 'sans-serif'"
   ]
  },
  {
   "cell_type": "code",
   "execution_count": 3,
   "metadata": {
    "colab": {
     "autoexec": {
      "startup": false,
      "wait_interval": 0
     }
    },
    "colab_type": "code",
    "id": "ftyvhZWsD4wC"
   },
   "outputs": [
    {
     "name": "stdout",
     "output_type": "stream",
     "text": [
      "./data/turbofan.csv\n"
     ]
    }
   ],
   "source": [
    "# 指定檔案位置，包含完整路徑以及檔案名稱\n",
    "# os.curdir: 回傳目前目錄的路徑\n",
    "# 若無法在個人電腦上以 Anaconda 開啟 Notebook，請用Google Colab開啟，並將下一行程式的註解消除，再將 turbofan.csv 資料上傳 \n",
    "# Turbofan_FILEPATH = os.path.join(os.curdir, 'turbofan.csv')\n",
    "Turbofan_FILEPATH = os.path.join(os.curdir, 'data', 'turbofan.csv')\n",
    "# 檢視檔案位置\n",
    "print(Turbofan_FILEPATH)\n",
    "# 讀取 CSV 檔案，並將其指定為名稱是 df (DataFrame) 的物件\n",
    "df = pd.read_csv(filepath_or_buffer=Turbofan_FILEPATH)\n",
    "df_bak = df.copy()"
   ]
  },
  {
   "cell_type": "code",
   "execution_count": 4,
   "metadata": {
    "colab": {
     "autoexec": {
      "startup": false,
      "wait_interval": 0
     },
     "base_uri": "https://localhost:8080/",
     "height": 425
    },
    "colab_type": "code",
    "executionInfo": {
     "elapsed": 977,
     "status": "ok",
     "timestamp": 1531288415368,
     "user": {
      "displayName": "黃種平",
      "photoUrl": "//lh3.googleusercontent.com/-ay6h3dmyraY/AAAAAAAAAAI/AAAAAAAADhg/t8F2AGa00fc/s50-c-k-no/photo.jpg",
      "userId": "114874362450166068432"
     },
     "user_tz": -480
    },
    "id": "jCZLhvbblUkP",
    "outputId": "3717d103-e02e-445a-c140-0616038f43f0"
   },
   "outputs": [
    {
     "data": {
      "text/html": [
       "<div>\n",
       "<style scoped>\n",
       "    .dataframe tbody tr th:only-of-type {\n",
       "        vertical-align: middle;\n",
       "    }\n",
       "\n",
       "    .dataframe tbody tr th {\n",
       "        vertical-align: top;\n",
       "    }\n",
       "\n",
       "    .dataframe thead th {\n",
       "        text-align: right;\n",
       "    }\n",
       "</style>\n",
       "<table border=\"1\" class=\"dataframe\">\n",
       "  <thead>\n",
       "    <tr style=\"text-align: right;\">\n",
       "      <th></th>\n",
       "      <th>unit_number</th>\n",
       "      <th>time_in_cycles</th>\n",
       "      <th>op_setting_1</th>\n",
       "      <th>op_setting_2</th>\n",
       "      <th>op_setting_3</th>\n",
       "      <th>sensor_1</th>\n",
       "      <th>sensor_2</th>\n",
       "      <th>sensor_3</th>\n",
       "      <th>sensor_4</th>\n",
       "      <th>sensor_5</th>\n",
       "      <th>...</th>\n",
       "      <th>sensor_18</th>\n",
       "      <th>sensor_19</th>\n",
       "      <th>sensor_20</th>\n",
       "      <th>sensor_21</th>\n",
       "      <th>sensor_22</th>\n",
       "      <th>sensor_23</th>\n",
       "      <th>sensor_24</th>\n",
       "      <th>sensor_25</th>\n",
       "      <th>sensor_26</th>\n",
       "      <th>sensor_27</th>\n",
       "    </tr>\n",
       "  </thead>\n",
       "  <tbody>\n",
       "    <tr>\n",
       "      <th>0</th>\n",
       "      <td>1</td>\n",
       "      <td>1</td>\n",
       "      <td>-0.0007</td>\n",
       "      <td>-0.0004</td>\n",
       "      <td>100.0</td>\n",
       "      <td>518.67</td>\n",
       "      <td>641.82</td>\n",
       "      <td>1589.70</td>\n",
       "      <td>1400.60</td>\n",
       "      <td>14.62</td>\n",
       "      <td>...</td>\n",
       "      <td>2388</td>\n",
       "      <td>100.0</td>\n",
       "      <td>39.06</td>\n",
       "      <td>23.4190</td>\n",
       "      <td>NaN</td>\n",
       "      <td>NaN</td>\n",
       "      <td>NaN</td>\n",
       "      <td>NaN</td>\n",
       "      <td>NaN</td>\n",
       "      <td>NaN</td>\n",
       "    </tr>\n",
       "    <tr>\n",
       "      <th>1</th>\n",
       "      <td>1</td>\n",
       "      <td>2</td>\n",
       "      <td>0.0019</td>\n",
       "      <td>-0.0003</td>\n",
       "      <td>100.0</td>\n",
       "      <td>518.67</td>\n",
       "      <td>642.15</td>\n",
       "      <td>1591.82</td>\n",
       "      <td>1403.14</td>\n",
       "      <td>14.62</td>\n",
       "      <td>...</td>\n",
       "      <td>2388</td>\n",
       "      <td>100.0</td>\n",
       "      <td>39.00</td>\n",
       "      <td>23.4236</td>\n",
       "      <td>NaN</td>\n",
       "      <td>NaN</td>\n",
       "      <td>NaN</td>\n",
       "      <td>NaN</td>\n",
       "      <td>NaN</td>\n",
       "      <td>NaN</td>\n",
       "    </tr>\n",
       "    <tr>\n",
       "      <th>2</th>\n",
       "      <td>1</td>\n",
       "      <td>3</td>\n",
       "      <td>-0.0043</td>\n",
       "      <td>0.0003</td>\n",
       "      <td>100.0</td>\n",
       "      <td>518.67</td>\n",
       "      <td>642.35</td>\n",
       "      <td>1587.99</td>\n",
       "      <td>1404.20</td>\n",
       "      <td>14.62</td>\n",
       "      <td>...</td>\n",
       "      <td>2388</td>\n",
       "      <td>100.0</td>\n",
       "      <td>38.95</td>\n",
       "      <td>23.3442</td>\n",
       "      <td>NaN</td>\n",
       "      <td>NaN</td>\n",
       "      <td>NaN</td>\n",
       "      <td>NaN</td>\n",
       "      <td>NaN</td>\n",
       "      <td>NaN</td>\n",
       "    </tr>\n",
       "    <tr>\n",
       "      <th>3</th>\n",
       "      <td>1</td>\n",
       "      <td>4</td>\n",
       "      <td>0.0007</td>\n",
       "      <td>0.0000</td>\n",
       "      <td>100.0</td>\n",
       "      <td>518.67</td>\n",
       "      <td>642.35</td>\n",
       "      <td>1582.79</td>\n",
       "      <td>1401.87</td>\n",
       "      <td>14.62</td>\n",
       "      <td>...</td>\n",
       "      <td>2388</td>\n",
       "      <td>100.0</td>\n",
       "      <td>38.88</td>\n",
       "      <td>23.3739</td>\n",
       "      <td>NaN</td>\n",
       "      <td>NaN</td>\n",
       "      <td>NaN</td>\n",
       "      <td>NaN</td>\n",
       "      <td>NaN</td>\n",
       "      <td>NaN</td>\n",
       "    </tr>\n",
       "    <tr>\n",
       "      <th>4</th>\n",
       "      <td>1</td>\n",
       "      <td>5</td>\n",
       "      <td>-0.0019</td>\n",
       "      <td>-0.0002</td>\n",
       "      <td>100.0</td>\n",
       "      <td>518.67</td>\n",
       "      <td>642.37</td>\n",
       "      <td>1582.85</td>\n",
       "      <td>1406.22</td>\n",
       "      <td>14.62</td>\n",
       "      <td>...</td>\n",
       "      <td>2388</td>\n",
       "      <td>100.0</td>\n",
       "      <td>38.90</td>\n",
       "      <td>23.4044</td>\n",
       "      <td>NaN</td>\n",
       "      <td>NaN</td>\n",
       "      <td>NaN</td>\n",
       "      <td>NaN</td>\n",
       "      <td>NaN</td>\n",
       "      <td>NaN</td>\n",
       "    </tr>\n",
       "  </tbody>\n",
       "</table>\n",
       "<p>5 rows × 32 columns</p>\n",
       "</div>"
      ],
      "text/plain": [
       "   unit_number  time_in_cycles  op_setting_1  op_setting_2  op_setting_3  \\\n",
       "0            1               1       -0.0007       -0.0004         100.0   \n",
       "1            1               2        0.0019       -0.0003         100.0   \n",
       "2            1               3       -0.0043        0.0003         100.0   \n",
       "3            1               4        0.0007        0.0000         100.0   \n",
       "4            1               5       -0.0019       -0.0002         100.0   \n",
       "\n",
       "   sensor_1  sensor_2  sensor_3  sensor_4  sensor_5  ...  sensor_18  \\\n",
       "0    518.67    641.82   1589.70   1400.60     14.62  ...       2388   \n",
       "1    518.67    642.15   1591.82   1403.14     14.62  ...       2388   \n",
       "2    518.67    642.35   1587.99   1404.20     14.62  ...       2388   \n",
       "3    518.67    642.35   1582.79   1401.87     14.62  ...       2388   \n",
       "4    518.67    642.37   1582.85   1406.22     14.62  ...       2388   \n",
       "\n",
       "   sensor_19  sensor_20  sensor_21  sensor_22  sensor_23  sensor_24  \\\n",
       "0      100.0      39.06    23.4190        NaN        NaN        NaN   \n",
       "1      100.0      39.00    23.4236        NaN        NaN        NaN   \n",
       "2      100.0      38.95    23.3442        NaN        NaN        NaN   \n",
       "3      100.0      38.88    23.3739        NaN        NaN        NaN   \n",
       "4      100.0      38.90    23.4044        NaN        NaN        NaN   \n",
       "\n",
       "   sensor_25  sensor_26  sensor_27  \n",
       "0        NaN        NaN        NaN  \n",
       "1        NaN        NaN        NaN  \n",
       "2        NaN        NaN        NaN  \n",
       "3        NaN        NaN        NaN  \n",
       "4        NaN        NaN        NaN  \n",
       "\n",
       "[5 rows x 32 columns]"
      ]
     },
     "execution_count": 4,
     "metadata": {},
     "output_type": "execute_result"
    }
   ],
   "source": [
    "df.head()"
   ]
  },
  {
   "cell_type": "markdown",
   "metadata": {
    "colab_type": "text",
    "id": "T-ex2xjzcvE5"
   },
   "source": [
    "# 第 5 章：計算"
   ]
  },
  {
   "cell_type": "markdown",
   "metadata": {
    "colab_type": "text",
    "id": "ywgZ8koTUT_o"
   },
   "source": [
    "## 四則運算"
   ]
  },
  {
   "cell_type": "markdown",
   "metadata": {
    "colab_type": "text",
    "id": "faPx2WWpUdAp"
   },
   "source": [
    "在 Pandas 內做四則運算是相當容易的，只要加上對應的運算子 `+`, `-`, `*`, `/` 就可以了。"
   ]
  },
  {
   "cell_type": "code",
   "execution_count": 5,
   "metadata": {
    "colab": {
     "autoexec": {
      "startup": false,
      "wait_interval": 0
     },
     "base_uri": "https://localhost:8080/",
     "height": 408
    },
    "colab_type": "code",
    "executionInfo": {
     "elapsed": 951,
     "status": "ok",
     "timestamp": 1530864513413,
     "user": {
      "displayName": "黃種平",
      "photoUrl": "//lh3.googleusercontent.com/-ay6h3dmyraY/AAAAAAAAAAI/AAAAAAAADhg/t8F2AGa00fc/s50-c-k-no/photo.jpg",
      "userId": "114874362450166068432"
     },
     "user_tz": -480
    },
    "id": "uRABtx7UK6Nw",
    "outputId": "5f337ea6-cecc-417a-b011-ce6df29656df"
   },
   "outputs": [
    {
     "data": {
      "text/plain": [
       "0        189.10\n",
       "1        188.68\n",
       "2        183.79\n",
       "3        180.92\n",
       "4        176.63\n",
       "          ...  \n",
       "20626    169.35\n",
       "20627    170.92\n",
       "20628    174.28\n",
       "20629    178.73\n",
       "20630    168.24\n",
       "Name: sensor_3minus4, Length: 20631, dtype: float64"
      ]
     },
     "execution_count": 5,
     "metadata": {},
     "output_type": "execute_result"
    }
   ],
   "source": [
    "# 將 感測器3 減去 感測器4 (column label: 'sensor_3', 'sensor_4') \n",
    "# 例：要計算設備的出入口壓力差，或是流量差\n",
    "\n",
    "df['sensor_3minus4'] = df['sensor_3'] - df['sensor_4']\n",
    "df['sensor_3minus4']"
   ]
  },
  {
   "cell_type": "markdown",
   "metadata": {
    "colab_type": "text",
    "id": "MCnkhCqVQwe_"
   },
   "source": [
    "## Date Type 相關"
   ]
  },
  {
   "cell_type": "markdown",
   "metadata": {
    "colab_type": "text",
    "id": "wd4oc6eYbJjJ"
   },
   "source": [
    "### `.astype()` :  轉換 Data Type (dtype)\n",
    "\n",
    "每一筆資料都帶有不同的 Column，記錄著不同的資料，這些資料的型態有可能為文字、數值、時間等等，要幫資料賦予正確資料型態，才有辦法做相對應的處理。\n",
    "\n",
    "參考文件：\n",
    "\n",
    "* [pandas.DataFrame.astype](https://pandas.pydata.org/pandas-docs/stable/reference/api/pandas.DataFrame.astype.html#pandas-dataframe-astype)\n",
    "* [pandas.Series.astype](https://pandas.pydata.org/pandas-docs/stable/reference/api/pandas.Series.astype.html#pandas-series-astype)\n"
   ]
  },
  {
   "cell_type": "code",
   "execution_count": 6,
   "metadata": {},
   "outputs": [
    {
     "name": "stdout",
     "output_type": "stream",
     "text": [
      "<class 'pandas.core.frame.DataFrame'>\n",
      "RangeIndex: 20631 entries, 0 to 20630\n",
      "Data columns (total 33 columns):\n",
      " #   Column          Non-Null Count  Dtype  \n",
      "---  ------          --------------  -----  \n",
      " 0   unit_number     20631 non-null  int64  \n",
      " 1   time_in_cycles  20631 non-null  int64  \n",
      " 2   op_setting_1    20631 non-null  float64\n",
      " 3   op_setting_2    20631 non-null  float64\n",
      " 4   op_setting_3    20631 non-null  float64\n",
      " 5   sensor_1        20631 non-null  float64\n",
      " 6   sensor_2        20631 non-null  float64\n",
      " 7   sensor_3        20631 non-null  float64\n",
      " 8   sensor_4        20631 non-null  float64\n",
      " 9   sensor_5        20631 non-null  float64\n",
      " 10  sensor_6        20631 non-null  float64\n",
      " 11  sensor_7        20631 non-null  float64\n",
      " 12  sensor_8        20631 non-null  float64\n",
      " 13  sensor_9        20631 non-null  float64\n",
      " 14  sensor_10       20631 non-null  float64\n",
      " 15  sensor_11       20631 non-null  float64\n",
      " 16  sensor_12       20631 non-null  float64\n",
      " 17  sensor_13       20631 non-null  float64\n",
      " 18  sensor_14       20631 non-null  float64\n",
      " 19  sensor_15       20631 non-null  float64\n",
      " 20  sensor_16       20631 non-null  float64\n",
      " 21  sensor_17       20631 non-null  int64  \n",
      " 22  sensor_18       20631 non-null  int64  \n",
      " 23  sensor_19       20631 non-null  float64\n",
      " 24  sensor_20       20631 non-null  float64\n",
      " 25  sensor_21       20631 non-null  float64\n",
      " 26  sensor_22       0 non-null      float64\n",
      " 27  sensor_23       0 non-null      float64\n",
      " 28  sensor_24       0 non-null      float64\n",
      " 29  sensor_25       0 non-null      float64\n",
      " 30  sensor_26       0 non-null      float64\n",
      " 31  sensor_27       0 non-null      float64\n",
      " 32  sensor_3minus4  20631 non-null  float64\n",
      "dtypes: float64(29), int64(4)\n",
      "memory usage: 5.2 MB\n"
     ]
    }
   ],
   "source": [
    "df.info()"
   ]
  },
  {
   "cell_type": "code",
   "execution_count": 7,
   "metadata": {
    "colab": {
     "autoexec": {
      "startup": false,
      "wait_interval": 0
     },
     "base_uri": "https://localhost:8080/",
     "height": 34
    },
    "colab_type": "code",
    "executionInfo": {
     "elapsed": 1218,
     "status": "ok",
     "timestamp": 1530864514958,
     "user": {
      "displayName": "黃種平",
      "photoUrl": "//lh3.googleusercontent.com/-ay6h3dmyraY/AAAAAAAAAAI/AAAAAAAADhg/t8F2AGa00fc/s50-c-k-no/photo.jpg",
      "userId": "114874362450166068432"
     },
     "user_tz": -480
    },
    "id": "wIfgPII9WTIP",
    "outputId": "5068a554-3591-4c42-84dd-8a172e487f9b"
   },
   "outputs": [
    {
     "data": {
      "text/plain": [
       "dtype('int64')"
      ]
     },
     "execution_count": 7,
     "metadata": {},
     "output_type": "execute_result"
    }
   ],
   "source": [
    "# 觀察工作週期(column label: 'time_in_cycles') 的資料型態\n",
    "df.dtypes['time_in_cycles']"
   ]
  },
  {
   "cell_type": "code",
   "execution_count": 8,
   "metadata": {
    "colab": {
     "autoexec": {
      "startup": false,
      "wait_interval": 0
     },
     "base_uri": "https://localhost:8080/",
     "height": 34
    },
    "colab_type": "code",
    "executionInfo": {
     "elapsed": 890,
     "status": "ok",
     "timestamp": 1530864516137,
     "user": {
      "displayName": "黃種平",
      "photoUrl": "//lh3.googleusercontent.com/-ay6h3dmyraY/AAAAAAAAAAI/AAAAAAAADhg/t8F2AGa00fc/s50-c-k-no/photo.jpg",
      "userId": "114874362450166068432"
     },
     "user_tz": -480
    },
    "id": "_Thd1_jpRbHP",
    "outputId": "736d1388-f06a-426f-80f8-8ba19b3c552c"
   },
   "outputs": [],
   "source": [
    "# 使用 .dtypes 觀察特定 column的型別，如果不是正確的型別，可以使用 .astype() 進行型別轉換\n",
    "# 因為此資料的型別都是正確的，故這裡只提供程式碼作為示意，則不進行型別轉換\n",
    "\n",
    "# 轉換成文字型態 (str)\n",
    "# df['time_in_cycles'] = df['time_in_cycles'].astype(str)"
   ]
  },
  {
   "cell_type": "code",
   "execution_count": 9,
   "metadata": {
    "colab": {
     "autoexec": {
      "startup": false,
      "wait_interval": 0
     },
     "base_uri": "https://localhost:8080/",
     "height": 34
    },
    "colab_type": "code",
    "executionInfo": {
     "elapsed": 1015,
     "status": "ok",
     "timestamp": 1530864517521,
     "user": {
      "displayName": "黃種平",
      "photoUrl": "//lh3.googleusercontent.com/-ay6h3dmyraY/AAAAAAAAAAI/AAAAAAAADhg/t8F2AGa00fc/s50-c-k-no/photo.jpg",
      "userId": "114874362450166068432"
     },
     "user_tz": -480
    },
    "id": "FXiITdp_WmK3",
    "outputId": "0b8c4f56-26e1-47ac-8593-77b287bd56fa"
   },
   "outputs": [],
   "source": [
    "# 轉換成浮點數型態 (float)\n",
    "# df['time_in_cycles'] = df['time_in_cycles'].astype(float)"
   ]
  },
  {
   "cell_type": "markdown",
   "metadata": {
    "colab_type": "text",
    "id": "6qAPStn9QnUy"
   },
   "source": [
    "### `pandas.to_datetime()`：自動轉換日期資料，並將 Date Type 轉換為 datetime"
   ]
  },
  {
   "cell_type": "markdown",
   "metadata": {
    "colab_type": "text",
    "id": "vt9KZiwhUEnm"
   },
   "source": [
    "當資料中有關於與日期相關的 column 時，可以考慮轉換成 `datetime` 的 data type 以利處理。\n",
    "\n",
    "轉換的情境有兩個：\n",
    "\n",
    "1. 某個 column 有時間日期的相關資料，如 `2018-01-01`, `2018/01/01`, `20180101`, `20180101 01:00:00`......等\n",
    "1. 分散在多個 column 的日期相關資料，如 `pd.DataFrame({'year':[2018], 'month':[1], 'day': [1]]})`\n",
    "\n",
    "Pandas 在處理的時候，會依照部分預設的規則，去猜測時間日期的格式進而轉換，當然也可以手動設定時間日期格式。\n",
    "\n",
    "* 常用 Parameters：\n",
    "    1. `format`：時間日期的格式，例如 `%d-%m-%y` 即為「年-月-日」的格式。有關日期格式的指定方法，請參見 Python 官方文件中，有關 [`datetime.strftime()`  和 `datetime.strptime()` function 的說明](https://docs.python.org/3/library/datetime.html#strftime-and-strptime-behavior)\n",
    "    1. `infer_datetime_format`：是否要在沒有指定時間日期格式的情況，自行推論日期格式。\n",
    "        * `True`：選擇讓 Pandas 推論時間日期格式。如果確定資料格式是可以被推論的，將此 Parameter 設為 True 時，將可以加快處理的速度。\n",
    "        * `False`：選擇不讓 Pandas 推論時間日期格式。通常設定為 `False` 時，會搭配設定時間日期格式。\n",
    "* 參考文件：\n",
    "    * [pandas.to_datetime](https://pandas.pydata.org/pandas-docs/stable/reference/api/pandas.to_datetime.html#pandas-to-datetime)\n",
    "    * [Time Series / Date functionality | Converting to Timestamps](https://pandas.pydata.org/pandas-docs/stable/user_guide/timeseries.html#time-series-date-functionality)"
   ]
  },
  {
   "cell_type": "code",
   "execution_count": 10,
   "metadata": {},
   "outputs": [
    {
     "data": {
      "text/html": [
       "<div>\n",
       "<style scoped>\n",
       "    .dataframe tbody tr th:only-of-type {\n",
       "        vertical-align: middle;\n",
       "    }\n",
       "\n",
       "    .dataframe tbody tr th {\n",
       "        vertical-align: top;\n",
       "    }\n",
       "\n",
       "    .dataframe thead th {\n",
       "        text-align: right;\n",
       "    }\n",
       "</style>\n",
       "<table border=\"1\" class=\"dataframe\">\n",
       "  <thead>\n",
       "    <tr style=\"text-align: right;\">\n",
       "      <th></th>\n",
       "      <th>time</th>\n",
       "    </tr>\n",
       "  </thead>\n",
       "  <tbody>\n",
       "    <tr>\n",
       "      <th>0</th>\n",
       "      <td>20201201000000</td>\n",
       "    </tr>\n",
       "    <tr>\n",
       "      <th>1</th>\n",
       "      <td>20201201000001</td>\n",
       "    </tr>\n",
       "    <tr>\n",
       "      <th>2</th>\n",
       "      <td>20201201000002</td>\n",
       "    </tr>\n",
       "    <tr>\n",
       "      <th>3</th>\n",
       "      <td>20201201000003</td>\n",
       "    </tr>\n",
       "    <tr>\n",
       "      <th>4</th>\n",
       "      <td>20201201000004</td>\n",
       "    </tr>\n",
       "    <tr>\n",
       "      <th>...</th>\n",
       "      <td>...</td>\n",
       "    </tr>\n",
       "    <tr>\n",
       "      <th>86396</th>\n",
       "      <td>20201201235956</td>\n",
       "    </tr>\n",
       "    <tr>\n",
       "      <th>86397</th>\n",
       "      <td>20201201235957</td>\n",
       "    </tr>\n",
       "    <tr>\n",
       "      <th>86398</th>\n",
       "      <td>20201201235958</td>\n",
       "    </tr>\n",
       "    <tr>\n",
       "      <th>86399</th>\n",
       "      <td>20201201235959</td>\n",
       "    </tr>\n",
       "    <tr>\n",
       "      <th>86400</th>\n",
       "      <td>20201202000000</td>\n",
       "    </tr>\n",
       "  </tbody>\n",
       "</table>\n",
       "<p>86401 rows × 1 columns</p>\n",
       "</div>"
      ],
      "text/plain": [
       "                 time\n",
       "0      20201201000000\n",
       "1      20201201000001\n",
       "2      20201201000002\n",
       "3      20201201000003\n",
       "4      20201201000004\n",
       "...               ...\n",
       "86396  20201201235956\n",
       "86397  20201201235957\n",
       "86398  20201201235958\n",
       "86399  20201201235959\n",
       "86400  20201202000000\n",
       "\n",
       "[86401 rows x 1 columns]"
      ]
     },
     "execution_count": 10,
     "metadata": {},
     "output_type": "execute_result"
    }
   ],
   "source": [
    "tmp = pd.date_range('2020-12-01 00:00:00', '2020-12-02 00:00:00', freq=\"S\")\n",
    "tmp = pd.DataFrame(tmp, columns=[\"time\"])\n",
    "tmp[\"time\"] = tmp[\"time\"].dt.strftime(\"%Y%m%d%H%M%S\")\n",
    "tmp"
   ]
  },
  {
   "cell_type": "code",
   "execution_count": 11,
   "metadata": {},
   "outputs": [
    {
     "name": "stdout",
     "output_type": "stream",
     "text": [
      "<class 'pandas.core.frame.DataFrame'>\n",
      "RangeIndex: 86401 entries, 0 to 86400\n",
      "Data columns (total 1 columns):\n",
      " #   Column  Non-Null Count  Dtype \n",
      "---  ------  --------------  ----- \n",
      " 0   time    86401 non-null  object\n",
      "dtypes: object(1)\n",
      "memory usage: 675.1+ KB\n"
     ]
    }
   ],
   "source": [
    "tmp.info()"
   ]
  },
  {
   "cell_type": "code",
   "execution_count": 12,
   "metadata": {
    "colab": {
     "autoexec": {
      "startup": false,
      "wait_interval": 0
     },
     "base_uri": "https://localhost:8080/",
     "height": 391
    },
    "colab_type": "code",
    "executionInfo": {
     "elapsed": 914,
     "status": "ok",
     "timestamp": 1531288662507,
     "user": {
      "displayName": "黃種平",
      "photoUrl": "//lh3.googleusercontent.com/-ay6h3dmyraY/AAAAAAAAAAI/AAAAAAAADhg/t8F2AGa00fc/s50-c-k-no/photo.jpg",
      "userId": "114874362450166068432"
     },
     "user_tz": -480
    },
    "id": "YmMUNzmh6keg",
    "outputId": "be786867-6150-4f4d-c92e-147949e27a2c"
   },
   "outputs": [
    {
     "data": {
      "text/plain": [
       "0       2020-12-01 00:00:00\n",
       "1       2020-12-01 00:00:01\n",
       "2       2020-12-01 00:00:02\n",
       "3       2020-12-01 00:00:03\n",
       "4       2020-12-01 00:00:04\n",
       "                ...        \n",
       "86396   2020-12-01 23:59:56\n",
       "86397   2020-12-01 23:59:57\n",
       "86398   2020-12-01 23:59:58\n",
       "86399   2020-12-01 23:59:59\n",
       "86400   2020-12-02 00:00:00\n",
       "Name: time, Length: 86401, dtype: datetime64[ns]"
      ]
     },
     "execution_count": 12,
     "metadata": {},
     "output_type": "execute_result"
    }
   ],
   "source": [
    "pd.to_datetime(tmp['time'])"
   ]
  },
  {
   "cell_type": "code",
   "execution_count": 13,
   "metadata": {},
   "outputs": [
    {
     "name": "stdout",
     "output_type": "stream",
     "text": [
      "7.09 s ± 583 ms per loop (mean ± std. dev. of 7 runs, 1 loop each)\n"
     ]
    }
   ],
   "source": [
    "# %timeit pd.to_datetime(tmp['time'])\n",
    "## 7.09 s ± 583 ms per loop (mean ± std. dev. of 7 runs, 1 loop each)"
   ]
  },
  {
   "cell_type": "code",
   "execution_count": 14,
   "metadata": {},
   "outputs": [
    {
     "name": "stdout",
     "output_type": "stream",
     "text": [
      "6.96 s ± 193 ms per loop (mean ± std. dev. of 7 runs, 1 loop each)\n"
     ]
    }
   ],
   "source": [
    "# %timeit pd.to_datetime(tmp['time'], infer_datetime_format=True)\n",
    "## 6.96 s ± 193 ms per loop (mean ± std. dev. of 7 runs, 1 loop each)"
   ]
  },
  {
   "cell_type": "markdown",
   "metadata": {
    "colab_type": "text",
    "id": "xd-fUpqJlgV_"
   },
   "source": [
    "## DataFrame 常用運算方法\n"
   ]
  },
  {
   "cell_type": "markdown",
   "metadata": {
    "colab_type": "text",
    "id": "pyOVTpvvbo87"
   },
   "source": [
    "### `.min()` : 計算最小值\n",
    "\n",
    "* 常用 Parameters：\n",
    "    1. `axis`：\n",
    "        * `1` : 以 column 方向計算\n",
    "        * `0` : 以 row 方向計算\n",
    "    1. `skipna`：預設為 `True`\n",
    "        * `True` : 計算統計量的時候忽略 NA (`np.nan`，`None`)\n",
    "        * `False` : 只要資料中出現一筆 NA，則回傳 `NaN`\n",
    "* Return : Series 或 DataFrame\n",
    "* 參考文件：\n",
    "    * [pandas.DataFrame.min](https://pandas.pydata.org/pandas-docs/stable/reference/api/pandas.DataFrame.min.html#pandas-dataframe-min)\n",
    "    * [pandas.Series.min](https://pandas.pydata.org/pandas-docs/stable/reference/api/pandas.Series.min.html#pandas-series-min)\n"
   ]
  },
  {
   "cell_type": "code",
   "execution_count": 15,
   "metadata": {
    "colab": {
     "autoexec": {
      "startup": false,
      "wait_interval": 0
     },
     "base_uri": "https://localhost:8080/",
     "height": 357
    },
    "colab_type": "code",
    "executionInfo": {
     "elapsed": 812,
     "status": "ok",
     "timestamp": 1530864518674,
     "user": {
      "displayName": "黃種平",
      "photoUrl": "//lh3.googleusercontent.com/-ay6h3dmyraY/AAAAAAAAAAI/AAAAAAAADhg/t8F2AGa00fc/s50-c-k-no/photo.jpg",
      "userId": "114874362450166068432"
     },
     "user_tz": -480
    },
    "id": "vyLCIRAtbrVi",
    "outputId": "3722c3d1-5418-445f-b730-c988281200d0"
   },
   "outputs": [
    {
     "data": {
      "text/plain": [
       "unit_number         1.0000\n",
       "time_in_cycles      1.0000\n",
       "op_setting_1       -0.0087\n",
       "op_setting_2       -0.0006\n",
       "op_setting_3      100.0000\n",
       "                    ...   \n",
       "sensor_24              NaN\n",
       "sensor_25              NaN\n",
       "sensor_26              NaN\n",
       "sensor_27              NaN\n",
       "sensor_3minus4    155.5500\n",
       "Length: 33, dtype: float64"
      ]
     },
     "execution_count": 15,
     "metadata": {},
     "output_type": "execute_result"
    }
   ],
   "source": [
    "# 例：計算各空氣品質監測項目的最小值\n",
    "df.min()"
   ]
  },
  {
   "cell_type": "markdown",
   "metadata": {
    "colab_type": "text",
    "id": "vONaIB0_MswE"
   },
   "source": [
    "### `.max()`：計算最大值\n",
    "\n",
    "* 常用 Parameters：\n",
    "    1. `axis`：\n",
    "        * `1` : 以 column 方向計算\n",
    "        * `0` : 以 row 方向計算\n",
    "    1. `skipna`：預設為 `True`\n",
    "        * `True` : 計算統計量的時候忽略 NA (`np.nan`，`None`)\n",
    "        * `False` : 只要資料中出現一筆 NA，則回傳 `NaN`\n",
    "* Return : Series 或 DataFrame\n",
    "* 參考文件\n",
    "    * [pandas.DataFrame.max](https://pandas.pydata.org/pandas-docs/stable/reference/api/pandas.DataFrame.max.html#pandas-dataframe-max)\n",
    "    * [pandas.Series.max](https://pandas.pydata.org/pandas-docs/stable/reference/api/pandas.Series.max.html#pandas-series-max)\n",
    "\n",
    "    \n"
   ]
  },
  {
   "cell_type": "code",
   "execution_count": 16,
   "metadata": {
    "colab": {
     "autoexec": {
      "startup": false,
      "wait_interval": 0
     },
     "base_uri": "https://localhost:8080/",
     "height": 357
    },
    "colab_type": "code",
    "executionInfo": {
     "elapsed": 1008,
     "status": "ok",
     "timestamp": 1530864520122,
     "user": {
      "displayName": "黃種平",
      "photoUrl": "//lh3.googleusercontent.com/-ay6h3dmyraY/AAAAAAAAAAI/AAAAAAAADhg/t8F2AGa00fc/s50-c-k-no/photo.jpg",
      "userId": "114874362450166068432"
     },
     "user_tz": -480
    },
    "id": "TakL2MskhZcj",
    "outputId": "fbd9a8cf-f516-4f1a-fea0-456e76765052"
   },
   "outputs": [
    {
     "data": {
      "text/plain": [
       "unit_number       100.0000\n",
       "time_in_cycles    362.0000\n",
       "op_setting_1        0.0087\n",
       "op_setting_2        0.0006\n",
       "op_setting_3      100.0000\n",
       "                    ...   \n",
       "sensor_24              NaN\n",
       "sensor_25              NaN\n",
       "sensor_26              NaN\n",
       "sensor_27              NaN\n",
       "sensor_3minus4    206.0100\n",
       "Length: 33, dtype: float64"
      ]
     },
     "execution_count": 16,
     "metadata": {},
     "output_type": "execute_result"
    }
   ],
   "source": [
    "# 例：計算各空氣品質監測項目的最大值\n",
    "df.max()"
   ]
  },
  {
   "cell_type": "markdown",
   "metadata": {
    "colab_type": "text",
    "id": "ZmRndpVcMvTb"
   },
   "source": [
    "### `.mean()`：計算平均值\n",
    "\n",
    "* 常用 Parameters：\n",
    "    1. `axis`：\n",
    "        * `1` : 以 column 方向計算\n",
    "        * `0` : 以 row 方向計算\n",
    "    1. `skipna`：預設為 `True`\n",
    "        * `True` : 計算統計量的時候忽略 NA (`np.nan`，`None`)\n",
    "        * `False` : 只要資料中出現一筆 NA，則回傳 `NaN`\n",
    "* Return : Series 或 DataFrame\n",
    "* 參考文件\n",
    "    * [pandas.DataFrame.mean](https://pandas.pydata.org/pandas-docs/stable/reference/api/pandas.DataFrame.mean.html#pandas-dataframe-mean)\n",
    "    * [pandas.Series.mean](https://pandas.pydata.org/pandas-docs/stable/reference/api/pandas.Series.mean.html#pandas-series-mean)\n",
    "\n"
   ]
  },
  {
   "cell_type": "code",
   "execution_count": 17,
   "metadata": {
    "colab": {
     "autoexec": {
      "startup": false,
      "wait_interval": 0
     },
     "base_uri": "https://localhost:8080/",
     "height": 357
    },
    "colab_type": "code",
    "executionInfo": {
     "elapsed": 1367,
     "status": "ok",
     "timestamp": 1530864521860,
     "user": {
      "displayName": "黃種平",
      "photoUrl": "//lh3.googleusercontent.com/-ay6h3dmyraY/AAAAAAAAAAI/AAAAAAAADhg/t8F2AGa00fc/s50-c-k-no/photo.jpg",
      "userId": "114874362450166068432"
     },
     "user_tz": -480
    },
    "id": "PMbJOOWWhcjv",
    "outputId": "e523c787-c368-4666-e879-553b09e14a92"
   },
   "outputs": [
    {
     "data": {
      "text/plain": [
       "unit_number        51.506568\n",
       "time_in_cycles    108.807862\n",
       "op_setting_1       -0.000009\n",
       "op_setting_2        0.000002\n",
       "op_setting_3      100.000000\n",
       "                     ...    \n",
       "sensor_24                NaN\n",
       "sensor_25                NaN\n",
       "sensor_26                NaN\n",
       "sensor_27                NaN\n",
       "sensor_3minus4    181.589337\n",
       "Length: 33, dtype: float64"
      ]
     },
     "execution_count": 17,
     "metadata": {},
     "output_type": "execute_result"
    }
   ],
   "source": [
    "# 例：計算各空氣品質監測項目的平均值\n",
    "df.mean()"
   ]
  },
  {
   "cell_type": "markdown",
   "metadata": {
    "colab_type": "text",
    "id": "TBz5MvgUMwdV"
   },
   "source": [
    "### `.std()`：計算標準差\n",
    "\n",
    "* 常用 Parameters：\n",
    "    1. `axis`：\n",
    "        * `1` : 以 column 方向計算\n",
    "        * `0` : 以 row 方向計算\n",
    "    1. `skipna`：預設為 `True`\n",
    "        * `True` : 計算統計量的時候忽略 NA (`np.nan`，`None`)\n",
    "        * `False` : 只要資料中出現一筆 NA，則回傳 `NaN`\n",
    "* Return : Series 或 DataFrame\n",
    "* 參考文件：\n",
    "    * [pandas.DataFrame.std](https://pandas.pydata.org/pandas-docs/stable/reference/api/pandas.DataFrame.std.html#pandas-dataframe-std)\n",
    "    * [pandas.Series.std](https://pandas.pydata.org/pandas-docs/stable/reference/api/pandas.Series.std.html#pandas-series-std)"
   ]
  },
  {
   "cell_type": "code",
   "execution_count": 18,
   "metadata": {
    "colab": {
     "autoexec": {
      "startup": false,
      "wait_interval": 0
     },
     "base_uri": "https://localhost:8080/",
     "height": 357
    },
    "colab_type": "code",
    "executionInfo": {
     "elapsed": 1025,
     "status": "ok",
     "timestamp": 1530864523295,
     "user": {
      "displayName": "黃種平",
      "photoUrl": "//lh3.googleusercontent.com/-ay6h3dmyraY/AAAAAAAAAAI/AAAAAAAADhg/t8F2AGa00fc/s50-c-k-no/photo.jpg",
      "userId": "114874362450166068432"
     },
     "user_tz": -480
    },
    "id": "xe-JtffUhfe0",
    "outputId": "dae5fdc0-fcfb-4379-90f4-3d0df9c89e82"
   },
   "outputs": [
    {
     "data": {
      "text/plain": [
       "unit_number       29.227633\n",
       "time_in_cycles    68.880990\n",
       "op_setting_1       0.002187\n",
       "op_setting_2       0.000293\n",
       "op_setting_3       0.000000\n",
       "                    ...    \n",
       "sensor_24               NaN\n",
       "sensor_25               NaN\n",
       "sensor_26               NaN\n",
       "sensor_27               NaN\n",
       "sensor_3minus4     6.612621\n",
       "Length: 33, dtype: float64"
      ]
     },
     "execution_count": 18,
     "metadata": {},
     "output_type": "execute_result"
    }
   ],
   "source": [
    "# 例：計算各空氣品質監測項目的標準差\n",
    "df.std()"
   ]
  },
  {
   "cell_type": "markdown",
   "metadata": {
    "colab_type": "text",
    "id": "vjZ4ZBqwMxUf"
   },
   "source": [
    "### `.median()`：計算中位數\n",
    "\n",
    "* 常用 Parameters：\n",
    "    1. `axis`：\n",
    "        * `1` : 以 column 方向計算\n",
    "        * `0` : 以 row 方向計算\n",
    "    1. `skipna`：預設為 `True`\n",
    "        * `True` : 計算統計量的時候忽略 NA (`np.nan`，`None`)\n",
    "        * `False` : 只要資料中出現一筆 NA，則回傳 `NaN`\n",
    "* Return : Series 或 DataFrame\n",
    "* 參考文件：\n",
    "    * [pandas.DataFrame.median](https://pandas.pydata.org/pandas-docs/stable/reference/api/pandas.DataFrame.median.html#pandas-dataframe-median)\n",
    "    * [pandas.Series.median](https://pandas.pydata.org/pandas-docs/stable/reference/api/pandas.Series.median.html#pandas-series-median)\n",
    "\n",
    "\n"
   ]
  },
  {
   "cell_type": "code",
   "execution_count": 19,
   "metadata": {
    "colab": {
     "autoexec": {
      "startup": false,
      "wait_interval": 0
     },
     "base_uri": "https://localhost:8080/",
     "height": 357
    },
    "colab_type": "code",
    "executionInfo": {
     "elapsed": 1071,
     "status": "ok",
     "timestamp": 1530864524635,
     "user": {
      "displayName": "黃種平",
      "photoUrl": "//lh3.googleusercontent.com/-ay6h3dmyraY/AAAAAAAAAAI/AAAAAAAADhg/t8F2AGa00fc/s50-c-k-no/photo.jpg",
      "userId": "114874362450166068432"
     },
     "user_tz": -480
    },
    "id": "mgAf6MlnhmGN",
    "outputId": "0a5cc4a4-4d81-44ff-c6f1-a5d2f7c5f8a2"
   },
   "outputs": [
    {
     "name": "stderr",
     "output_type": "stream",
     "text": [
      "/Users/liyating/.local/share/virtualenvs/pandas_training_env-txbSq38o/lib/python3.6/site-packages/numpy/lib/nanfunctions.py:1111: RuntimeWarning: Mean of empty slice\n",
      "  return np.nanmean(a, axis, out=out, keepdims=keepdims)\n"
     ]
    },
    {
     "data": {
      "text/plain": [
       "unit_number        52.00\n",
       "time_in_cycles    104.00\n",
       "op_setting_1        0.00\n",
       "op_setting_2        0.00\n",
       "op_setting_3      100.00\n",
       "                   ...  \n",
       "sensor_24            NaN\n",
       "sensor_25            NaN\n",
       "sensor_26            NaN\n",
       "sensor_27            NaN\n",
       "sensor_3minus4    181.62\n",
       "Length: 33, dtype: float64"
      ]
     },
     "execution_count": 19,
     "metadata": {},
     "output_type": "execute_result"
    }
   ],
   "source": [
    "# 例：計算各空氣品質監測項目的中位數\n",
    "df.median()"
   ]
  },
  {
   "cell_type": "markdown",
   "metadata": {
    "colab_type": "text",
    "id": "rKJUnWAkMz07"
   },
   "source": [
    "### .quantile()：計算分位數\n",
    "\n",
    "* 常用 Parameters : \n",
    "    1. `q` : 分位數，預設為 0.5。可以輸入\n",
    "        * 浮點數 `float` (例如 `0.25`, `0.5`, `0.75`)：計算一個分位數\n",
    "        * `array-like` （可迭代）的物件 (例如 \\[0.25, 0.5\\])：計算多個分位數\n",
    "    1. `axis`：\n",
    "        * `1` : 以 column 方向計算\n",
    "        * `0` : 以 row 方向計算\n",
    "    1. `numeric_only`：是否僅允許輸入數值型資料，預設為 `True`\n",
    "        * `True`：只計算數值型資料\n",
    "        * `False`：不只數值型資料，若資料中包含 `datetime` 和 `timedelta` 也會計算\n",
    "    1. `interpolation` : 插補法，預設為 `linear`（線性）\n",
    "* 參考文件：\n",
    "    * [pandas.DataFrame.quantile](https://pandas.pydata.org/pandas-docs/stable/reference/api/pandas.DataFrame.quantile.html#pandas-dataframe-quantile)\n",
    "    * [pandas.Series.quantile](https://pandas.pydata.org/pandas-docs/stable/reference/api/pandas.Series.quantile.html#pandas-series-quantile)"
   ]
  },
  {
   "cell_type": "markdown",
   "metadata": {
    "colab_type": "text",
    "id": "8kUXhl-5tjCa"
   },
   "source": [
    "> 備註：\n",
    ">\n",
    "> 計算分位數時，如果資料中有包含 NA，則會自動忽略此筆資料。\n",
    "> \n",
    "> 例如有 10 筆資料，其中一筆為 NA，則計算時只會拿 9 筆資料來計算分位數。"
   ]
  },
  {
   "cell_type": "code",
   "execution_count": 20,
   "metadata": {
    "colab": {
     "autoexec": {
      "startup": false,
      "wait_interval": 0
     },
     "base_uri": "https://localhost:8080/",
     "height": 131
    },
    "colab_type": "code",
    "executionInfo": {
     "elapsed": 910,
     "status": "ok",
     "timestamp": 1530864537118,
     "user": {
      "displayName": "黃種平",
      "photoUrl": "//lh3.googleusercontent.com/-ay6h3dmyraY/AAAAAAAAAAI/AAAAAAAADhg/t8F2AGa00fc/s50-c-k-no/photo.jpg",
      "userId": "114874362450166068432"
     },
     "user_tz": -480
    },
    "id": "YJmWwjrgoBXY",
    "outputId": "e7ed2914-3d90-40dc-e806-c81cbf67f6b2"
   },
   "outputs": [
    {
     "data": {
      "text/html": [
       "<div>\n",
       "<style scoped>\n",
       "    .dataframe tbody tr th:only-of-type {\n",
       "        vertical-align: middle;\n",
       "    }\n",
       "\n",
       "    .dataframe tbody tr th {\n",
       "        vertical-align: top;\n",
       "    }\n",
       "\n",
       "    .dataframe thead th {\n",
       "        text-align: right;\n",
       "    }\n",
       "</style>\n",
       "<table border=\"1\" class=\"dataframe\">\n",
       "  <thead>\n",
       "    <tr style=\"text-align: right;\">\n",
       "      <th></th>\n",
       "      <th>unit_number</th>\n",
       "      <th>time_in_cycles</th>\n",
       "      <th>op_setting_1</th>\n",
       "      <th>op_setting_2</th>\n",
       "      <th>op_setting_3</th>\n",
       "      <th>sensor_1</th>\n",
       "      <th>sensor_2</th>\n",
       "      <th>sensor_3</th>\n",
       "      <th>sensor_4</th>\n",
       "      <th>sensor_5</th>\n",
       "      <th>...</th>\n",
       "      <th>sensor_19</th>\n",
       "      <th>sensor_20</th>\n",
       "      <th>sensor_21</th>\n",
       "      <th>sensor_22</th>\n",
       "      <th>sensor_23</th>\n",
       "      <th>sensor_24</th>\n",
       "      <th>sensor_25</th>\n",
       "      <th>sensor_26</th>\n",
       "      <th>sensor_27</th>\n",
       "      <th>sensor_3minus4</th>\n",
       "    </tr>\n",
       "  </thead>\n",
       "  <tbody>\n",
       "    <tr>\n",
       "      <th>0.25</th>\n",
       "      <td>26.0</td>\n",
       "      <td>52.0</td>\n",
       "      <td>-0.0015</td>\n",
       "      <td>-0.0002</td>\n",
       "      <td>100.0</td>\n",
       "      <td>518.67</td>\n",
       "      <td>642.325</td>\n",
       "      <td>1586.26</td>\n",
       "      <td>1402.360</td>\n",
       "      <td>14.62</td>\n",
       "      <td>...</td>\n",
       "      <td>100.0</td>\n",
       "      <td>38.70</td>\n",
       "      <td>23.2218</td>\n",
       "      <td>NaN</td>\n",
       "      <td>NaN</td>\n",
       "      <td>NaN</td>\n",
       "      <td>NaN</td>\n",
       "      <td>NaN</td>\n",
       "      <td>NaN</td>\n",
       "      <td>177.16</td>\n",
       "    </tr>\n",
       "    <tr>\n",
       "      <th>0.75</th>\n",
       "      <td>77.0</td>\n",
       "      <td>156.0</td>\n",
       "      <td>0.0015</td>\n",
       "      <td>0.0003</td>\n",
       "      <td>100.0</td>\n",
       "      <td>518.67</td>\n",
       "      <td>643.000</td>\n",
       "      <td>1594.38</td>\n",
       "      <td>1414.555</td>\n",
       "      <td>14.62</td>\n",
       "      <td>...</td>\n",
       "      <td>100.0</td>\n",
       "      <td>38.95</td>\n",
       "      <td>23.3668</td>\n",
       "      <td>NaN</td>\n",
       "      <td>NaN</td>\n",
       "      <td>NaN</td>\n",
       "      <td>NaN</td>\n",
       "      <td>NaN</td>\n",
       "      <td>NaN</td>\n",
       "      <td>186.15</td>\n",
       "    </tr>\n",
       "  </tbody>\n",
       "</table>\n",
       "<p>2 rows × 33 columns</p>\n",
       "</div>"
      ],
      "text/plain": [
       "      unit_number  time_in_cycles  op_setting_1  op_setting_2  op_setting_3  \\\n",
       "0.25         26.0            52.0       -0.0015       -0.0002         100.0   \n",
       "0.75         77.0           156.0        0.0015        0.0003         100.0   \n",
       "\n",
       "      sensor_1  sensor_2  sensor_3  sensor_4  sensor_5  ...  sensor_19  \\\n",
       "0.25    518.67   642.325   1586.26  1402.360     14.62  ...      100.0   \n",
       "0.75    518.67   643.000   1594.38  1414.555     14.62  ...      100.0   \n",
       "\n",
       "      sensor_20  sensor_21  sensor_22  sensor_23  sensor_24  sensor_25  \\\n",
       "0.25      38.70    23.2218        NaN        NaN        NaN        NaN   \n",
       "0.75      38.95    23.3668        NaN        NaN        NaN        NaN   \n",
       "\n",
       "      sensor_26  sensor_27  sensor_3minus4  \n",
       "0.25        NaN        NaN          177.16  \n",
       "0.75        NaN        NaN          186.15  \n",
       "\n",
       "[2 rows x 33 columns]"
      ]
     },
     "execution_count": 20,
     "metadata": {},
     "output_type": "execute_result"
    }
   ],
   "source": [
    "# 例：計算各空氣品質監測項目的「第一四分位數」和「第三四分位數」\n",
    "df.quantile(q=[0.25, 0.75])"
   ]
  },
  {
   "cell_type": "markdown",
   "metadata": {},
   "source": [
    "#### 名詞釋疑\n",
    "\n",
    "與 Quantile 相關的數值有三個：\n",
    "\n",
    "1. `Quantile`: 分位數\n",
    "1. `Quartile`: 四分位數\n",
    "1. `Percentile`: 百分位數\n",
    "\n",
    "其中的對應關係如下：\n",
    "\n",
    "* `0` quartile = `0` quantile = `0` percentile\n",
    "* `1` quartile = `0.25` quantile = `25` percentile = 第一四分位數 = 下四分位數\n",
    "* `2` quartile = `.5` quantile = `50` percentile = median = 第二四分位數 = 中位數\n",
    "* `3` quartile = `.75` quantile = `75` percentile = 第三四分位數 = 上四分位數\n",
    "* `4` quartile = `1` quantile = `100` percentile\n",
    "\n",
    "參考資料：[Percentile vs quantile vs quartile | StackExchange](https://stats.stackexchange.com/a/156787)"
   ]
  },
  {
   "cell_type": "markdown",
   "metadata": {
    "colab_type": "text",
    "id": "m9OqdI3bMyG1"
   },
   "source": [
    "### `.mode()` : 計算眾數 \n",
    "\n",
    "* 常用 Parameters：\n",
    "    1. `axis`：\n",
    "        * `1` : 以 column 方向計算\n",
    "        * `0` : 以 row 方向計算\n",
    "    1. `skipna`：預設為 `True`\n",
    "        * `True` : 計算統計量的時候忽略 NA (`np.nan`，`None`)\n",
    "        * `False` : 只要資料中出現一筆 NA，則回傳 `NaN`\n",
    "* Return : Series 或 DataFrame\n",
    "* 參考文件：\n",
    "    * [pandas.DataFrame.mode](https://pandas.pydata.org/pandas-docs/stable/reference/api/pandas.DataFrame.mode.html#pandas-dataframe-mode)\n",
    "    * [pandas.Series.mode](https://pandas.pydata.org/pandas-docs/stable/reference/api/pandas.Series.mode.html#pandas-series-mode)\n",
    "\n",
    "\n"
   ]
  },
  {
   "cell_type": "code",
   "execution_count": 21,
   "metadata": {
    "colab": {
     "autoexec": {
      "startup": false,
      "wait_interval": 0
     },
     "base_uri": "https://localhost:8080/",
     "height": 102
    },
    "colab_type": "code",
    "executionInfo": {
     "elapsed": 1057,
     "status": "ok",
     "timestamp": 1530864526066,
     "user": {
      "displayName": "黃種平",
      "photoUrl": "//lh3.googleusercontent.com/-ay6h3dmyraY/AAAAAAAAAAI/AAAAAAAADhg/t8F2AGa00fc/s50-c-k-no/photo.jpg",
      "userId": "114874362450166068432"
     },
     "user_tz": -480
    },
    "id": "0VWJr5_PhrUF",
    "outputId": "4d867a0f-0914-444a-b2a1-59404e76642c"
   },
   "outputs": [
    {
     "data": {
      "text/html": [
       "<div>\n",
       "<style scoped>\n",
       "    .dataframe tbody tr th:only-of-type {\n",
       "        vertical-align: middle;\n",
       "    }\n",
       "\n",
       "    .dataframe tbody tr th {\n",
       "        vertical-align: top;\n",
       "    }\n",
       "\n",
       "    .dataframe thead th {\n",
       "        text-align: right;\n",
       "    }\n",
       "</style>\n",
       "<table border=\"1\" class=\"dataframe\">\n",
       "  <thead>\n",
       "    <tr style=\"text-align: right;\">\n",
       "      <th></th>\n",
       "      <th>unit_number</th>\n",
       "      <th>time_in_cycles</th>\n",
       "      <th>op_setting_1</th>\n",
       "      <th>op_setting_2</th>\n",
       "      <th>op_setting_3</th>\n",
       "      <th>sensor_1</th>\n",
       "      <th>sensor_2</th>\n",
       "      <th>sensor_3</th>\n",
       "      <th>sensor_4</th>\n",
       "      <th>sensor_5</th>\n",
       "      <th>...</th>\n",
       "      <th>sensor_19</th>\n",
       "      <th>sensor_20</th>\n",
       "      <th>sensor_21</th>\n",
       "      <th>sensor_22</th>\n",
       "      <th>sensor_23</th>\n",
       "      <th>sensor_24</th>\n",
       "      <th>sensor_25</th>\n",
       "      <th>sensor_26</th>\n",
       "      <th>sensor_27</th>\n",
       "      <th>sensor_3minus4</th>\n",
       "    </tr>\n",
       "  </thead>\n",
       "  <tbody>\n",
       "    <tr>\n",
       "      <th>0</th>\n",
       "      <td>69.0</td>\n",
       "      <td>1</td>\n",
       "      <td>0.0</td>\n",
       "      <td>-0.0003</td>\n",
       "      <td>100.0</td>\n",
       "      <td>518.67</td>\n",
       "      <td>642.5</td>\n",
       "      <td>1590.1</td>\n",
       "      <td>1409.01</td>\n",
       "      <td>14.62</td>\n",
       "      <td>...</td>\n",
       "      <td>100.0</td>\n",
       "      <td>38.86</td>\n",
       "      <td>23.3222</td>\n",
       "      <td>NaN</td>\n",
       "      <td>NaN</td>\n",
       "      <td>NaN</td>\n",
       "      <td>NaN</td>\n",
       "      <td>NaN</td>\n",
       "      <td>NaN</td>\n",
       "      <td>183.45</td>\n",
       "    </tr>\n",
       "    <tr>\n",
       "      <th>1</th>\n",
       "      <td>NaN</td>\n",
       "      <td>2</td>\n",
       "      <td>NaN</td>\n",
       "      <td>NaN</td>\n",
       "      <td>NaN</td>\n",
       "      <td>NaN</td>\n",
       "      <td>NaN</td>\n",
       "      <td>NaN</td>\n",
       "      <td>NaN</td>\n",
       "      <td>NaN</td>\n",
       "      <td>...</td>\n",
       "      <td>NaN</td>\n",
       "      <td>NaN</td>\n",
       "      <td>NaN</td>\n",
       "      <td>NaN</td>\n",
       "      <td>NaN</td>\n",
       "      <td>NaN</td>\n",
       "      <td>NaN</td>\n",
       "      <td>NaN</td>\n",
       "      <td>NaN</td>\n",
       "      <td>NaN</td>\n",
       "    </tr>\n",
       "    <tr>\n",
       "      <th>2</th>\n",
       "      <td>NaN</td>\n",
       "      <td>3</td>\n",
       "      <td>NaN</td>\n",
       "      <td>NaN</td>\n",
       "      <td>NaN</td>\n",
       "      <td>NaN</td>\n",
       "      <td>NaN</td>\n",
       "      <td>NaN</td>\n",
       "      <td>NaN</td>\n",
       "      <td>NaN</td>\n",
       "      <td>...</td>\n",
       "      <td>NaN</td>\n",
       "      <td>NaN</td>\n",
       "      <td>NaN</td>\n",
       "      <td>NaN</td>\n",
       "      <td>NaN</td>\n",
       "      <td>NaN</td>\n",
       "      <td>NaN</td>\n",
       "      <td>NaN</td>\n",
       "      <td>NaN</td>\n",
       "      <td>NaN</td>\n",
       "    </tr>\n",
       "    <tr>\n",
       "      <th>3</th>\n",
       "      <td>NaN</td>\n",
       "      <td>4</td>\n",
       "      <td>NaN</td>\n",
       "      <td>NaN</td>\n",
       "      <td>NaN</td>\n",
       "      <td>NaN</td>\n",
       "      <td>NaN</td>\n",
       "      <td>NaN</td>\n",
       "      <td>NaN</td>\n",
       "      <td>NaN</td>\n",
       "      <td>...</td>\n",
       "      <td>NaN</td>\n",
       "      <td>NaN</td>\n",
       "      <td>NaN</td>\n",
       "      <td>NaN</td>\n",
       "      <td>NaN</td>\n",
       "      <td>NaN</td>\n",
       "      <td>NaN</td>\n",
       "      <td>NaN</td>\n",
       "      <td>NaN</td>\n",
       "      <td>NaN</td>\n",
       "    </tr>\n",
       "    <tr>\n",
       "      <th>4</th>\n",
       "      <td>NaN</td>\n",
       "      <td>5</td>\n",
       "      <td>NaN</td>\n",
       "      <td>NaN</td>\n",
       "      <td>NaN</td>\n",
       "      <td>NaN</td>\n",
       "      <td>NaN</td>\n",
       "      <td>NaN</td>\n",
       "      <td>NaN</td>\n",
       "      <td>NaN</td>\n",
       "      <td>...</td>\n",
       "      <td>NaN</td>\n",
       "      <td>NaN</td>\n",
       "      <td>NaN</td>\n",
       "      <td>NaN</td>\n",
       "      <td>NaN</td>\n",
       "      <td>NaN</td>\n",
       "      <td>NaN</td>\n",
       "      <td>NaN</td>\n",
       "      <td>NaN</td>\n",
       "      <td>NaN</td>\n",
       "    </tr>\n",
       "    <tr>\n",
       "      <th>...</th>\n",
       "      <td>...</td>\n",
       "      <td>...</td>\n",
       "      <td>...</td>\n",
       "      <td>...</td>\n",
       "      <td>...</td>\n",
       "      <td>...</td>\n",
       "      <td>...</td>\n",
       "      <td>...</td>\n",
       "      <td>...</td>\n",
       "      <td>...</td>\n",
       "      <td>...</td>\n",
       "      <td>...</td>\n",
       "      <td>...</td>\n",
       "      <td>...</td>\n",
       "      <td>...</td>\n",
       "      <td>...</td>\n",
       "      <td>...</td>\n",
       "      <td>...</td>\n",
       "      <td>...</td>\n",
       "      <td>...</td>\n",
       "      <td>...</td>\n",
       "    </tr>\n",
       "    <tr>\n",
       "      <th>123</th>\n",
       "      <td>NaN</td>\n",
       "      <td>124</td>\n",
       "      <td>NaN</td>\n",
       "      <td>NaN</td>\n",
       "      <td>NaN</td>\n",
       "      <td>NaN</td>\n",
       "      <td>NaN</td>\n",
       "      <td>NaN</td>\n",
       "      <td>NaN</td>\n",
       "      <td>NaN</td>\n",
       "      <td>...</td>\n",
       "      <td>NaN</td>\n",
       "      <td>NaN</td>\n",
       "      <td>NaN</td>\n",
       "      <td>NaN</td>\n",
       "      <td>NaN</td>\n",
       "      <td>NaN</td>\n",
       "      <td>NaN</td>\n",
       "      <td>NaN</td>\n",
       "      <td>NaN</td>\n",
       "      <td>NaN</td>\n",
       "    </tr>\n",
       "    <tr>\n",
       "      <th>124</th>\n",
       "      <td>NaN</td>\n",
       "      <td>125</td>\n",
       "      <td>NaN</td>\n",
       "      <td>NaN</td>\n",
       "      <td>NaN</td>\n",
       "      <td>NaN</td>\n",
       "      <td>NaN</td>\n",
       "      <td>NaN</td>\n",
       "      <td>NaN</td>\n",
       "      <td>NaN</td>\n",
       "      <td>...</td>\n",
       "      <td>NaN</td>\n",
       "      <td>NaN</td>\n",
       "      <td>NaN</td>\n",
       "      <td>NaN</td>\n",
       "      <td>NaN</td>\n",
       "      <td>NaN</td>\n",
       "      <td>NaN</td>\n",
       "      <td>NaN</td>\n",
       "      <td>NaN</td>\n",
       "      <td>NaN</td>\n",
       "    </tr>\n",
       "    <tr>\n",
       "      <th>125</th>\n",
       "      <td>NaN</td>\n",
       "      <td>126</td>\n",
       "      <td>NaN</td>\n",
       "      <td>NaN</td>\n",
       "      <td>NaN</td>\n",
       "      <td>NaN</td>\n",
       "      <td>NaN</td>\n",
       "      <td>NaN</td>\n",
       "      <td>NaN</td>\n",
       "      <td>NaN</td>\n",
       "      <td>...</td>\n",
       "      <td>NaN</td>\n",
       "      <td>NaN</td>\n",
       "      <td>NaN</td>\n",
       "      <td>NaN</td>\n",
       "      <td>NaN</td>\n",
       "      <td>NaN</td>\n",
       "      <td>NaN</td>\n",
       "      <td>NaN</td>\n",
       "      <td>NaN</td>\n",
       "      <td>NaN</td>\n",
       "    </tr>\n",
       "    <tr>\n",
       "      <th>126</th>\n",
       "      <td>NaN</td>\n",
       "      <td>127</td>\n",
       "      <td>NaN</td>\n",
       "      <td>NaN</td>\n",
       "      <td>NaN</td>\n",
       "      <td>NaN</td>\n",
       "      <td>NaN</td>\n",
       "      <td>NaN</td>\n",
       "      <td>NaN</td>\n",
       "      <td>NaN</td>\n",
       "      <td>...</td>\n",
       "      <td>NaN</td>\n",
       "      <td>NaN</td>\n",
       "      <td>NaN</td>\n",
       "      <td>NaN</td>\n",
       "      <td>NaN</td>\n",
       "      <td>NaN</td>\n",
       "      <td>NaN</td>\n",
       "      <td>NaN</td>\n",
       "      <td>NaN</td>\n",
       "      <td>NaN</td>\n",
       "    </tr>\n",
       "    <tr>\n",
       "      <th>127</th>\n",
       "      <td>NaN</td>\n",
       "      <td>128</td>\n",
       "      <td>NaN</td>\n",
       "      <td>NaN</td>\n",
       "      <td>NaN</td>\n",
       "      <td>NaN</td>\n",
       "      <td>NaN</td>\n",
       "      <td>NaN</td>\n",
       "      <td>NaN</td>\n",
       "      <td>NaN</td>\n",
       "      <td>...</td>\n",
       "      <td>NaN</td>\n",
       "      <td>NaN</td>\n",
       "      <td>NaN</td>\n",
       "      <td>NaN</td>\n",
       "      <td>NaN</td>\n",
       "      <td>NaN</td>\n",
       "      <td>NaN</td>\n",
       "      <td>NaN</td>\n",
       "      <td>NaN</td>\n",
       "      <td>NaN</td>\n",
       "    </tr>\n",
       "  </tbody>\n",
       "</table>\n",
       "<p>128 rows × 33 columns</p>\n",
       "</div>"
      ],
      "text/plain": [
       "     unit_number  time_in_cycles  op_setting_1  op_setting_2  op_setting_3  \\\n",
       "0           69.0               1           0.0       -0.0003         100.0   \n",
       "1            NaN               2           NaN           NaN           NaN   \n",
       "2            NaN               3           NaN           NaN           NaN   \n",
       "3            NaN               4           NaN           NaN           NaN   \n",
       "4            NaN               5           NaN           NaN           NaN   \n",
       "..           ...             ...           ...           ...           ...   \n",
       "123          NaN             124           NaN           NaN           NaN   \n",
       "124          NaN             125           NaN           NaN           NaN   \n",
       "125          NaN             126           NaN           NaN           NaN   \n",
       "126          NaN             127           NaN           NaN           NaN   \n",
       "127          NaN             128           NaN           NaN           NaN   \n",
       "\n",
       "     sensor_1  sensor_2  sensor_3  sensor_4  sensor_5  ...  sensor_19  \\\n",
       "0      518.67     642.5    1590.1   1409.01     14.62  ...      100.0   \n",
       "1         NaN       NaN       NaN       NaN       NaN  ...        NaN   \n",
       "2         NaN       NaN       NaN       NaN       NaN  ...        NaN   \n",
       "3         NaN       NaN       NaN       NaN       NaN  ...        NaN   \n",
       "4         NaN       NaN       NaN       NaN       NaN  ...        NaN   \n",
       "..        ...       ...       ...       ...       ...  ...        ...   \n",
       "123       NaN       NaN       NaN       NaN       NaN  ...        NaN   \n",
       "124       NaN       NaN       NaN       NaN       NaN  ...        NaN   \n",
       "125       NaN       NaN       NaN       NaN       NaN  ...        NaN   \n",
       "126       NaN       NaN       NaN       NaN       NaN  ...        NaN   \n",
       "127       NaN       NaN       NaN       NaN       NaN  ...        NaN   \n",
       "\n",
       "     sensor_20  sensor_21  sensor_22  sensor_23  sensor_24  sensor_25  \\\n",
       "0        38.86    23.3222        NaN        NaN        NaN        NaN   \n",
       "1          NaN        NaN        NaN        NaN        NaN        NaN   \n",
       "2          NaN        NaN        NaN        NaN        NaN        NaN   \n",
       "3          NaN        NaN        NaN        NaN        NaN        NaN   \n",
       "4          NaN        NaN        NaN        NaN        NaN        NaN   \n",
       "..         ...        ...        ...        ...        ...        ...   \n",
       "123        NaN        NaN        NaN        NaN        NaN        NaN   \n",
       "124        NaN        NaN        NaN        NaN        NaN        NaN   \n",
       "125        NaN        NaN        NaN        NaN        NaN        NaN   \n",
       "126        NaN        NaN        NaN        NaN        NaN        NaN   \n",
       "127        NaN        NaN        NaN        NaN        NaN        NaN   \n",
       "\n",
       "     sensor_26  sensor_27  sensor_3minus4  \n",
       "0          NaN        NaN          183.45  \n",
       "1          NaN        NaN             NaN  \n",
       "2          NaN        NaN             NaN  \n",
       "3          NaN        NaN             NaN  \n",
       "4          NaN        NaN             NaN  \n",
       "..         ...        ...             ...  \n",
       "123        NaN        NaN             NaN  \n",
       "124        NaN        NaN             NaN  \n",
       "125        NaN        NaN             NaN  \n",
       "126        NaN        NaN             NaN  \n",
       "127        NaN        NaN             NaN  \n",
       "\n",
       "[128 rows x 33 columns]"
      ]
     },
     "execution_count": 21,
     "metadata": {},
     "output_type": "execute_result"
    }
   ],
   "source": [
    "# 例：計算各空氣品質監測項目的眾數\n",
    "df.mode()"
   ]
  },
  {
   "cell_type": "markdown",
   "metadata": {
    "colab_type": "text",
    "id": "8qyzKqX5My3E"
   },
   "source": [
    "### `.sum()`：計算總和\n",
    "\n",
    "* 常用 Parameters：\n",
    "    1. `min_count` : 設定非遺漏值的最小數量，預設為 `0`\n",
    "        * `0` : 若 Series 中全部是 `NaN` 或是空值，則回傳 `0.0`\n",
    "        * 其他數值 : 若 Series 中非 `NaN` 的數值筆數小於 `min_count` 所設定的數量 ，則回傳 `NaN`\n",
    "    1. `axis`：\n",
    "        * `1` : 以 column 方向計算\n",
    "        * `0` : 以 row 方向計算\n",
    "    1. `skipna`：預設為 `True`\n",
    "        * `True` : 計算統計量的時候忽略 NA (`np.nan`，`None`)\n",
    "        * `False` : 只要資料中出現一筆 NA，則回傳 `NaN`\n",
    "* Return : Series 或 DataFrame\n",
    "* 參考文件：\n",
    "    * [pandas.DataFrame.sum](https://pandas.pydata.org/pandas-docs/stable/reference/api/pandas.DataFrame.sum.html#pandas-dataframe-sum)\n",
    "    * [pandas.Series.sum](https://pandas.pydata.org/pandas-docs/stable/reference/api/pandas.Series.sum.html#pandas-series-sum)"
   ]
  },
  {
   "cell_type": "code",
   "execution_count": 22,
   "metadata": {},
   "outputs": [
    {
     "data": {
      "text/html": [
       "<div>\n",
       "<style scoped>\n",
       "    .dataframe tbody tr th:only-of-type {\n",
       "        vertical-align: middle;\n",
       "    }\n",
       "\n",
       "    .dataframe tbody tr th {\n",
       "        vertical-align: top;\n",
       "    }\n",
       "\n",
       "    .dataframe thead th {\n",
       "        text-align: right;\n",
       "    }\n",
       "</style>\n",
       "<table border=\"1\" class=\"dataframe\">\n",
       "  <thead>\n",
       "    <tr style=\"text-align: right;\">\n",
       "      <th></th>\n",
       "      <th>time</th>\n",
       "      <th>RAINFALL</th>\n",
       "    </tr>\n",
       "  </thead>\n",
       "  <tbody>\n",
       "    <tr>\n",
       "      <th>0</th>\n",
       "      <td>2020-01-31</td>\n",
       "      <td>61</td>\n",
       "    </tr>\n",
       "    <tr>\n",
       "      <th>1</th>\n",
       "      <td>2020-02-29</td>\n",
       "      <td>300</td>\n",
       "    </tr>\n",
       "    <tr>\n",
       "      <th>2</th>\n",
       "      <td>2020-03-31</td>\n",
       "      <td>141</td>\n",
       "    </tr>\n",
       "    <tr>\n",
       "      <th>3</th>\n",
       "      <td>2020-04-30</td>\n",
       "      <td>232</td>\n",
       "    </tr>\n",
       "    <tr>\n",
       "      <th>4</th>\n",
       "      <td>2020-05-31</td>\n",
       "      <td>107</td>\n",
       "    </tr>\n",
       "    <tr>\n",
       "      <th>5</th>\n",
       "      <td>2020-06-30</td>\n",
       "      <td>196</td>\n",
       "    </tr>\n",
       "    <tr>\n",
       "      <th>6</th>\n",
       "      <td>2020-07-31</td>\n",
       "      <td>100</td>\n",
       "    </tr>\n",
       "    <tr>\n",
       "      <th>7</th>\n",
       "      <td>2020-08-31</td>\n",
       "      <td>272</td>\n",
       "    </tr>\n",
       "    <tr>\n",
       "      <th>8</th>\n",
       "      <td>2020-09-30</td>\n",
       "      <td>160</td>\n",
       "    </tr>\n",
       "    <tr>\n",
       "      <th>9</th>\n",
       "      <td>2020-10-31</td>\n",
       "      <td>236</td>\n",
       "    </tr>\n",
       "    <tr>\n",
       "      <th>10</th>\n",
       "      <td>2020-11-30</td>\n",
       "      <td>275</td>\n",
       "    </tr>\n",
       "    <tr>\n",
       "      <th>11</th>\n",
       "      <td>2020-12-31</td>\n",
       "      <td>299</td>\n",
       "    </tr>\n",
       "  </tbody>\n",
       "</table>\n",
       "</div>"
      ],
      "text/plain": [
       "         time  RAINFALL\n",
       "0  2020-01-31        61\n",
       "1  2020-02-29       300\n",
       "2  2020-03-31       141\n",
       "3  2020-04-30       232\n",
       "4  2020-05-31       107\n",
       "5  2020-06-30       196\n",
       "6  2020-07-31       100\n",
       "7  2020-08-31       272\n",
       "8  2020-09-30       160\n",
       "9  2020-10-31       236\n",
       "10 2020-11-30       275\n",
       "11 2020-12-31       299"
      ]
     },
     "execution_count": 22,
     "metadata": {},
     "output_type": "execute_result"
    }
   ],
   "source": [
    "tmp = pd.DataFrame({\"time\":pd.date_range('2020-01', '2021-01', freq=\"M\"), \n",
    "                    \"RAINFALL\":[random.randint(50, 300) for x in range(0, 12)]})\n",
    "tmp"
   ]
  },
  {
   "cell_type": "code",
   "execution_count": 23,
   "metadata": {},
   "outputs": [
    {
     "data": {
      "text/plain": [
       "2379"
      ]
     },
     "execution_count": 23,
     "metadata": {},
     "output_type": "execute_result"
    }
   ],
   "source": [
    "tmp[\"RAINFALL\"].sum()"
   ]
  },
  {
   "cell_type": "markdown",
   "metadata": {},
   "source": [
    "> 備註：以下補充針對 Parameter `min_count` 的一些測試："
   ]
  },
  {
   "cell_type": "code",
   "execution_count": 24,
   "metadata": {
    "colab": {
     "autoexec": {
      "startup": false,
      "wait_interval": 0
     },
     "base_uri": "https://localhost:8080/",
     "height": 34
    },
    "colab_type": "code",
    "executionInfo": {
     "elapsed": 702,
     "status": "ok",
     "timestamp": 1530864527081,
     "user": {
      "displayName": "黃種平",
      "photoUrl": "//lh3.googleusercontent.com/-ay6h3dmyraY/AAAAAAAAAAI/AAAAAAAADhg/t8F2AGa00fc/s50-c-k-no/photo.jpg",
      "userId": "114874362450166068432"
     },
     "user_tz": -480
    },
    "id": "Dakc17paDgY5",
    "outputId": "28c6b776-5bc5-4f23-c3da-ded0577be491"
   },
   "outputs": [
    {
     "name": "stderr",
     "output_type": "stream",
     "text": [
      "/Users/liyating/.local/share/virtualenvs/pandas_training_env-txbSq38o/lib/python3.6/site-packages/ipykernel_launcher.py:3: DeprecationWarning: The default dtype for empty Series will be 'object' instead of 'float64' in a future version. Specify a dtype explicitly to silence this warning.\n",
      "  This is separate from the ipykernel package so we can avoid doing imports until\n"
     ]
    },
    {
     "data": {
      "text/plain": [
       "0.0"
      ]
     },
     "execution_count": 24,
     "metadata": {},
     "output_type": "execute_result"
    }
   ],
   "source": [
    "# 狀況1. Series 為空的，min_count=0\n",
    "# output 為 0.0: 因為 min_count=0，Series 是空的，則回傳 0.0\n",
    "pd.Series([]).sum(skipna=True, min_count=0)"
   ]
  },
  {
   "cell_type": "code",
   "execution_count": 25,
   "metadata": {
    "colab": {
     "autoexec": {
      "startup": false,
      "wait_interval": 0
     },
     "base_uri": "https://localhost:8080/",
     "height": 34
    },
    "colab_type": "code",
    "executionInfo": {
     "elapsed": 1055,
     "status": "ok",
     "timestamp": 1530864528522,
     "user": {
      "displayName": "黃種平",
      "photoUrl": "//lh3.googleusercontent.com/-ay6h3dmyraY/AAAAAAAAAAI/AAAAAAAADhg/t8F2AGa00fc/s50-c-k-no/photo.jpg",
      "userId": "114874362450166068432"
     },
     "user_tz": -480
    },
    "id": "9DCfTRHVcDsf",
    "outputId": "3587ba67-1733-4caa-d82c-04c0fd69e634"
   },
   "outputs": [
    {
     "name": "stderr",
     "output_type": "stream",
     "text": [
      "/Users/liyating/.local/share/virtualenvs/pandas_training_env-txbSq38o/lib/python3.6/site-packages/ipykernel_launcher.py:3: DeprecationWarning: The default dtype for empty Series will be 'object' instead of 'float64' in a future version. Specify a dtype explicitly to silence this warning.\n",
      "  This is separate from the ipykernel package so we can avoid doing imports until\n"
     ]
    },
    {
     "data": {
      "text/plain": [
       "nan"
      ]
     },
     "execution_count": 25,
     "metadata": {},
     "output_type": "execute_result"
    }
   ],
   "source": [
    "# 狀況2. Series 為空的，min_count=1\n",
    "# 因為 min_count=1，Series 被判定為空的，非 NaN 的數值筆數小於 min_count，則回傳 nan\n",
    "pd.Series([]).sum(skipna=True, min_count=1)"
   ]
  },
  {
   "cell_type": "code",
   "execution_count": 26,
   "metadata": {
    "colab": {
     "autoexec": {
      "startup": false,
      "wait_interval": 0
     },
     "base_uri": "https://localhost:8080/",
     "height": 34
    },
    "colab_type": "code",
    "executionInfo": {
     "elapsed": 1042,
     "status": "ok",
     "timestamp": 1530864529887,
     "user": {
      "displayName": "黃種平",
      "photoUrl": "//lh3.googleusercontent.com/-ay6h3dmyraY/AAAAAAAAAAI/AAAAAAAADhg/t8F2AGa00fc/s50-c-k-no/photo.jpg",
      "userId": "114874362450166068432"
     },
     "user_tz": -480
    },
    "id": "MKlqr3nJcEoU",
    "outputId": "9a4bca5f-68ee-450a-9cd8-10de477969b3"
   },
   "outputs": [
    {
     "data": {
      "text/plain": [
       "0.0"
      ]
     },
     "execution_count": 26,
     "metadata": {},
     "output_type": "execute_result"
    }
   ],
   "source": [
    "# 狀況3. Series 為 np.nan，min_count=0\n",
    "# 因為 skipna=True 則 Series 被判定為空的，又因為 min_count 被設定為 0，因此回傳 0.0\n",
    "pd.Series([np.nan]).sum(skipna=True, min_count=0)"
   ]
  },
  {
   "cell_type": "code",
   "execution_count": 27,
   "metadata": {
    "colab": {
     "autoexec": {
      "startup": false,
      "wait_interval": 0
     },
     "base_uri": "https://localhost:8080/",
     "height": 34
    },
    "colab_type": "code",
    "executionInfo": {
     "elapsed": 932,
     "status": "ok",
     "timestamp": 1530864531098,
     "user": {
      "displayName": "黃種平",
      "photoUrl": "//lh3.googleusercontent.com/-ay6h3dmyraY/AAAAAAAAAAI/AAAAAAAADhg/t8F2AGa00fc/s50-c-k-no/photo.jpg",
      "userId": "114874362450166068432"
     },
     "user_tz": -480
    },
    "id": "xl8B0C8jdGmI",
    "outputId": "8a12c0ee-448e-4c07-a617-f173fc267169"
   },
   "outputs": [
    {
     "data": {
      "text/plain": [
       "nan"
      ]
     },
     "execution_count": 27,
     "metadata": {},
     "output_type": "execute_result"
    }
   ],
   "source": [
    "# 如果 skipna=False，因為只要資料中出現一筆 NA，則回傳 NaN。\n",
    "# 即使 min_count=0 時，因為 Series 中也全都是 NaN，依然回傳 0.0\n",
    "pd.Series([np.nan]).sum(skipna=False, min_count=0)"
   ]
  },
  {
   "cell_type": "code",
   "execution_count": 28,
   "metadata": {
    "colab": {
     "autoexec": {
      "startup": false,
      "wait_interval": 0
     },
     "base_uri": "https://localhost:8080/",
     "height": 34
    },
    "colab_type": "code",
    "executionInfo": {
     "elapsed": 889,
     "status": "ok",
     "timestamp": 1530864532305,
     "user": {
      "displayName": "黃種平",
      "photoUrl": "//lh3.googleusercontent.com/-ay6h3dmyraY/AAAAAAAAAAI/AAAAAAAADhg/t8F2AGa00fc/s50-c-k-no/photo.jpg",
      "userId": "114874362450166068432"
     },
     "user_tz": -480
    },
    "id": "e0EsGWUFcFgj",
    "outputId": "89e8c291-9833-405c-e325-27573c8effc2"
   },
   "outputs": [
    {
     "data": {
      "text/plain": [
       "nan"
      ]
     },
     "execution_count": 28,
     "metadata": {},
     "output_type": "execute_result"
    }
   ],
   "source": [
    "# 狀況4. Series 為 np.nan，min_count=1\n",
    "pd.Series([np.nan]).sum(skipna=True, min_count=1)"
   ]
  },
  {
   "cell_type": "markdown",
   "metadata": {
    "colab_type": "text",
    "id": "qcZuluUD3Pe7"
   },
   "source": [
    "### `.round()`：將浮點數(dtype=float64)取到某位數並四捨五入\n",
    "\n",
    "\n",
    "\n",
    "* 參考文件：\n",
    "    * [pandas.DataFrame.round](https://pandas.pydata.org/pandas-docs/stable/reference/api/pandas.DataFrame.round.html#pandas-dataframe-round)\n",
    "    * [pandas.Series.round](https://pandas.pydata.org/pandas-docs/stable/reference/api/pandas.Series.round.html#pandas-series-round)"
   ]
  },
  {
   "cell_type": "code",
   "execution_count": 26,
   "metadata": {
    "colab": {
     "autoexec": {
      "startup": false,
      "wait_interval": 0
     },
     "base_uri": "https://localhost:8080/",
     "height": 221
    },
    "colab_type": "code",
    "executionInfo": {
     "elapsed": 1195,
     "status": "ok",
     "timestamp": 1530864533844,
     "user": {
      "displayName": "黃種平",
      "photoUrl": "//lh3.googleusercontent.com/-ay6h3dmyraY/AAAAAAAAAAI/AAAAAAAADhg/t8F2AGa00fc/s50-c-k-no/photo.jpg",
      "userId": "114874362450166068432"
     },
     "user_tz": -480
    },
    "id": "MFKjXlX_79ot",
    "outputId": "16df6450-4388-4ff1-c44e-0fdf77472f8d"
   },
   "outputs": [
    {
     "data": {
      "text/plain": [
       "0    23.4190\n",
       "1    23.4236\n",
       "2    23.3442\n",
       "3    23.3739\n",
       "4    23.4044\n",
       "5    23.3669\n",
       "6    23.3774\n",
       "7    23.3106\n",
       "8    23.4066\n",
       "9    23.4694\n",
       "Name: sensor_21, dtype: float64"
      ]
     },
     "execution_count": 26,
     "metadata": {},
     "output_type": "execute_result"
    }
   ],
   "source": [
    "# 觀察原始 感測器21 (column label: 'sensor_21') 資料\n",
    "df.loc[:, 'sensor_21'].head(10)"
   ]
  },
  {
   "cell_type": "code",
   "execution_count": 27,
   "metadata": {
    "colab": {
     "autoexec": {
      "startup": false,
      "wait_interval": 0
     },
     "base_uri": "https://localhost:8080/",
     "height": 221
    },
    "colab_type": "code",
    "executionInfo": {
     "elapsed": 1085,
     "status": "ok",
     "timestamp": 1530864535356,
     "user": {
      "displayName": "黃種平",
      "photoUrl": "//lh3.googleusercontent.com/-ay6h3dmyraY/AAAAAAAAAAI/AAAAAAAADhg/t8F2AGa00fc/s50-c-k-no/photo.jpg",
      "userId": "114874362450166068432"
     },
     "user_tz": -480
    },
    "id": "Kv7abRjn7rJ_",
    "outputId": "4f4ade51-410b-4e07-ce38-195bffccbee9"
   },
   "outputs": [
    {
     "data": {
      "text/plain": [
       "0    23.42\n",
       "1    23.42\n",
       "2    23.34\n",
       "3    23.37\n",
       "4    23.40\n",
       "5    23.37\n",
       "6    23.38\n",
       "7    23.31\n",
       "8    23.41\n",
       "9    23.47\n",
       "Name: sensor_21, dtype: float64"
      ]
     },
     "execution_count": 27,
     "metadata": {},
     "output_type": "execute_result"
    }
   ],
   "source": [
    "# 例：將 感測器21 (column label: 'sensor_21') 取到小數點底下第二位\n",
    "df.loc[:, 'sensor_21'].round(2).head(10)"
   ]
  },
  {
   "cell_type": "markdown",
   "metadata": {
    "colab_type": "text",
    "id": "ePu5IuNFM0oI"
   },
   "source": [
    "### `.corr()`：計算 column 之間的線性關係的強度和方向\n",
    "\n",
    "調用 `.corr()` method 時，Pandas 會自動排除 NA，不列入計算。\n",
    "\n",
    "\n",
    "\n",
    "* 常用 Parameters：\n",
    "    1. `method` 選擇要計算的相關係數，預設為 `pearson`\n",
    "        * `pearson` : 即為 **Pearson standard correlation coefficient**，用來衡量兩個等距尺度或等比尺度變數之相關性。\n",
    "        * 參考文件：\n",
    "            * [Wikipedia | 相關](https://zh.wikipedia.org/zh-tw/相關)\n",
    "    1. `min_periods`：設定資料的 row 的最小數量，預設為`1`\n",
    "        * rows 的數量必須大於等於此值，否則回傳 `NaN`\n",
    "* 參考文件：\n",
    "    * [pandas.DataFrame.corr](https://pandas.pydata.org/pandas-docs/stable/reference/api/pandas.DataFrame.corr.html#pandas-dataframe-corr)\n",
    "    * [pandas.Series.corr](https://pandas.pydata.org/pandas-docs/stable/reference/api/pandas.Series.corr.html#pandas-series-corr)"
   ]
  },
  {
   "cell_type": "code",
   "execution_count": 31,
   "metadata": {},
   "outputs": [
    {
     "data": {
      "text/html": [
       "<div>\n",
       "<style scoped>\n",
       "    .dataframe tbody tr th:only-of-type {\n",
       "        vertical-align: middle;\n",
       "    }\n",
       "\n",
       "    .dataframe tbody tr th {\n",
       "        vertical-align: top;\n",
       "    }\n",
       "\n",
       "    .dataframe thead th {\n",
       "        text-align: right;\n",
       "    }\n",
       "</style>\n",
       "<table border=\"1\" class=\"dataframe\">\n",
       "  <thead>\n",
       "    <tr style=\"text-align: right;\">\n",
       "      <th></th>\n",
       "      <th>unit_number</th>\n",
       "      <th>time_in_cycles</th>\n",
       "      <th>sensor_2</th>\n",
       "      <th>sensor_3</th>\n",
       "      <th>sensor_4</th>\n",
       "      <th>sensor_7</th>\n",
       "      <th>sensor_8</th>\n",
       "      <th>sensor_9</th>\n",
       "      <th>sensor_11</th>\n",
       "      <th>sensor_12</th>\n",
       "      <th>sensor_13</th>\n",
       "      <th>sensor_14</th>\n",
       "      <th>sensor_15</th>\n",
       "      <th>sensor_17</th>\n",
       "      <th>sensor_20</th>\n",
       "      <th>sensor_21</th>\n",
       "      <th>RUL</th>\n",
       "    </tr>\n",
       "  </thead>\n",
       "  <tbody>\n",
       "    <tr>\n",
       "      <th>0</th>\n",
       "      <td>1</td>\n",
       "      <td>1</td>\n",
       "      <td>641.82</td>\n",
       "      <td>1589.70</td>\n",
       "      <td>1400.60</td>\n",
       "      <td>554.36</td>\n",
       "      <td>2388.06</td>\n",
       "      <td>9046.19</td>\n",
       "      <td>47.47</td>\n",
       "      <td>521.66</td>\n",
       "      <td>2388.02</td>\n",
       "      <td>8138.62</td>\n",
       "      <td>8.4195</td>\n",
       "      <td>392</td>\n",
       "      <td>39.06</td>\n",
       "      <td>23.4190</td>\n",
       "      <td>191</td>\n",
       "    </tr>\n",
       "    <tr>\n",
       "      <th>1</th>\n",
       "      <td>1</td>\n",
       "      <td>2</td>\n",
       "      <td>642.15</td>\n",
       "      <td>1591.82</td>\n",
       "      <td>1403.14</td>\n",
       "      <td>553.75</td>\n",
       "      <td>2388.04</td>\n",
       "      <td>9044.07</td>\n",
       "      <td>47.49</td>\n",
       "      <td>522.28</td>\n",
       "      <td>2388.07</td>\n",
       "      <td>8131.49</td>\n",
       "      <td>8.4318</td>\n",
       "      <td>392</td>\n",
       "      <td>39.00</td>\n",
       "      <td>23.4236</td>\n",
       "      <td>190</td>\n",
       "    </tr>\n",
       "    <tr>\n",
       "      <th>2</th>\n",
       "      <td>1</td>\n",
       "      <td>3</td>\n",
       "      <td>642.35</td>\n",
       "      <td>1587.99</td>\n",
       "      <td>1404.20</td>\n",
       "      <td>554.26</td>\n",
       "      <td>2388.08</td>\n",
       "      <td>9052.94</td>\n",
       "      <td>47.27</td>\n",
       "      <td>522.42</td>\n",
       "      <td>2388.03</td>\n",
       "      <td>8133.23</td>\n",
       "      <td>8.4178</td>\n",
       "      <td>390</td>\n",
       "      <td>38.95</td>\n",
       "      <td>23.3442</td>\n",
       "      <td>189</td>\n",
       "    </tr>\n",
       "    <tr>\n",
       "      <th>3</th>\n",
       "      <td>1</td>\n",
       "      <td>4</td>\n",
       "      <td>642.35</td>\n",
       "      <td>1582.79</td>\n",
       "      <td>1401.87</td>\n",
       "      <td>554.45</td>\n",
       "      <td>2388.11</td>\n",
       "      <td>9049.48</td>\n",
       "      <td>47.13</td>\n",
       "      <td>522.86</td>\n",
       "      <td>2388.08</td>\n",
       "      <td>8133.83</td>\n",
       "      <td>8.3682</td>\n",
       "      <td>392</td>\n",
       "      <td>38.88</td>\n",
       "      <td>23.3739</td>\n",
       "      <td>188</td>\n",
       "    </tr>\n",
       "    <tr>\n",
       "      <th>4</th>\n",
       "      <td>1</td>\n",
       "      <td>5</td>\n",
       "      <td>642.37</td>\n",
       "      <td>1582.85</td>\n",
       "      <td>1406.22</td>\n",
       "      <td>554.00</td>\n",
       "      <td>2388.06</td>\n",
       "      <td>9055.15</td>\n",
       "      <td>47.28</td>\n",
       "      <td>522.19</td>\n",
       "      <td>2388.04</td>\n",
       "      <td>8133.80</td>\n",
       "      <td>8.4294</td>\n",
       "      <td>393</td>\n",
       "      <td>38.90</td>\n",
       "      <td>23.4044</td>\n",
       "      <td>187</td>\n",
       "    </tr>\n",
       "    <tr>\n",
       "      <th>...</th>\n",
       "      <td>...</td>\n",
       "      <td>...</td>\n",
       "      <td>...</td>\n",
       "      <td>...</td>\n",
       "      <td>...</td>\n",
       "      <td>...</td>\n",
       "      <td>...</td>\n",
       "      <td>...</td>\n",
       "      <td>...</td>\n",
       "      <td>...</td>\n",
       "      <td>...</td>\n",
       "      <td>...</td>\n",
       "      <td>...</td>\n",
       "      <td>...</td>\n",
       "      <td>...</td>\n",
       "      <td>...</td>\n",
       "      <td>...</td>\n",
       "    </tr>\n",
       "    <tr>\n",
       "      <th>20626</th>\n",
       "      <td>100</td>\n",
       "      <td>196</td>\n",
       "      <td>643.49</td>\n",
       "      <td>1597.98</td>\n",
       "      <td>1428.63</td>\n",
       "      <td>551.43</td>\n",
       "      <td>2388.19</td>\n",
       "      <td>9065.52</td>\n",
       "      <td>48.07</td>\n",
       "      <td>519.49</td>\n",
       "      <td>2388.26</td>\n",
       "      <td>8137.60</td>\n",
       "      <td>8.4956</td>\n",
       "      <td>397</td>\n",
       "      <td>38.49</td>\n",
       "      <td>22.9735</td>\n",
       "      <td>4</td>\n",
       "    </tr>\n",
       "    <tr>\n",
       "      <th>20627</th>\n",
       "      <td>100</td>\n",
       "      <td>197</td>\n",
       "      <td>643.54</td>\n",
       "      <td>1604.50</td>\n",
       "      <td>1433.58</td>\n",
       "      <td>550.86</td>\n",
       "      <td>2388.23</td>\n",
       "      <td>9065.11</td>\n",
       "      <td>48.04</td>\n",
       "      <td>519.68</td>\n",
       "      <td>2388.22</td>\n",
       "      <td>8136.50</td>\n",
       "      <td>8.5139</td>\n",
       "      <td>395</td>\n",
       "      <td>38.30</td>\n",
       "      <td>23.1594</td>\n",
       "      <td>3</td>\n",
       "    </tr>\n",
       "    <tr>\n",
       "      <th>20628</th>\n",
       "      <td>100</td>\n",
       "      <td>198</td>\n",
       "      <td>643.42</td>\n",
       "      <td>1602.46</td>\n",
       "      <td>1428.18</td>\n",
       "      <td>550.94</td>\n",
       "      <td>2388.24</td>\n",
       "      <td>9065.90</td>\n",
       "      <td>48.09</td>\n",
       "      <td>520.01</td>\n",
       "      <td>2388.24</td>\n",
       "      <td>8141.05</td>\n",
       "      <td>8.5646</td>\n",
       "      <td>398</td>\n",
       "      <td>38.44</td>\n",
       "      <td>22.9333</td>\n",
       "      <td>2</td>\n",
       "    </tr>\n",
       "    <tr>\n",
       "      <th>20629</th>\n",
       "      <td>100</td>\n",
       "      <td>199</td>\n",
       "      <td>643.23</td>\n",
       "      <td>1605.26</td>\n",
       "      <td>1426.53</td>\n",
       "      <td>550.68</td>\n",
       "      <td>2388.25</td>\n",
       "      <td>9073.72</td>\n",
       "      <td>48.39</td>\n",
       "      <td>519.67</td>\n",
       "      <td>2388.23</td>\n",
       "      <td>8139.29</td>\n",
       "      <td>8.5389</td>\n",
       "      <td>395</td>\n",
       "      <td>38.29</td>\n",
       "      <td>23.0640</td>\n",
       "      <td>1</td>\n",
       "    </tr>\n",
       "    <tr>\n",
       "      <th>20630</th>\n",
       "      <td>100</td>\n",
       "      <td>200</td>\n",
       "      <td>643.85</td>\n",
       "      <td>1600.38</td>\n",
       "      <td>1432.14</td>\n",
       "      <td>550.79</td>\n",
       "      <td>2388.26</td>\n",
       "      <td>9061.48</td>\n",
       "      <td>48.20</td>\n",
       "      <td>519.30</td>\n",
       "      <td>2388.26</td>\n",
       "      <td>8137.33</td>\n",
       "      <td>8.5036</td>\n",
       "      <td>396</td>\n",
       "      <td>38.37</td>\n",
       "      <td>23.0522</td>\n",
       "      <td>0</td>\n",
       "    </tr>\n",
       "  </tbody>\n",
       "</table>\n",
       "<p>20631 rows × 17 columns</p>\n",
       "</div>"
      ],
      "text/plain": [
       "       unit_number  time_in_cycles  sensor_2  sensor_3  sensor_4  sensor_7  \\\n",
       "0                1               1    641.82   1589.70   1400.60    554.36   \n",
       "1                1               2    642.15   1591.82   1403.14    553.75   \n",
       "2                1               3    642.35   1587.99   1404.20    554.26   \n",
       "3                1               4    642.35   1582.79   1401.87    554.45   \n",
       "4                1               5    642.37   1582.85   1406.22    554.00   \n",
       "...            ...             ...       ...       ...       ...       ...   \n",
       "20626          100             196    643.49   1597.98   1428.63    551.43   \n",
       "20627          100             197    643.54   1604.50   1433.58    550.86   \n",
       "20628          100             198    643.42   1602.46   1428.18    550.94   \n",
       "20629          100             199    643.23   1605.26   1426.53    550.68   \n",
       "20630          100             200    643.85   1600.38   1432.14    550.79   \n",
       "\n",
       "       sensor_8  sensor_9  sensor_11  sensor_12  sensor_13  sensor_14  \\\n",
       "0       2388.06   9046.19      47.47     521.66    2388.02    8138.62   \n",
       "1       2388.04   9044.07      47.49     522.28    2388.07    8131.49   \n",
       "2       2388.08   9052.94      47.27     522.42    2388.03    8133.23   \n",
       "3       2388.11   9049.48      47.13     522.86    2388.08    8133.83   \n",
       "4       2388.06   9055.15      47.28     522.19    2388.04    8133.80   \n",
       "...         ...       ...        ...        ...        ...        ...   \n",
       "20626   2388.19   9065.52      48.07     519.49    2388.26    8137.60   \n",
       "20627   2388.23   9065.11      48.04     519.68    2388.22    8136.50   \n",
       "20628   2388.24   9065.90      48.09     520.01    2388.24    8141.05   \n",
       "20629   2388.25   9073.72      48.39     519.67    2388.23    8139.29   \n",
       "20630   2388.26   9061.48      48.20     519.30    2388.26    8137.33   \n",
       "\n",
       "       sensor_15  sensor_17  sensor_20  sensor_21  RUL  \n",
       "0         8.4195        392      39.06    23.4190  191  \n",
       "1         8.4318        392      39.00    23.4236  190  \n",
       "2         8.4178        390      38.95    23.3442  189  \n",
       "3         8.3682        392      38.88    23.3739  188  \n",
       "4         8.4294        393      38.90    23.4044  187  \n",
       "...          ...        ...        ...        ...  ...  \n",
       "20626     8.4956        397      38.49    22.9735    4  \n",
       "20627     8.5139        395      38.30    23.1594    3  \n",
       "20628     8.5646        398      38.44    22.9333    2  \n",
       "20629     8.5389        395      38.29    23.0640    1  \n",
       "20630     8.5036        396      38.37    23.0522    0  \n",
       "\n",
       "[20631 rows x 17 columns]"
      ]
     },
     "execution_count": 31,
     "metadata": {},
     "output_type": "execute_result"
    }
   ],
   "source": [
    "metadata = ['unit_number', 'time_in_cycles']\n",
    "col_part = metadata + ['sensor_{}'.format(i) for i in [2, 3, 4, 7, 8, 9, 11, 12, 13, 14, 15, 17, 20 ,21]] \n",
    "df_2 = df.loc[:, col_part]\n",
    "df_2[\"RUL\"] = 0\n",
    "\n",
    "def create_rul(df):\n",
    "    for i in df[\"unit_number\"].unique():\n",
    "        rul = [max(df[df[\"unit_number\"]==i][\"time_in_cycles\"])] * df[df[\"unit_number\"]==i][\"time_in_cycles\"].shape[0]\n",
    "        df.loc[df[\"unit_number\"]==i, \"RUL\"] = rul - df[df[\"unit_number\"]==i][\"time_in_cycles\"]\n",
    "    return df\n",
    "\n",
    "df_2 = create_rul(df_2)\n",
    "df_2"
   ]
  },
  {
   "cell_type": "code",
   "execution_count": 32,
   "metadata": {},
   "outputs": [],
   "source": [
    "# 若無法在個人電腦上以 Anaconda 開啟 Notebook，請用Google Colab開啟，並將下一行程式的註解消除，再將 df_2 儲存 # \n",
    "# df_2.to_csv(os.path.join(os.getcwd(), \"turbofan_rul.csv\"), index=False)\n",
    "df_2.to_csv(os.path.join(os.getcwd(), \"data\", \"turbofan_rul.csv\"), index=False)"
   ]
  },
  {
   "cell_type": "code",
   "execution_count": 34,
   "metadata": {
    "colab": {
     "autoexec": {
      "startup": false,
      "wait_interval": 0
     },
     "base_uri": "https://localhost:8080/",
     "height": 658
    },
    "colab_type": "code",
    "executionInfo": {
     "elapsed": 986,
     "status": "ok",
     "timestamp": 1530864538400,
     "user": {
      "displayName": "黃種平",
      "photoUrl": "//lh3.googleusercontent.com/-ay6h3dmyraY/AAAAAAAAAAI/AAAAAAAADhg/t8F2AGa00fc/s50-c-k-no/photo.jpg",
      "userId": "114874362450166068432"
     },
     "user_tz": -480
    },
    "id": "aSA3pz5BGSEU",
    "outputId": "2051acde-5eb4-4d2e-f6ba-38fe77cf4d3b"
   },
   "outputs": [
    {
     "data": {
      "text/html": [
       "<div>\n",
       "<style scoped>\n",
       "    .dataframe tbody tr th:only-of-type {\n",
       "        vertical-align: middle;\n",
       "    }\n",
       "\n",
       "    .dataframe tbody tr th {\n",
       "        vertical-align: top;\n",
       "    }\n",
       "\n",
       "    .dataframe thead th {\n",
       "        text-align: right;\n",
       "    }\n",
       "</style>\n",
       "<table border=\"1\" class=\"dataframe\">\n",
       "  <thead>\n",
       "    <tr style=\"text-align: right;\">\n",
       "      <th></th>\n",
       "      <th>unit_number</th>\n",
       "      <th>time_in_cycles</th>\n",
       "      <th>sensor_2</th>\n",
       "      <th>sensor_3</th>\n",
       "      <th>sensor_4</th>\n",
       "      <th>sensor_7</th>\n",
       "      <th>sensor_8</th>\n",
       "      <th>sensor_9</th>\n",
       "      <th>sensor_11</th>\n",
       "      <th>sensor_12</th>\n",
       "      <th>sensor_13</th>\n",
       "      <th>sensor_14</th>\n",
       "      <th>sensor_15</th>\n",
       "      <th>sensor_17</th>\n",
       "      <th>sensor_20</th>\n",
       "      <th>sensor_21</th>\n",
       "      <th>RUL</th>\n",
       "    </tr>\n",
       "  </thead>\n",
       "  <tbody>\n",
       "    <tr>\n",
       "      <th>unit_number</th>\n",
       "      <td>1.000000</td>\n",
       "      <td>0.078753</td>\n",
       "      <td>0.014133</td>\n",
       "      <td>0.012621</td>\n",
       "      <td>0.026116</td>\n",
       "      <td>-0.032073</td>\n",
       "      <td>0.039929</td>\n",
       "      <td>-0.052053</td>\n",
       "      <td>0.024707</td>\n",
       "      <td>-0.031882</td>\n",
       "      <td>0.044230</td>\n",
       "      <td>-0.059473</td>\n",
       "      <td>0.022486</td>\n",
       "      <td>0.013513</td>\n",
       "      <td>-0.020589</td>\n",
       "      <td>-0.016465</td>\n",
       "      <td>0.078753</td>\n",
       "    </tr>\n",
       "    <tr>\n",
       "      <th>time_in_cycles</th>\n",
       "      <td>0.078753</td>\n",
       "      <td>1.000000</td>\n",
       "      <td>0.549898</td>\n",
       "      <td>0.543947</td>\n",
       "      <td>0.624577</td>\n",
       "      <td>-0.595914</td>\n",
       "      <td>0.475977</td>\n",
       "      <td>0.443999</td>\n",
       "      <td>0.634385</td>\n",
       "      <td>-0.611354</td>\n",
       "      <td>0.477523</td>\n",
       "      <td>0.370324</td>\n",
       "      <td>0.588676</td>\n",
       "      <td>0.566995</td>\n",
       "      <td>-0.583597</td>\n",
       "      <td>-0.585923</td>\n",
       "      <td>-0.736241</td>\n",
       "    </tr>\n",
       "    <tr>\n",
       "      <th>sensor_2</th>\n",
       "      <td>0.014133</td>\n",
       "      <td>0.549898</td>\n",
       "      <td>1.000000</td>\n",
       "      <td>0.602610</td>\n",
       "      <td>0.714949</td>\n",
       "      <td>-0.702136</td>\n",
       "      <td>0.662325</td>\n",
       "      <td>0.273764</td>\n",
       "      <td>0.740020</td>\n",
       "      <td>-0.724578</td>\n",
       "      <td>0.661792</td>\n",
       "      <td>0.179752</td>\n",
       "      <td>0.675975</td>\n",
       "      <td>0.629886</td>\n",
       "      <td>-0.661841</td>\n",
       "      <td>-0.668050</td>\n",
       "      <td>-0.606484</td>\n",
       "    </tr>\n",
       "    <tr>\n",
       "      <th>sensor_3</th>\n",
       "      <td>0.012621</td>\n",
       "      <td>0.543947</td>\n",
       "      <td>0.602610</td>\n",
       "      <td>1.000000</td>\n",
       "      <td>0.678413</td>\n",
       "      <td>-0.664595</td>\n",
       "      <td>0.602481</td>\n",
       "      <td>0.322964</td>\n",
       "      <td>0.695900</td>\n",
       "      <td>-0.680307</td>\n",
       "      <td>0.600963</td>\n",
       "      <td>0.237137</td>\n",
       "      <td>0.639921</td>\n",
       "      <td>0.600017</td>\n",
       "      <td>-0.625941</td>\n",
       "      <td>-0.633901</td>\n",
       "      <td>-0.584520</td>\n",
       "    </tr>\n",
       "    <tr>\n",
       "      <th>sensor_4</th>\n",
       "      <td>0.026116</td>\n",
       "      <td>0.624577</td>\n",
       "      <td>0.714949</td>\n",
       "      <td>0.678413</td>\n",
       "      <td>1.000000</td>\n",
       "      <td>-0.793130</td>\n",
       "      <td>0.746852</td>\n",
       "      <td>0.297429</td>\n",
       "      <td>0.830136</td>\n",
       "      <td>-0.815591</td>\n",
       "      <td>0.745158</td>\n",
       "      <td>0.190748</td>\n",
       "      <td>0.758459</td>\n",
       "      <td>0.703499</td>\n",
       "      <td>-0.748067</td>\n",
       "      <td>-0.745193</td>\n",
       "      <td>-0.678948</td>\n",
       "    </tr>\n",
       "    <tr>\n",
       "      <th>sensor_7</th>\n",
       "      <td>-0.032073</td>\n",
       "      <td>-0.595914</td>\n",
       "      <td>-0.702136</td>\n",
       "      <td>-0.664595</td>\n",
       "      <td>-0.793130</td>\n",
       "      <td>1.000000</td>\n",
       "      <td>-0.767132</td>\n",
       "      <td>-0.217835</td>\n",
       "      <td>-0.822805</td>\n",
       "      <td>0.812713</td>\n",
       "      <td>-0.764611</td>\n",
       "      <td>-0.110053</td>\n",
       "      <td>-0.747051</td>\n",
       "      <td>-0.692893</td>\n",
       "      <td>0.736163</td>\n",
       "      <td>0.737447</td>\n",
       "      <td>0.657223</td>\n",
       "    </tr>\n",
       "    <tr>\n",
       "      <th>sensor_8</th>\n",
       "      <td>0.039929</td>\n",
       "      <td>0.475977</td>\n",
       "      <td>0.662325</td>\n",
       "      <td>0.602481</td>\n",
       "      <td>0.746852</td>\n",
       "      <td>-0.767132</td>\n",
       "      <td>1.000000</td>\n",
       "      <td>-0.032091</td>\n",
       "      <td>0.782213</td>\n",
       "      <td>-0.786540</td>\n",
       "      <td>0.826084</td>\n",
       "      <td>-0.144787</td>\n",
       "      <td>0.700949</td>\n",
       "      <td>0.627785</td>\n",
       "      <td>-0.687030</td>\n",
       "      <td>-0.688840</td>\n",
       "      <td>-0.563968</td>\n",
       "    </tr>\n",
       "    <tr>\n",
       "      <th>sensor_9</th>\n",
       "      <td>-0.052053</td>\n",
       "      <td>0.443999</td>\n",
       "      <td>0.273764</td>\n",
       "      <td>0.322964</td>\n",
       "      <td>0.297429</td>\n",
       "      <td>-0.217835</td>\n",
       "      <td>-0.032091</td>\n",
       "      <td>1.000000</td>\n",
       "      <td>0.274591</td>\n",
       "      <td>-0.210238</td>\n",
       "      <td>-0.034763</td>\n",
       "      <td>0.963157</td>\n",
       "      <td>0.293753</td>\n",
       "      <td>0.337110</td>\n",
       "      <td>-0.285280</td>\n",
       "      <td>-0.292795</td>\n",
       "      <td>-0.390102</td>\n",
       "    </tr>\n",
       "    <tr>\n",
       "      <th>sensor_11</th>\n",
       "      <td>0.024707</td>\n",
       "      <td>0.634385</td>\n",
       "      <td>0.740020</td>\n",
       "      <td>0.695900</td>\n",
       "      <td>0.830136</td>\n",
       "      <td>-0.822805</td>\n",
       "      <td>0.782213</td>\n",
       "      <td>0.274591</td>\n",
       "      <td>1.000000</td>\n",
       "      <td>-0.846884</td>\n",
       "      <td>0.780761</td>\n",
       "      <td>0.163408</td>\n",
       "      <td>0.780913</td>\n",
       "      <td>0.722296</td>\n",
       "      <td>-0.771510</td>\n",
       "      <td>-0.772554</td>\n",
       "      <td>-0.696228</td>\n",
       "    </tr>\n",
       "    <tr>\n",
       "      <th>sensor_12</th>\n",
       "      <td>-0.031882</td>\n",
       "      <td>-0.611354</td>\n",
       "      <td>-0.724578</td>\n",
       "      <td>-0.680307</td>\n",
       "      <td>-0.815591</td>\n",
       "      <td>0.812713</td>\n",
       "      <td>-0.786540</td>\n",
       "      <td>-0.210238</td>\n",
       "      <td>-0.846884</td>\n",
       "      <td>1.000000</td>\n",
       "      <td>-0.788441</td>\n",
       "      <td>-0.098141</td>\n",
       "      <td>-0.766052</td>\n",
       "      <td>-0.703485</td>\n",
       "      <td>0.751943</td>\n",
       "      <td>0.756263</td>\n",
       "      <td>0.671983</td>\n",
       "    </tr>\n",
       "    <tr>\n",
       "      <th>sensor_13</th>\n",
       "      <td>0.044230</td>\n",
       "      <td>0.477523</td>\n",
       "      <td>0.661792</td>\n",
       "      <td>0.600963</td>\n",
       "      <td>0.745158</td>\n",
       "      <td>-0.764611</td>\n",
       "      <td>0.826084</td>\n",
       "      <td>-0.034763</td>\n",
       "      <td>0.780761</td>\n",
       "      <td>-0.788441</td>\n",
       "      <td>1.000000</td>\n",
       "      <td>-0.147036</td>\n",
       "      <td>0.697662</td>\n",
       "      <td>0.627410</td>\n",
       "      <td>-0.686172</td>\n",
       "      <td>-0.688948</td>\n",
       "      <td>-0.562569</td>\n",
       "    </tr>\n",
       "    <tr>\n",
       "      <th>sensor_14</th>\n",
       "      <td>-0.059473</td>\n",
       "      <td>0.370324</td>\n",
       "      <td>0.179752</td>\n",
       "      <td>0.237137</td>\n",
       "      <td>0.190748</td>\n",
       "      <td>-0.110053</td>\n",
       "      <td>-0.144787</td>\n",
       "      <td>0.963157</td>\n",
       "      <td>0.163408</td>\n",
       "      <td>-0.098141</td>\n",
       "      <td>-0.147036</td>\n",
       "      <td>1.000000</td>\n",
       "      <td>0.193761</td>\n",
       "      <td>0.246621</td>\n",
       "      <td>-0.187364</td>\n",
       "      <td>-0.192415</td>\n",
       "      <td>-0.306769</td>\n",
       "    </tr>\n",
       "    <tr>\n",
       "      <th>sensor_15</th>\n",
       "      <td>0.022486</td>\n",
       "      <td>0.588676</td>\n",
       "      <td>0.675975</td>\n",
       "      <td>0.639921</td>\n",
       "      <td>0.758459</td>\n",
       "      <td>-0.747051</td>\n",
       "      <td>0.700949</td>\n",
       "      <td>0.293753</td>\n",
       "      <td>0.780913</td>\n",
       "      <td>-0.766052</td>\n",
       "      <td>0.697662</td>\n",
       "      <td>0.193761</td>\n",
       "      <td>1.000000</td>\n",
       "      <td>0.669205</td>\n",
       "      <td>-0.707671</td>\n",
       "      <td>-0.704043</td>\n",
       "      <td>-0.642667</td>\n",
       "    </tr>\n",
       "    <tr>\n",
       "      <th>sensor_17</th>\n",
       "      <td>0.013513</td>\n",
       "      <td>0.566995</td>\n",
       "      <td>0.629886</td>\n",
       "      <td>0.600017</td>\n",
       "      <td>0.703499</td>\n",
       "      <td>-0.692893</td>\n",
       "      <td>0.627785</td>\n",
       "      <td>0.337110</td>\n",
       "      <td>0.722296</td>\n",
       "      <td>-0.703485</td>\n",
       "      <td>0.627410</td>\n",
       "      <td>0.246621</td>\n",
       "      <td>0.669205</td>\n",
       "      <td>1.000000</td>\n",
       "      <td>-0.651021</td>\n",
       "      <td>-0.658710</td>\n",
       "      <td>-0.606154</td>\n",
       "    </tr>\n",
       "    <tr>\n",
       "      <th>sensor_20</th>\n",
       "      <td>-0.020589</td>\n",
       "      <td>-0.583597</td>\n",
       "      <td>-0.661841</td>\n",
       "      <td>-0.625941</td>\n",
       "      <td>-0.748067</td>\n",
       "      <td>0.736163</td>\n",
       "      <td>-0.687030</td>\n",
       "      <td>-0.285280</td>\n",
       "      <td>-0.771510</td>\n",
       "      <td>0.751943</td>\n",
       "      <td>-0.686172</td>\n",
       "      <td>-0.187364</td>\n",
       "      <td>-0.707671</td>\n",
       "      <td>-0.651021</td>\n",
       "      <td>1.000000</td>\n",
       "      <td>0.693480</td>\n",
       "      <td>0.629428</td>\n",
       "    </tr>\n",
       "    <tr>\n",
       "      <th>sensor_21</th>\n",
       "      <td>-0.016465</td>\n",
       "      <td>-0.585923</td>\n",
       "      <td>-0.668050</td>\n",
       "      <td>-0.633901</td>\n",
       "      <td>-0.745193</td>\n",
       "      <td>0.737447</td>\n",
       "      <td>-0.688840</td>\n",
       "      <td>-0.292795</td>\n",
       "      <td>-0.772554</td>\n",
       "      <td>0.756263</td>\n",
       "      <td>-0.688948</td>\n",
       "      <td>-0.192415</td>\n",
       "      <td>-0.704043</td>\n",
       "      <td>-0.658710</td>\n",
       "      <td>0.693480</td>\n",
       "      <td>1.000000</td>\n",
       "      <td>0.635662</td>\n",
       "    </tr>\n",
       "    <tr>\n",
       "      <th>RUL</th>\n",
       "      <td>0.078753</td>\n",
       "      <td>-0.736241</td>\n",
       "      <td>-0.606484</td>\n",
       "      <td>-0.584520</td>\n",
       "      <td>-0.678948</td>\n",
       "      <td>0.657223</td>\n",
       "      <td>-0.563968</td>\n",
       "      <td>-0.390102</td>\n",
       "      <td>-0.696228</td>\n",
       "      <td>0.671983</td>\n",
       "      <td>-0.562569</td>\n",
       "      <td>-0.306769</td>\n",
       "      <td>-0.642667</td>\n",
       "      <td>-0.606154</td>\n",
       "      <td>0.629428</td>\n",
       "      <td>0.635662</td>\n",
       "      <td>1.000000</td>\n",
       "    </tr>\n",
       "  </tbody>\n",
       "</table>\n",
       "</div>"
      ],
      "text/plain": [
       "                unit_number  time_in_cycles  sensor_2  sensor_3  sensor_4  \\\n",
       "unit_number        1.000000        0.078753  0.014133  0.012621  0.026116   \n",
       "time_in_cycles     0.078753        1.000000  0.549898  0.543947  0.624577   \n",
       "sensor_2           0.014133        0.549898  1.000000  0.602610  0.714949   \n",
       "sensor_3           0.012621        0.543947  0.602610  1.000000  0.678413   \n",
       "sensor_4           0.026116        0.624577  0.714949  0.678413  1.000000   \n",
       "sensor_7          -0.032073       -0.595914 -0.702136 -0.664595 -0.793130   \n",
       "sensor_8           0.039929        0.475977  0.662325  0.602481  0.746852   \n",
       "sensor_9          -0.052053        0.443999  0.273764  0.322964  0.297429   \n",
       "sensor_11          0.024707        0.634385  0.740020  0.695900  0.830136   \n",
       "sensor_12         -0.031882       -0.611354 -0.724578 -0.680307 -0.815591   \n",
       "sensor_13          0.044230        0.477523  0.661792  0.600963  0.745158   \n",
       "sensor_14         -0.059473        0.370324  0.179752  0.237137  0.190748   \n",
       "sensor_15          0.022486        0.588676  0.675975  0.639921  0.758459   \n",
       "sensor_17          0.013513        0.566995  0.629886  0.600017  0.703499   \n",
       "sensor_20         -0.020589       -0.583597 -0.661841 -0.625941 -0.748067   \n",
       "sensor_21         -0.016465       -0.585923 -0.668050 -0.633901 -0.745193   \n",
       "RUL                0.078753       -0.736241 -0.606484 -0.584520 -0.678948   \n",
       "\n",
       "                sensor_7  sensor_8  sensor_9  sensor_11  sensor_12  sensor_13  \\\n",
       "unit_number    -0.032073  0.039929 -0.052053   0.024707  -0.031882   0.044230   \n",
       "time_in_cycles -0.595914  0.475977  0.443999   0.634385  -0.611354   0.477523   \n",
       "sensor_2       -0.702136  0.662325  0.273764   0.740020  -0.724578   0.661792   \n",
       "sensor_3       -0.664595  0.602481  0.322964   0.695900  -0.680307   0.600963   \n",
       "sensor_4       -0.793130  0.746852  0.297429   0.830136  -0.815591   0.745158   \n",
       "sensor_7        1.000000 -0.767132 -0.217835  -0.822805   0.812713  -0.764611   \n",
       "sensor_8       -0.767132  1.000000 -0.032091   0.782213  -0.786540   0.826084   \n",
       "sensor_9       -0.217835 -0.032091  1.000000   0.274591  -0.210238  -0.034763   \n",
       "sensor_11      -0.822805  0.782213  0.274591   1.000000  -0.846884   0.780761   \n",
       "sensor_12       0.812713 -0.786540 -0.210238  -0.846884   1.000000  -0.788441   \n",
       "sensor_13      -0.764611  0.826084 -0.034763   0.780761  -0.788441   1.000000   \n",
       "sensor_14      -0.110053 -0.144787  0.963157   0.163408  -0.098141  -0.147036   \n",
       "sensor_15      -0.747051  0.700949  0.293753   0.780913  -0.766052   0.697662   \n",
       "sensor_17      -0.692893  0.627785  0.337110   0.722296  -0.703485   0.627410   \n",
       "sensor_20       0.736163 -0.687030 -0.285280  -0.771510   0.751943  -0.686172   \n",
       "sensor_21       0.737447 -0.688840 -0.292795  -0.772554   0.756263  -0.688948   \n",
       "RUL             0.657223 -0.563968 -0.390102  -0.696228   0.671983  -0.562569   \n",
       "\n",
       "                sensor_14  sensor_15  sensor_17  sensor_20  sensor_21  \\\n",
       "unit_number     -0.059473   0.022486   0.013513  -0.020589  -0.016465   \n",
       "time_in_cycles   0.370324   0.588676   0.566995  -0.583597  -0.585923   \n",
       "sensor_2         0.179752   0.675975   0.629886  -0.661841  -0.668050   \n",
       "sensor_3         0.237137   0.639921   0.600017  -0.625941  -0.633901   \n",
       "sensor_4         0.190748   0.758459   0.703499  -0.748067  -0.745193   \n",
       "sensor_7        -0.110053  -0.747051  -0.692893   0.736163   0.737447   \n",
       "sensor_8        -0.144787   0.700949   0.627785  -0.687030  -0.688840   \n",
       "sensor_9         0.963157   0.293753   0.337110  -0.285280  -0.292795   \n",
       "sensor_11        0.163408   0.780913   0.722296  -0.771510  -0.772554   \n",
       "sensor_12       -0.098141  -0.766052  -0.703485   0.751943   0.756263   \n",
       "sensor_13       -0.147036   0.697662   0.627410  -0.686172  -0.688948   \n",
       "sensor_14        1.000000   0.193761   0.246621  -0.187364  -0.192415   \n",
       "sensor_15        0.193761   1.000000   0.669205  -0.707671  -0.704043   \n",
       "sensor_17        0.246621   0.669205   1.000000  -0.651021  -0.658710   \n",
       "sensor_20       -0.187364  -0.707671  -0.651021   1.000000   0.693480   \n",
       "sensor_21       -0.192415  -0.704043  -0.658710   0.693480   1.000000   \n",
       "RUL             -0.306769  -0.642667  -0.606154   0.629428   0.635662   \n",
       "\n",
       "                     RUL  \n",
       "unit_number     0.078753  \n",
       "time_in_cycles -0.736241  \n",
       "sensor_2       -0.606484  \n",
       "sensor_3       -0.584520  \n",
       "sensor_4       -0.678948  \n",
       "sensor_7        0.657223  \n",
       "sensor_8       -0.563968  \n",
       "sensor_9       -0.390102  \n",
       "sensor_11      -0.696228  \n",
       "sensor_12       0.671983  \n",
       "sensor_13      -0.562569  \n",
       "sensor_14      -0.306769  \n",
       "sensor_15      -0.642667  \n",
       "sensor_17      -0.606154  \n",
       "sensor_20       0.629428  \n",
       "sensor_21       0.635662  \n",
       "RUL             1.000000  "
      ]
     },
     "execution_count": 34,
     "metadata": {},
     "output_type": "execute_result"
    }
   ],
   "source": [
    "# 利用 .corr() 計算 column 之間的相關係數\n",
    "df_2.corr()"
   ]
  },
  {
   "cell_type": "markdown",
   "metadata": {
    "colab_type": "text",
    "id": "BKroE29-ehxb"
   },
   "source": [
    "通常會搭配圖表一起觀察，一般是畫[散佈圖 (Scatter plot)](https://en.wikipedia.org/wiki/Scatter_plot) 或是 [Heatmap](https://en.wikipedia.org/wiki/Heat_map)。\n",
    "\n",
    "* 兩個 column 之間的散佈圖：[pandas.DataFrame.plot](https://pandas.pydata.org/pandas-docs/stable/generated/pandas.DataFrame.plot.html#pandas.DataFrame.plot)\n",
    "    * `pandas.DataFrame.plot(x='column-1', y='column-2', kind= 'scatter')`\n",
    "* 多個 column 之間的散佈圖：[pandas.plotting.scatter_matrix](https://pandas.pydata.org/pandas-docs/stable/reference/api/pandas.plotting.scatter_matrix.html#pandas-plotting-scatter-matrix)\n",
    "    * `pandas.plotting.scatter_matrix(dataframe, figsize=(3,3))`\n",
    "*  matplotlib.pyplot.imshow 繪製 heatmap : [Correlation in Python](http://benalexkeen.com/correlation-in-python/)\n"
   ]
  },
  {
   "cell_type": "code",
   "execution_count": 45,
   "metadata": {
    "colab": {
     "autoexec": {
      "startup": false,
      "wait_interval": 0
     },
     "base_uri": "https://localhost:8080/",
     "height": 331
    },
    "colab_type": "code",
    "executionInfo": {
     "elapsed": 1281,
     "status": "ok",
     "timestamp": 1530864540060,
     "user": {
      "displayName": "黃種平",
      "photoUrl": "//lh3.googleusercontent.com/-ay6h3dmyraY/AAAAAAAAAAI/AAAAAAAADhg/t8F2AGa00fc/s50-c-k-no/photo.jpg",
      "userId": "114874362450166068432"
     },
     "user_tz": -480
    },
    "id": "2SAzU_tTix_H",
    "outputId": "c0cbd514-0a61-4511-8013-fbd7c69d46b2"
   },
   "outputs": [
    {
     "data": {
      "text/plain": [
       "<AxesSubplot:xlabel='RUL', ylabel='sensor_11'>"
      ]
     },
     "execution_count": 45,
     "metadata": {},
     "output_type": "execute_result"
    },
    {
     "data": {
      "image/png": "[encoded data removed]",
      "text/plain": [
       "<Figure size 600x600 with 1 Axes>"
      ]
     },
     "metadata": {},
     "output_type": "display_data"
    }
   ],
   "source": [
    "# 使用 .plot(kind='scatter') 畫出\n",
    "# 感測器11 (column label: 'sensor_11') 和 剩餘壽命 (column label: 'RUL') 的散佈圖\n",
    "df_2.plot(x='RUL', y='sensor_11', kind='scatter', figsize=(6,6)) "
   ]
  },
  {
   "cell_type": "code",
   "execution_count": 44,
   "metadata": {},
   "outputs": [
    {
     "data": {
      "text/plain": [
       "<AxesSubplot:>"
      ]
     },
     "execution_count": 44,
     "metadata": {},
     "output_type": "execute_result"
    },
    {
     "data": {
      "image/png": "[encoded data removed]",
      "text/plain": [
       "<Figure size 1500x300 with 1 Axes>"
      ]
     },
     "metadata": {},
     "output_type": "display_data"
    }
   ],
   "source": [
    "# 使用 .plot(kind='line') 畫出\n",
    "# 感測器11 (column label: 'sensor_11') 和 剩餘壽命 (column label: 'RUL') 的散佈圖\n",
    "df_2.loc[df_2[\"unit_number\"]==1, [\"sensor_11\"]].plot(figsize=(15,3)) "
   ]
  },
  {
   "cell_type": "code",
   "execution_count": 37,
   "metadata": {
    "colab": {
     "autoexec": {
      "startup": false,
      "wait_interval": 0
     },
     "base_uri": "https://localhost:8080/",
     "height": 991
    },
    "colab_type": "code",
    "executionInfo": {
     "elapsed": 5880,
     "status": "ok",
     "timestamp": 1530864546333,
     "user": {
      "displayName": "黃種平",
      "photoUrl": "//lh3.googleusercontent.com/-ay6h3dmyraY/AAAAAAAAAAI/AAAAAAAADhg/t8F2AGa00fc/s50-c-k-no/photo.jpg",
      "userId": "114874362450166068432"
     },
     "user_tz": -480
    },
    "id": "5XG-SAX0fNYY",
    "outputId": "f6511538-39fd-4d66-b298-eb5de38da93d"
   },
   "outputs": [
    {
     "data": {
      "text/plain": [
       "array([[<AxesSubplot:xlabel='sensor_15', ylabel='sensor_15'>,\n",
       "        <AxesSubplot:xlabel='sensor_17', ylabel='sensor_15'>,\n",
       "        <AxesSubplot:xlabel='sensor_20', ylabel='sensor_15'>,\n",
       "        <AxesSubplot:xlabel='sensor_21', ylabel='sensor_15'>,\n",
       "        <AxesSubplot:xlabel='RUL', ylabel='sensor_15'>],\n",
       "       [<AxesSubplot:xlabel='sensor_15', ylabel='sensor_17'>,\n",
       "        <AxesSubplot:xlabel='sensor_17', ylabel='sensor_17'>,\n",
       "        <AxesSubplot:xlabel='sensor_20', ylabel='sensor_17'>,\n",
       "        <AxesSubplot:xlabel='sensor_21', ylabel='sensor_17'>,\n",
       "        <AxesSubplot:xlabel='RUL', ylabel='sensor_17'>],\n",
       "       [<AxesSubplot:xlabel='sensor_15', ylabel='sensor_20'>,\n",
       "        <AxesSubplot:xlabel='sensor_17', ylabel='sensor_20'>,\n",
       "        <AxesSubplot:xlabel='sensor_20', ylabel='sensor_20'>,\n",
       "        <AxesSubplot:xlabel='sensor_21', ylabel='sensor_20'>,\n",
       "        <AxesSubplot:xlabel='RUL', ylabel='sensor_20'>],\n",
       "       [<AxesSubplot:xlabel='sensor_15', ylabel='sensor_21'>,\n",
       "        <AxesSubplot:xlabel='sensor_17', ylabel='sensor_21'>,\n",
       "        <AxesSubplot:xlabel='sensor_20', ylabel='sensor_21'>,\n",
       "        <AxesSubplot:xlabel='sensor_21', ylabel='sensor_21'>,\n",
       "        <AxesSubplot:xlabel='RUL', ylabel='sensor_21'>],\n",
       "       [<AxesSubplot:xlabel='sensor_15', ylabel='RUL'>,\n",
       "        <AxesSubplot:xlabel='sensor_17', ylabel='RUL'>,\n",
       "        <AxesSubplot:xlabel='sensor_20', ylabel='RUL'>,\n",
       "        <AxesSubplot:xlabel='sensor_21', ylabel='RUL'>,\n",
       "        <AxesSubplot:xlabel='RUL', ylabel='RUL'>]], dtype=object)"
      ]
     },
     "execution_count": 37,
     "metadata": {},
     "output_type": "execute_result"
    },
    {
     "data": {
      "image/png": "[encoded data removed]",
      "text/plain": [
       "<Figure size 600x600 with 25 Axes>"
      ]
     },
     "metadata": {},
     "output_type": "display_data"
    }
   ],
   "source": [
    "# 使用 pandas.plotting.scatter_matrix() 一次畫出\n",
    "# 前 5 個 columns 彼此之間相關性的 scatter plots\n",
    "pd.plotting.scatter_matrix(df_2.iloc[:, -5:], figsize=(6, 6))"
   ]
  },
  {
   "cell_type": "markdown",
   "metadata": {
    "colab_type": "text",
    "id": "7zvaL_FwfVuQ"
   },
   "source": [
    "> 備註：\n",
    "> \n",
    "> 說到畫圖，[Seaborn](https://seaborn.pydata.org) 也是另一個好用的套件，易學、美觀、好操作，後面的課程會進行教學，故在此不詳加說明。\n",
    ">\n",
    "> 附上參考連結：[用法](https://seaborn.pydata.org/tutorial.html)以及[可製作的圖表類型](https://seaborn.pydata.org/examples/index.html)。"
   ]
  },
  {
   "cell_type": "code",
   "execution_count": 38,
   "metadata": {},
   "outputs": [
    {
     "data": {
      "text/plain": [
       "<AxesSubplot:>"
      ]
     },
     "execution_count": 38,
     "metadata": {},
     "output_type": "execute_result"
    },
    {
     "data": {
      "image/png": "[encoded data removed]",
      "text/plain": [
       "<Figure size 900x900 with 2 Axes>"
      ]
     },
     "metadata": {},
     "output_type": "display_data"
    }
   ],
   "source": [
    "import matplotlib.pyplot as plt\n",
    "import seaborn as sns\n",
    "sns.set()\n",
    "\n",
    "# Draw a heatmap with the numeric values in each cell\n",
    "f, ax = plt.subplots(figsize=(9, 9))\n",
    "sns.heatmap(df_2.corr(), annot=True, annot_kws={'fontsize': 8}, linewidths=.5, ax=ax)"
   ]
  },
  {
   "cell_type": "code",
   "execution_count": 39,
   "metadata": {
    "colab": {
     "autoexec": {
      "startup": false,
      "wait_interval": 0
     },
     "base_uri": "https://localhost:8080/",
     "height": 490
    },
    "colab_type": "code",
    "executionInfo": {
     "elapsed": 1479,
     "status": "ok",
     "timestamp": 1530864547889,
     "user": {
      "displayName": "黃種平",
      "photoUrl": "//lh3.googleusercontent.com/-ay6h3dmyraY/AAAAAAAAAAI/AAAAAAAADhg/t8F2AGa00fc/s50-c-k-no/photo.jpg",
      "userId": "114874362450166068432"
     },
     "user_tz": -480
    },
    "id": "-UUP170uWoqd",
    "outputId": "1cdc4b0c-4b3b-43fb-b81f-6ac010406ec6"
   },
   "outputs": [
    {
     "data": {
      "image/png": "[encoded data removed]",
      "text/plain": [
       "<Figure size 500x500 with 2 Axes>"
      ]
     },
     "metadata": {},
     "output_type": "display_data"
    }
   ],
   "source": [
    "plt.figure(figsize=(5,5))\n",
    "plt.imshow(df_2.corr(), cmap='hot', interpolation='nearest')\n",
    "plt.xticks(range(len(df_2.columns)), df_2.columns, rotation=90) # rotation (文字)旋轉角度\n",
    "plt.yticks(range(len(df_2.columns)), df_2.columns)\n",
    "plt.colorbar()\n",
    "plt.show()"
   ]
  },
  {
   "cell_type": "markdown",
   "metadata": {
    "colab_type": "text",
    "id": "bYQDjUu6hjWq"
   },
   "source": [
    "### `.idxmin()`, `idxmax()`：回傳最小值或最大值的 Index Label\n",
    "\n",
    "* 常用 Parameters：\n",
    "    1. `axis`：\n",
    "        * `1` : 以 column 方向計算\n",
    "        * `0` : 以 row 方向計算\n",
    "    1. `skipna`：預設為 `True`\n",
    "        * `True` : 計算統計量的時候忽略 NA (`np.nan`，`None`)\n",
    "        * `False` : 只要資料中出現一筆 NA，則回傳 `NaN`\n",
    "* Return：Series\n",
    "* 參考文件：\n",
    "    * [pandas.DataFrame.idxmin](https://pandas.pydata.org/pandas-docs/stable/reference/api/pandas.DataFrame.idxmin.html#pandas-dataframe-idxmin)\n",
    "    * [pandas.DataFrame.idxmax](https://pandas.pydata.org/pandas-docs/stable/reference/api/pandas.DataFrame.idxmax.html#pandas-dataframe-idxmax)\n",
    "    * [pandas.Series.idxmin](https://pandas.pydata.org/pandas-docs/stable/reference/api/pandas.Series.idxmin.html#pandas-series-idxmin)\n",
    "    * [pandas.Series.idxmax](https://pandas.pydata.org/pandas-docs/stable/reference/api/pandas.Series.idxmax.html#pandas-series-idxmax)\n",
    "\n"
   ]
  },
  {
   "cell_type": "code",
   "execution_count": 41,
   "metadata": {
    "colab": {
     "autoexec": {
      "startup": false,
      "wait_interval": 0
     },
     "base_uri": "https://localhost:8080/",
     "height": 34
    },
    "colab_type": "code",
    "executionInfo": {
     "elapsed": 1155,
     "status": "ok",
     "timestamp": 1530864549458,
     "user": {
      "displayName": "黃種平",
      "photoUrl": "//lh3.googleusercontent.com/-ay6h3dmyraY/AAAAAAAAAAI/AAAAAAAADhg/t8F2AGa00fc/s50-c-k-no/photo.jpg",
      "userId": "114874362450166068432"
     },
     "user_tz": -480
    },
    "id": "3S89hItspx9k",
    "outputId": "f24bb984-f298-45e7-8294-d09c23de5878"
   },
   "outputs": [
    {
     "data": {
      "text/plain": [
       "11979"
      ]
     },
     "execution_count": 41,
     "metadata": {},
     "output_type": "execute_result"
    }
   ],
   "source": [
    "# 找出 感測器2 (column label: 'sensor_2') 最小值的 index label\n",
    "df.loc[:, 'sensor_2'].idxmin()"
   ]
  },
  {
   "cell_type": "code",
   "execution_count": 42,
   "metadata": {
    "colab": {
     "autoexec": {
      "startup": false,
      "wait_interval": 0
     },
     "base_uri": "https://localhost:8080/",
     "height": 357
    },
    "colab_type": "code",
    "executionInfo": {
     "elapsed": 1607,
     "status": "ok",
     "timestamp": 1530864551393,
     "user": {
      "displayName": "黃種平",
      "photoUrl": "//lh3.googleusercontent.com/-ay6h3dmyraY/AAAAAAAAAAI/AAAAAAAADhg/t8F2AGa00fc/s50-c-k-no/photo.jpg",
      "userId": "114874362450166068432"
     },
     "user_tz": -480
    },
    "id": "aKDukrDmGUe8",
    "outputId": "7936948c-f54e-4086-ae0e-94a184fd28b1"
   },
   "outputs": [
    {
     "data": {
      "text/plain": [
       "unit_number        61.0000\n",
       "time_in_cycles     38.0000\n",
       "op_setting_1        0.0048\n",
       "op_setting_2       -0.0004\n",
       "op_setting_3      100.0000\n",
       "                    ...   \n",
       "sensor_24              NaN\n",
       "sensor_25              NaN\n",
       "sensor_26              NaN\n",
       "sensor_27              NaN\n",
       "sensor_3minus4    194.3000\n",
       "Name: 11979, Length: 33, dtype: float64"
      ]
     },
     "execution_count": 42,
     "metadata": {},
     "output_type": "execute_result"
    }
   ],
   "source": [
    "# 之後就可以拿來找尋當時的資料狀況\n",
    "sensor_2_min = df.loc[:, 'sensor_2'].idxmin()\n",
    "df.loc[sensor_2_min, :]"
   ]
  },
  {
   "cell_type": "code",
   "execution_count": null,
   "metadata": {},
   "outputs": [],
   "source": []
  }
 ],
 "metadata": {
  "colab": {
   "default_view": {},
   "name": "Chapter 5 - Calculating.ipynb",
   "provenance": [],
   "toc_visible": true,
   "version": "0.3.2",
   "views": {}
  },
  "kernelspec": {
   "display_name": "Python 3",
   "language": "python",
   "name": "python3"
  },
  "language_info": {
   "codemirror_mode": {
    "name": "ipython",
    "version": 3
   },
   "file_extension": ".py",
   "mimetype": "text/x-python",
   "name": "python",
   "nbconvert_exporter": "python",
   "pygments_lexer": "ipython3",
   "version": "3.6.8"
  }
 },
 "nbformat": 4,
 "nbformat_minor": 4
}
