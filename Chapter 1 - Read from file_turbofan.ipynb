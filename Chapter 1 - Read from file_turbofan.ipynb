{
 "cells": [
  {
   "cell_type": "code",
   "execution_count": 2,
   "metadata": {
    "colab": {
     "autoexec": {
      "startup": false,
      "wait_interval": 0
     }
    },
    "colab_type": "code",
    "id": "uWE64OO25RXi"
   },
   "outputs": [],
   "source": [
    "import os\n",
    "import numpy as np\n",
    "import pandas as pd\n",
    "import matplotlib.pyplot as plt"
   ]
  },
  {
   "cell_type": "code",
   "execution_count": 3,
   "metadata": {
    "colab": {
     "autoexec": {
      "startup": false,
      "wait_interval": 0
     }
    },
    "colab_type": "code",
    "id": "nzeYG7whum_S"
   },
   "outputs": [],
   "source": [
    "pd.set_option('max_rows', 20)\n",
    "\n",
    "plt.style.use('default')\n",
    "plt.rcParams['figure.figsize'] = (12, 3)\n",
    "plt.rcParams['font.family'] = 'sans-serif'"
   ]
  },
  {
   "cell_type": "markdown",
   "metadata": {
    "colab_type": "text",
    "id": "d8LFzvX6pprA"
   },
   "source": [
    "# 第 1 章：介紹及檢視資料集"
   ]
  },
  {
   "cell_type": "markdown",
   "metadata": {
    "colab_type": "text",
    "id": "Elih4mNFp0Rj"
   },
   "source": [
    "資料分析的第一步，通常將透過工具取得的資料數據檔案給載入，並且先簡單的瀏覽一下數據，確認檔案是否有損毀、數據是否有錯誤、格式是否正確、數據是否合理⋯⋯等等。\n",
    "\n",
    "接下來的課程將介紹我們在整個課程中使用的範例資料集，以及簡單地觀察資料。"
   ]
  },
  {
   "cell_type": "markdown",
   "metadata": {
    "colab_type": "text",
    "id": "b2yXe3RHOtPX"
   },
   "source": [
    "## 範例資料集介紹：渦輪風扇發動機退化模擬數據集"
   ]
  },
  {
   "cell_type": "markdown",
   "metadata": {
    "colab_type": "text",
    "id": "u4DbvOGs_3tv"
   },
   "source": [
    "這次為了讓各位熟悉分析工具，我們找了[Kaggle](https://www.kaggle.com/)(一個數據建模、數據分析競賽、數據分析教學平台)提供的**渦輪風扇發動機退化模擬數據集**，作為給各位練習的範例資料集。\n",
    "\n",
    "由於資料集包含**名目 (Nominal) 尺度**以及**等距 (interval) 尺度**的資料，加上選擇設備數據，希望讓各位在處理資料的時候，可以實際體驗到資料分析工作可能會遇到的狀況並依此練習。"
   ]
  },
  {
   "cell_type": "markdown",
   "metadata": {
    "colab_type": "text",
    "id": "G1g8NT8eENcx"
   },
   "source": [
    "### 資料集簡介"
   ]
  },
  {
   "cell_type": "markdown",
   "metadata": {
    "colab_type": "text",
    "id": "ii953i7qEYA3"
   },
   "source": [
    "* 主題：渦輪風扇發動機退化模擬數據集\n",
    "* 資料來源：https://www.kaggle.com/c/predictive-maintenance/data?select=readme.txt\n",
    "* Nasa Turbofan Dataset\n",
    "* 資料收集頻率：100個渦輪扇發動機在相同工況從正常到劣化，每天多個感測器的數值變化\n",
    "* 原始檔案中共有 32 個 columns，包含 1 column 為發動機編號，1 column 為工作時間，3 columns 的設定值，27個 columns 的感測器數值\n",
    "* 監測時間說明：每天，但是沒有時間戳記，也沒有起訖時間"
   ]
  },
  {
   "cell_type": "markdown",
   "metadata": {
    "colab_type": "text",
    "id": "RFqQxXCgFXZI"
   },
   "source": [
    "> [NOTE]：\n",
    ">\n",
    "> 這裡所使用的資料（turbofan.csv）已經經過整理，若要查看原始資料（train_PM.txt）經過哪些處理，請見 preprocessing_turbofan.ipynb\n"
   ]
  },
  {
   "cell_type": "markdown",
   "metadata": {
    "colab_type": "text",
    "id": "s-CgRPpnEQME"
   },
   "source": [
    "### 資料預覽\n"
   ]
  },
  {
   "cell_type": "markdown",
   "metadata": {
    "colab_type": "text",
    "id": "gVIQI0v3EWbd"
   },
   "source": [
    " 發動機編號 | 工作時間 | 設定值1 | ... | 感測器1 | ...\n",
    "--- | --- | --- | --- | --- | ---\n",
    "0\n",
    "0\n",
    "0\n",
    "...\n",
    "100\n"
   ]
  },
  {
   "cell_type": "markdown",
   "metadata": {
    "colab_type": "text",
    "id": "FQbJ1QykESR9"
   },
   "source": [
    "### columns 說明"
   ]
  },
  {
   "cell_type": "markdown",
   "metadata": {
    "colab_type": "text",
    "id": "3BYmY4nGlR6H"
   },
   "source": [
    "columns | 單位 | 說明\n",
    "--- | --- | ---\n",
    "unit_number | - |渦輪扇發動機設備編號\n",
    "time_in_cycles | 天 | 工作時間\n",
    "op_setting_1 | - | 設定值1\n",
    "op_setting_2 | - | 設定值2\n",
    "op_setting_3 | - | 設定值3\n",
    "sensor_1 | - | 感測器數值1\n",
    "sensor_2 | - | 感測器數值2\n",
    "sensor_3 | - | 感測器數值3\n",
    "sensor_4 | - | 感測器數值4\n",
    "sensor_5 | - | 感測器數值5\n",
    "sensor_6 | - | 感測器數值6\n",
    "sensor_7 | - | 感測器數值7\n",
    "sensor_8 | - | 感測器數值8\n",
    "sensor_9 | - | 感測器數值9\n",
    "sensor_10 | - | 感測器數值10\n",
    "sensor_11 | - | 感測器數值11\n",
    "sensor_12 | - | 感測器數值12\n",
    "sensor_13 | - | 感測器數值13\n",
    "sensor_14 | - | 感測器數值14\n",
    "sensor_15 | - | 感測器數值15\n",
    "sensor_16 | - | 感測器數值16\n",
    "sensor_17 | - | 感測器數值17\n",
    "sensor_18 | - | 感測器數值18\n",
    "sensor_19 | - | 感測器數值19\n",
    "sensor_20 | - | 感測器數值20\n",
    "sensor_21 | - | 感測器數值21\n",
    "sensor_22 | - | 感測器數值22\n",
    "sensor_23 | - | 感測器數值23\n",
    "sensor_24 | - | 感測器數值24\n",
    "sensor_25 | - | 感測器數值25\n",
    "sensor_26 | - | 感測器數值26\n",
    "sensor_27 | - | 感測器數值27"
   ]
  },
  {
   "cell_type": "markdown",
   "metadata": {
    "colab_type": "text",
    "id": "XPok4y2kKywr"
   },
   "source": [
    "## `read_csv()`：讀取 CSV 資料檔案"
   ]
  },
  {
   "cell_type": "markdown",
   "metadata": {
    "colab_type": "text",
    "id": "zj5pp9RWGfAQ"
   },
   "source": [
    "[CSV 檔案](https://zh.wikipedia.org/zh-tw/逗號分隔值)是一種常見的資料類型，比起 Microsoft Excel 或是其他試算表工具的專用格式，CSV 檔案顯得相當容易維護，且檔案容量相對其他格式顯得較小，在傳送時也相當方便，是我們相當推薦的格式。讀取時只要調用 `read_csv()` function 即可。\n",
    "\n",
    "常用 Parameters : \n",
    "\n",
    "1. `filepath_or_buffer` : 路徑名稱\n",
    "1. `parse_dates` : 將欲轉成  `datetime` 格式的 column 放入 list，預設為 `False`\n",
    "1. `index_col` : 欲設定成 index 的 column，預設為 `None`\n",
    "\n",
    "一般的試算表應用程式或是資料分析程式都有支援輸出資料檔案為 CSV 檔案的功能。如果還是有讀取 Excel 檔案的需求，也可以選擇調用 `read_excel()`（需要事先安裝 [`xlrd` 套件](https://pypi.org/project/xlrd/)）function 來完成。\n",
    "\n",
    "讀取檔案時需要指定路徑及檔案名稱，這裡我們會利用 Python 內建的 `os` Library 裡的 function 來輔助。主要是可以避免在不同平台時可能會有路徑格式不同的問題，這時就建議使用 `os.path.join()` function 來標示完整路徑。\n",
    "\n",
    "參考文件：\n",
    "\n",
    "* [pandas.read_csv()](https://pandas.pydata.org/pandas-docs/stable/user_guide/io.html#io-read-csv-table)\n",
    "* [pandas.read_excel()](https://pandas.pydata.org/pandas-docs/stable/user_guide/io.html#io-excel-reader)\n",
    "* [10 minutes to pandas | Getting Data In/Out](https://pandas.pydata.org/pandas-docs/stable/user_guide/10min.html#getting-data-in-out)\n",
    "* [IO Tools (Text, CSV, HDF5, …)](https://pandas.pydata.org/pandas-docs/stable/user_guide/io.html)\n",
    "* [os.path.join](https://docs.python.org/3/library/os.path.html#os.path.join)"
   ]
  },
  {
   "cell_type": "code",
   "execution_count": 4,
   "metadata": {
    "colab": {
     "autoexec": {
      "startup": false,
      "wait_interval": 0
     },
     "base_uri": "https://localhost:8080/",
     "height": 34
    },
    "colab_type": "code",
    "executionInfo": {
     "elapsed": 1273,
     "status": "ok",
     "timestamp": 1530863746501,
     "user": {
      "displayName": "黃種平",
      "photoUrl": "//lh3.googleusercontent.com/-ay6h3dmyraY/AAAAAAAAAAI/AAAAAAAADhg/t8F2AGa00fc/s50-c-k-no/photo.jpg",
      "userId": "114874362450166068432"
     },
     "user_tz": -480
    },
    "id": "ftyvhZWsD4wC",
    "outputId": "4c1b53e0-7506-4f0c-dc84-adca204de7fb"
   },
   "outputs": [
    {
     "name": "stdout",
     "output_type": "stream",
     "text": [
      "./data/turbofan.csv\n"
     ]
    }
   ],
   "source": [
    "# 指定檔案位置，包含完整路徑以及檔案名稱\n",
    "# os.curdir: 回傳目前目錄的路徑\n",
    "# 若無法在個人電腦上以 Anaconda 開啟 Notebook，請用Google Colab開啟，並將下一行程式的註解消除，再將 turbofan.csv 資料上傳 \n",
    "# Turbofan_FILEPATH = os.path.join(os.curdir, 'turbofan.csv')\n",
    "Turbofan_FILEPATH = os.path.join(os.curdir, 'data', 'turbofan.csv')\n",
    "\n",
    "# 檢視檔案位置\n",
    "print(Turbofan_FILEPATH)"
   ]
  },
  {
   "cell_type": "markdown",
   "metadata": {},
   "source": [
    "## 讀入檔案"
   ]
  },
  {
   "cell_type": "code",
   "execution_count": 4,
   "metadata": {
    "colab": {
     "autoexec": {
      "startup": false,
      "wait_interval": 0
     },
     "base_uri": "https://localhost:8080/",
     "height": 425
    },
    "colab_type": "code",
    "executionInfo": {
     "elapsed": 10321,
     "status": "ok",
     "timestamp": 1530863785106,
     "user": {
      "displayName": "黃種平",
      "photoUrl": "//lh3.googleusercontent.com/-ay6h3dmyraY/AAAAAAAAAAI/AAAAAAAADhg/t8F2AGa00fc/s50-c-k-no/photo.jpg",
      "userId": "114874362450166068432"
     },
     "user_tz": -480
    },
    "id": "i_-WEjO2eDIw",
    "outputId": "33385e06-ea35-48d4-dc2b-d0a2b06c5721"
   },
   "outputs": [
    {
     "data": {
      "text/html": [
       "<div>\n",
       "<style scoped>\n",
       "    .dataframe tbody tr th:only-of-type {\n",
       "        vertical-align: middle;\n",
       "    }\n",
       "\n",
       "    .dataframe tbody tr th {\n",
       "        vertical-align: top;\n",
       "    }\n",
       "\n",
       "    .dataframe thead th {\n",
       "        text-align: right;\n",
       "    }\n",
       "</style>\n",
       "<table border=\"1\" class=\"dataframe\">\n",
       "  <thead>\n",
       "    <tr style=\"text-align: right;\">\n",
       "      <th></th>\n",
       "      <th>unit_number</th>\n",
       "      <th>time_in_cycles</th>\n",
       "      <th>op_setting_1</th>\n",
       "      <th>op_setting_2</th>\n",
       "      <th>op_setting_3</th>\n",
       "      <th>sensor_1</th>\n",
       "      <th>sensor_2</th>\n",
       "      <th>sensor_3</th>\n",
       "      <th>sensor_4</th>\n",
       "      <th>sensor_5</th>\n",
       "      <th>...</th>\n",
       "      <th>sensor_18</th>\n",
       "      <th>sensor_19</th>\n",
       "      <th>sensor_20</th>\n",
       "      <th>sensor_21</th>\n",
       "      <th>sensor_22</th>\n",
       "      <th>sensor_23</th>\n",
       "      <th>sensor_24</th>\n",
       "      <th>sensor_25</th>\n",
       "      <th>sensor_26</th>\n",
       "      <th>sensor_27</th>\n",
       "    </tr>\n",
       "  </thead>\n",
       "  <tbody>\n",
       "    <tr>\n",
       "      <th>0</th>\n",
       "      <td>1</td>\n",
       "      <td>1</td>\n",
       "      <td>-0.0007</td>\n",
       "      <td>-0.0004</td>\n",
       "      <td>100.0</td>\n",
       "      <td>518.67</td>\n",
       "      <td>641.82</td>\n",
       "      <td>1589.70</td>\n",
       "      <td>1400.60</td>\n",
       "      <td>14.62</td>\n",
       "      <td>...</td>\n",
       "      <td>2388</td>\n",
       "      <td>100.0</td>\n",
       "      <td>39.06</td>\n",
       "      <td>23.4190</td>\n",
       "      <td>NaN</td>\n",
       "      <td>NaN</td>\n",
       "      <td>NaN</td>\n",
       "      <td>NaN</td>\n",
       "      <td>NaN</td>\n",
       "      <td>NaN</td>\n",
       "    </tr>\n",
       "    <tr>\n",
       "      <th>1</th>\n",
       "      <td>1</td>\n",
       "      <td>2</td>\n",
       "      <td>0.0019</td>\n",
       "      <td>-0.0003</td>\n",
       "      <td>100.0</td>\n",
       "      <td>518.67</td>\n",
       "      <td>642.15</td>\n",
       "      <td>1591.82</td>\n",
       "      <td>1403.14</td>\n",
       "      <td>14.62</td>\n",
       "      <td>...</td>\n",
       "      <td>2388</td>\n",
       "      <td>100.0</td>\n",
       "      <td>39.00</td>\n",
       "      <td>23.4236</td>\n",
       "      <td>NaN</td>\n",
       "      <td>NaN</td>\n",
       "      <td>NaN</td>\n",
       "      <td>NaN</td>\n",
       "      <td>NaN</td>\n",
       "      <td>NaN</td>\n",
       "    </tr>\n",
       "    <tr>\n",
       "      <th>2</th>\n",
       "      <td>1</td>\n",
       "      <td>3</td>\n",
       "      <td>-0.0043</td>\n",
       "      <td>0.0003</td>\n",
       "      <td>100.0</td>\n",
       "      <td>518.67</td>\n",
       "      <td>642.35</td>\n",
       "      <td>1587.99</td>\n",
       "      <td>1404.20</td>\n",
       "      <td>14.62</td>\n",
       "      <td>...</td>\n",
       "      <td>2388</td>\n",
       "      <td>100.0</td>\n",
       "      <td>38.95</td>\n",
       "      <td>23.3442</td>\n",
       "      <td>NaN</td>\n",
       "      <td>NaN</td>\n",
       "      <td>NaN</td>\n",
       "      <td>NaN</td>\n",
       "      <td>NaN</td>\n",
       "      <td>NaN</td>\n",
       "    </tr>\n",
       "    <tr>\n",
       "      <th>3</th>\n",
       "      <td>1</td>\n",
       "      <td>4</td>\n",
       "      <td>0.0007</td>\n",
       "      <td>0.0000</td>\n",
       "      <td>100.0</td>\n",
       "      <td>518.67</td>\n",
       "      <td>642.35</td>\n",
       "      <td>1582.79</td>\n",
       "      <td>1401.87</td>\n",
       "      <td>14.62</td>\n",
       "      <td>...</td>\n",
       "      <td>2388</td>\n",
       "      <td>100.0</td>\n",
       "      <td>38.88</td>\n",
       "      <td>23.3739</td>\n",
       "      <td>NaN</td>\n",
       "      <td>NaN</td>\n",
       "      <td>NaN</td>\n",
       "      <td>NaN</td>\n",
       "      <td>NaN</td>\n",
       "      <td>NaN</td>\n",
       "    </tr>\n",
       "    <tr>\n",
       "      <th>4</th>\n",
       "      <td>1</td>\n",
       "      <td>5</td>\n",
       "      <td>-0.0019</td>\n",
       "      <td>-0.0002</td>\n",
       "      <td>100.0</td>\n",
       "      <td>518.67</td>\n",
       "      <td>642.37</td>\n",
       "      <td>1582.85</td>\n",
       "      <td>1406.22</td>\n",
       "      <td>14.62</td>\n",
       "      <td>...</td>\n",
       "      <td>2388</td>\n",
       "      <td>100.0</td>\n",
       "      <td>38.90</td>\n",
       "      <td>23.4044</td>\n",
       "      <td>NaN</td>\n",
       "      <td>NaN</td>\n",
       "      <td>NaN</td>\n",
       "      <td>NaN</td>\n",
       "      <td>NaN</td>\n",
       "      <td>NaN</td>\n",
       "    </tr>\n",
       "  </tbody>\n",
       "</table>\n",
       "<p>5 rows × 32 columns</p>\n",
       "</div>"
      ],
      "text/plain": [
       "   unit_number  time_in_cycles  op_setting_1  op_setting_2  op_setting_3  \\\n",
       "0            1               1       -0.0007       -0.0004         100.0   \n",
       "1            1               2        0.0019       -0.0003         100.0   \n",
       "2            1               3       -0.0043        0.0003         100.0   \n",
       "3            1               4        0.0007        0.0000         100.0   \n",
       "4            1               5       -0.0019       -0.0002         100.0   \n",
       "\n",
       "   sensor_1  sensor_2  sensor_3  sensor_4  sensor_5  ...  sensor_18  \\\n",
       "0    518.67    641.82   1589.70   1400.60     14.62  ...       2388   \n",
       "1    518.67    642.15   1591.82   1403.14     14.62  ...       2388   \n",
       "2    518.67    642.35   1587.99   1404.20     14.62  ...       2388   \n",
       "3    518.67    642.35   1582.79   1401.87     14.62  ...       2388   \n",
       "4    518.67    642.37   1582.85   1406.22     14.62  ...       2388   \n",
       "\n",
       "   sensor_19  sensor_20  sensor_21  sensor_22  sensor_23  sensor_24  \\\n",
       "0      100.0      39.06    23.4190        NaN        NaN        NaN   \n",
       "1      100.0      39.00    23.4236        NaN        NaN        NaN   \n",
       "2      100.0      38.95    23.3442        NaN        NaN        NaN   \n",
       "3      100.0      38.88    23.3739        NaN        NaN        NaN   \n",
       "4      100.0      38.90    23.4044        NaN        NaN        NaN   \n",
       "\n",
       "   sensor_25  sensor_26  sensor_27  \n",
       "0        NaN        NaN        NaN  \n",
       "1        NaN        NaN        NaN  \n",
       "2        NaN        NaN        NaN  \n",
       "3        NaN        NaN        NaN  \n",
       "4        NaN        NaN        NaN  \n",
       "\n",
       "[5 rows x 32 columns]"
      ]
     },
     "execution_count": 4,
     "metadata": {},
     "output_type": "execute_result"
    }
   ],
   "source": [
    "# 讀取 CSV 檔案，並將其指定為名稱是 df (DataFrame) 的物件\n",
    "df = pd.read_csv(filepath_or_buffer=Turbofan_FILEPATH)\n",
    "df_bak = df.copy()\n",
    "\n",
    "# 使用 head() method 大略地瀏覽資料\n",
    "df.head()"
   ]
  },
  {
   "cell_type": "code",
   "execution_count": 5,
   "metadata": {},
   "outputs": [
    {
     "data": {
      "text/html": [
       "<div>\n",
       "<style scoped>\n",
       "    .dataframe tbody tr th:only-of-type {\n",
       "        vertical-align: middle;\n",
       "    }\n",
       "\n",
       "    .dataframe tbody tr th {\n",
       "        vertical-align: top;\n",
       "    }\n",
       "\n",
       "    .dataframe thead th {\n",
       "        text-align: right;\n",
       "    }\n",
       "</style>\n",
       "<table border=\"1\" class=\"dataframe\">\n",
       "  <thead>\n",
       "    <tr style=\"text-align: right;\">\n",
       "      <th></th>\n",
       "      <th>unit_number</th>\n",
       "      <th>time_in_cycles</th>\n",
       "      <th>op_setting_1</th>\n",
       "      <th>op_setting_2</th>\n",
       "      <th>op_setting_3</th>\n",
       "      <th>sensor_1</th>\n",
       "      <th>sensor_2</th>\n",
       "      <th>sensor_3</th>\n",
       "      <th>sensor_4</th>\n",
       "      <th>sensor_5</th>\n",
       "      <th>...</th>\n",
       "      <th>sensor_18</th>\n",
       "      <th>sensor_19</th>\n",
       "      <th>sensor_20</th>\n",
       "      <th>sensor_21</th>\n",
       "      <th>sensor_22</th>\n",
       "      <th>sensor_23</th>\n",
       "      <th>sensor_24</th>\n",
       "      <th>sensor_25</th>\n",
       "      <th>sensor_26</th>\n",
       "      <th>sensor_27</th>\n",
       "    </tr>\n",
       "  </thead>\n",
       "  <tbody>\n",
       "    <tr>\n",
       "      <th>20626</th>\n",
       "      <td>100</td>\n",
       "      <td>196</td>\n",
       "      <td>-0.0004</td>\n",
       "      <td>-0.0003</td>\n",
       "      <td>100.0</td>\n",
       "      <td>518.67</td>\n",
       "      <td>643.49</td>\n",
       "      <td>1597.98</td>\n",
       "      <td>1428.63</td>\n",
       "      <td>14.62</td>\n",
       "      <td>...</td>\n",
       "      <td>2388</td>\n",
       "      <td>100.0</td>\n",
       "      <td>38.49</td>\n",
       "      <td>22.9735</td>\n",
       "      <td>NaN</td>\n",
       "      <td>NaN</td>\n",
       "      <td>NaN</td>\n",
       "      <td>NaN</td>\n",
       "      <td>NaN</td>\n",
       "      <td>NaN</td>\n",
       "    </tr>\n",
       "    <tr>\n",
       "      <th>20627</th>\n",
       "      <td>100</td>\n",
       "      <td>197</td>\n",
       "      <td>-0.0016</td>\n",
       "      <td>-0.0005</td>\n",
       "      <td>100.0</td>\n",
       "      <td>518.67</td>\n",
       "      <td>643.54</td>\n",
       "      <td>1604.50</td>\n",
       "      <td>1433.58</td>\n",
       "      <td>14.62</td>\n",
       "      <td>...</td>\n",
       "      <td>2388</td>\n",
       "      <td>100.0</td>\n",
       "      <td>38.30</td>\n",
       "      <td>23.1594</td>\n",
       "      <td>NaN</td>\n",
       "      <td>NaN</td>\n",
       "      <td>NaN</td>\n",
       "      <td>NaN</td>\n",
       "      <td>NaN</td>\n",
       "      <td>NaN</td>\n",
       "    </tr>\n",
       "    <tr>\n",
       "      <th>20628</th>\n",
       "      <td>100</td>\n",
       "      <td>198</td>\n",
       "      <td>0.0004</td>\n",
       "      <td>0.0000</td>\n",
       "      <td>100.0</td>\n",
       "      <td>518.67</td>\n",
       "      <td>643.42</td>\n",
       "      <td>1602.46</td>\n",
       "      <td>1428.18</td>\n",
       "      <td>14.62</td>\n",
       "      <td>...</td>\n",
       "      <td>2388</td>\n",
       "      <td>100.0</td>\n",
       "      <td>38.44</td>\n",
       "      <td>22.9333</td>\n",
       "      <td>NaN</td>\n",
       "      <td>NaN</td>\n",
       "      <td>NaN</td>\n",
       "      <td>NaN</td>\n",
       "      <td>NaN</td>\n",
       "      <td>NaN</td>\n",
       "    </tr>\n",
       "    <tr>\n",
       "      <th>20629</th>\n",
       "      <td>100</td>\n",
       "      <td>199</td>\n",
       "      <td>-0.0011</td>\n",
       "      <td>0.0003</td>\n",
       "      <td>100.0</td>\n",
       "      <td>518.67</td>\n",
       "      <td>643.23</td>\n",
       "      <td>1605.26</td>\n",
       "      <td>1426.53</td>\n",
       "      <td>14.62</td>\n",
       "      <td>...</td>\n",
       "      <td>2388</td>\n",
       "      <td>100.0</td>\n",
       "      <td>38.29</td>\n",
       "      <td>23.0640</td>\n",
       "      <td>NaN</td>\n",
       "      <td>NaN</td>\n",
       "      <td>NaN</td>\n",
       "      <td>NaN</td>\n",
       "      <td>NaN</td>\n",
       "      <td>NaN</td>\n",
       "    </tr>\n",
       "    <tr>\n",
       "      <th>20630</th>\n",
       "      <td>100</td>\n",
       "      <td>200</td>\n",
       "      <td>-0.0032</td>\n",
       "      <td>-0.0005</td>\n",
       "      <td>100.0</td>\n",
       "      <td>518.67</td>\n",
       "      <td>643.85</td>\n",
       "      <td>1600.38</td>\n",
       "      <td>1432.14</td>\n",
       "      <td>14.62</td>\n",
       "      <td>...</td>\n",
       "      <td>2388</td>\n",
       "      <td>100.0</td>\n",
       "      <td>38.37</td>\n",
       "      <td>23.0522</td>\n",
       "      <td>NaN</td>\n",
       "      <td>NaN</td>\n",
       "      <td>NaN</td>\n",
       "      <td>NaN</td>\n",
       "      <td>NaN</td>\n",
       "      <td>NaN</td>\n",
       "    </tr>\n",
       "  </tbody>\n",
       "</table>\n",
       "<p>5 rows × 32 columns</p>\n",
       "</div>"
      ],
      "text/plain": [
       "       unit_number  time_in_cycles  op_setting_1  op_setting_2  op_setting_3  \\\n",
       "20626          100             196       -0.0004       -0.0003         100.0   \n",
       "20627          100             197       -0.0016       -0.0005         100.0   \n",
       "20628          100             198        0.0004        0.0000         100.0   \n",
       "20629          100             199       -0.0011        0.0003         100.0   \n",
       "20630          100             200       -0.0032       -0.0005         100.0   \n",
       "\n",
       "       sensor_1  sensor_2  sensor_3  sensor_4  sensor_5  ...  sensor_18  \\\n",
       "20626    518.67    643.49   1597.98   1428.63     14.62  ...       2388   \n",
       "20627    518.67    643.54   1604.50   1433.58     14.62  ...       2388   \n",
       "20628    518.67    643.42   1602.46   1428.18     14.62  ...       2388   \n",
       "20629    518.67    643.23   1605.26   1426.53     14.62  ...       2388   \n",
       "20630    518.67    643.85   1600.38   1432.14     14.62  ...       2388   \n",
       "\n",
       "       sensor_19  sensor_20  sensor_21  sensor_22  sensor_23  sensor_24  \\\n",
       "20626      100.0      38.49    22.9735        NaN        NaN        NaN   \n",
       "20627      100.0      38.30    23.1594        NaN        NaN        NaN   \n",
       "20628      100.0      38.44    22.9333        NaN        NaN        NaN   \n",
       "20629      100.0      38.29    23.0640        NaN        NaN        NaN   \n",
       "20630      100.0      38.37    23.0522        NaN        NaN        NaN   \n",
       "\n",
       "       sensor_25  sensor_26  sensor_27  \n",
       "20626        NaN        NaN        NaN  \n",
       "20627        NaN        NaN        NaN  \n",
       "20628        NaN        NaN        NaN  \n",
       "20629        NaN        NaN        NaN  \n",
       "20630        NaN        NaN        NaN  \n",
       "\n",
       "[5 rows x 32 columns]"
      ]
     },
     "execution_count": 5,
     "metadata": {},
     "output_type": "execute_result"
    }
   ],
   "source": [
    "df.tail()"
   ]
  },
  {
   "cell_type": "code",
   "execution_count": 6,
   "metadata": {},
   "outputs": [
    {
     "data": {
      "text/plain": [
       "(20631, 32)"
      ]
     },
     "execution_count": 6,
     "metadata": {},
     "output_type": "execute_result"
    }
   ],
   "source": [
    "df.shape"
   ]
  },
  {
   "cell_type": "code",
   "execution_count": 7,
   "metadata": {
    "colab": {
     "autoexec": {
      "startup": false,
      "wait_interval": 0
     },
     "base_uri": "https://localhost:8080/",
     "height": 34
    },
    "colab_type": "code",
    "executionInfo": {
     "elapsed": 1094,
     "status": "ok",
     "timestamp": 1530863786265,
     "user": {
      "displayName": "黃種平",
      "photoUrl": "//lh3.googleusercontent.com/-ay6h3dmyraY/AAAAAAAAAAI/AAAAAAAADhg/t8F2AGa00fc/s50-c-k-no/photo.jpg",
      "userId": "114874362450166068432"
     },
     "user_tz": -480
    },
    "id": "UZhMwmehI12g",
    "outputId": "b68c4cd7-fc93-4971-acd1-029a934d2e33"
   },
   "outputs": [
    {
     "data": {
      "text/plain": [
       "pandas.core.frame.DataFrame"
      ]
     },
     "execution_count": 7,
     "metadata": {},
     "output_type": "execute_result"
    }
   ],
   "source": [
    "# 使用內建的 type() function 來確認讀取後的物件類型\n",
    "# https://docs.python.org/3/library/functions.html#type\n",
    "type(df)"
   ]
  },
  {
   "cell_type": "code",
   "execution_count": 8,
   "metadata": {
    "colab": {
     "autoexec": {
      "startup": false,
      "wait_interval": 0
     },
     "base_uri": "https://localhost:8080/",
     "height": 34
    },
    "colab_type": "code",
    "executionInfo": {
     "elapsed": 1002,
     "status": "ok",
     "timestamp": 1530863787568,
     "user": {
      "displayName": "黃種平",
      "photoUrl": "//lh3.googleusercontent.com/-ay6h3dmyraY/AAAAAAAAAAI/AAAAAAAADhg/t8F2AGa00fc/s50-c-k-no/photo.jpg",
      "userId": "114874362450166068432"
     },
     "user_tz": -480
    },
    "id": "nc7i1Mu6odu7",
    "outputId": "a1a2ed33-37a8-4d4e-d708-07ee9cc1bb1e"
   },
   "outputs": [
    {
     "data": {
      "text/plain": [
       "pandas.core.indexes.range.RangeIndex"
      ]
     },
     "execution_count": 8,
     "metadata": {},
     "output_type": "execute_result"
    }
   ],
   "source": [
    "# 檢視資料 DataFrame 的索引的物件類型\n",
    "type(df.index)"
   ]
  },
  {
   "cell_type": "code",
   "execution_count": 9,
   "metadata": {},
   "outputs": [
    {
     "data": {
      "text/plain": [
       "pandas.core.series.Series"
      ]
     },
     "execution_count": 9,
     "metadata": {},
     "output_type": "execute_result"
    }
   ],
   "source": [
    "s = df['unit_number']\n",
    "type(s)"
   ]
  },
  {
   "cell_type": "code",
   "execution_count": 10,
   "metadata": {},
   "outputs": [
    {
     "data": {
      "text/plain": [
       "str"
      ]
     },
     "execution_count": 10,
     "metadata": {},
     "output_type": "execute_result"
    }
   ],
   "source": [
    "string = 'Hello World!'\n",
    "type(string)"
   ]
  },
  {
   "cell_type": "markdown",
   "metadata": {
    "colab_type": "text",
    "id": "F5xi_Sk4K55x"
   },
   "source": [
    "## 資料初探"
   ]
  },
  {
   "cell_type": "markdown",
   "metadata": {
    "colab_type": "text",
    "id": "FiF54u3XL8Hn"
   },
   "source": [
    "### 名詞解釋：欄 (Column) 與列 (Row)\n",
    "\n",
    "下表由縱向來看，`unit_number`, `time_in_cycles`, `op_setting_1`, `op_setting_2`, `op_setting_3` 則稱為排或是**欄 (Column)**，所以這個表格中總共有 4 個 Column。\n",
    "\n",
    "而由橫向來看時，每一**列 (Row)** 為一筆資料。\n",
    "\n",
    "unit_number | time_in_cycles | op_setting_1 | op_setting_2 | op_setting_3\n",
    "--- | --- | --- | --- | ---\n",
    "1 | 1 | 2.0 | 0.20 | 0.04\n",
    "1 | 2 | 2.2 | 0.19 | 0.05\n",
    "1 | 3 | 2.2 | 0.24 | 0.08\n"
   ]
  },
  {
   "cell_type": "markdown",
   "metadata": {
    "colab_type": "text",
    "id": "wKFUFXlcgn5o"
   },
   "source": [
    "> [NOTE] \n",
    ">\n",
    "> 若各位之後有機會閱讀中國大陸的文件，他們在稱呼欄與列時，與我們的方向是相反的。\n",
    "> \n",
    "> 因為怕各位混淆，往後我們在觀察資料時，將直接標註為 Column 或 Row，不再使用中文稱呼。\n",
    ">\n",
    "> 也因為基於翻譯在不同的地區、作者可能會有不同的中文名詞，我們也會儘量使用原始的英文名詞來描述。"
   ]
  },
  {
   "cell_type": "markdown",
   "metadata": {
    "colab_type": "text",
    "id": "YI9WE38elfpT"
   },
   "source": [
    "### 檢視特定欄位的資料"
   ]
  },
  {
   "cell_type": "markdown",
   "metadata": {
    "colab_type": "text",
    "id": "GK9BKn4chbgS"
   },
   "source": [
    "接著我們簡單示範一下如何觀察剛才載入的部分資料。"
   ]
  },
  {
   "cell_type": "code",
   "execution_count": 11,
   "metadata": {
    "colab": {
     "autoexec": {
      "startup": false,
      "wait_interval": 0
     },
     "base_uri": "https://localhost:8080/",
     "height": 408
    },
    "colab_type": "code",
    "executionInfo": {
     "elapsed": 958,
     "status": "ok",
     "timestamp": 1530863788994,
     "user": {
      "displayName": "黃種平",
      "photoUrl": "//lh3.googleusercontent.com/-ay6h3dmyraY/AAAAAAAAAAI/AAAAAAAADhg/t8F2AGa00fc/s50-c-k-no/photo.jpg",
      "userId": "114874362450166068432"
     },
     "user_tz": -480
    },
    "id": "fvkEJ16YKTv5",
    "outputId": "6a71ff98-2ff1-4bdf-e4a7-6d040d9fc282"
   },
   "outputs": [
    {
     "data": {
      "text/plain": [
       "0          1\n",
       "1          1\n",
       "2          1\n",
       "3          1\n",
       "4          1\n",
       "        ... \n",
       "20626    100\n",
       "20627    100\n",
       "20628    100\n",
       "20629    100\n",
       "20630    100\n",
       "Name: unit_number, Length: 20631, dtype: int64"
      ]
     },
     "execution_count": 11,
     "metadata": {},
     "output_type": "execute_result"
    }
   ],
   "source": [
    "# 取得某一個 column 名稱的資料\n",
    "# 舉例說明：取得 渦輪扇發動機設備編號（Column 名稱：'unit_number'）的資料\n",
    "df['unit_number']"
   ]
  },
  {
   "cell_type": "code",
   "execution_count": 12,
   "metadata": {
    "colab": {
     "autoexec": {
      "startup": false,
      "wait_interval": 0
     },
     "base_uri": "https://localhost:8080/",
     "height": 760
    },
    "colab_type": "code",
    "executionInfo": {
     "elapsed": 1267,
     "status": "ok",
     "timestamp": 1530863790655,
     "user": {
      "displayName": "黃種平",
      "photoUrl": "//lh3.googleusercontent.com/-ay6h3dmyraY/AAAAAAAAAAI/AAAAAAAADhg/t8F2AGa00fc/s50-c-k-no/photo.jpg",
      "userId": "114874362450166068432"
     },
     "user_tz": -480
    },
    "id": "g7fMSSrCVfww",
    "outputId": "e012add2-88a8-4aaa-81b5-9e2861f3bf32"
   },
   "outputs": [
    {
     "data": {
      "text/html": [
       "<div>\n",
       "<style scoped>\n",
       "    .dataframe tbody tr th:only-of-type {\n",
       "        vertical-align: middle;\n",
       "    }\n",
       "\n",
       "    .dataframe tbody tr th {\n",
       "        vertical-align: top;\n",
       "    }\n",
       "\n",
       "    .dataframe thead th {\n",
       "        text-align: right;\n",
       "    }\n",
       "</style>\n",
       "<table border=\"1\" class=\"dataframe\">\n",
       "  <thead>\n",
       "    <tr style=\"text-align: right;\">\n",
       "      <th></th>\n",
       "      <th>unit_number</th>\n",
       "      <th>time_in_cycles</th>\n",
       "      <th>op_setting_1</th>\n",
       "    </tr>\n",
       "  </thead>\n",
       "  <tbody>\n",
       "    <tr>\n",
       "      <th>0</th>\n",
       "      <td>1</td>\n",
       "      <td>1</td>\n",
       "      <td>-0.0007</td>\n",
       "    </tr>\n",
       "    <tr>\n",
       "      <th>1</th>\n",
       "      <td>1</td>\n",
       "      <td>2</td>\n",
       "      <td>0.0019</td>\n",
       "    </tr>\n",
       "    <tr>\n",
       "      <th>2</th>\n",
       "      <td>1</td>\n",
       "      <td>3</td>\n",
       "      <td>-0.0043</td>\n",
       "    </tr>\n",
       "    <tr>\n",
       "      <th>3</th>\n",
       "      <td>1</td>\n",
       "      <td>4</td>\n",
       "      <td>0.0007</td>\n",
       "    </tr>\n",
       "    <tr>\n",
       "      <th>4</th>\n",
       "      <td>1</td>\n",
       "      <td>5</td>\n",
       "      <td>-0.0019</td>\n",
       "    </tr>\n",
       "  </tbody>\n",
       "</table>\n",
       "</div>"
      ],
      "text/plain": [
       "   unit_number  time_in_cycles  op_setting_1\n",
       "0            1               1       -0.0007\n",
       "1            1               2        0.0019\n",
       "2            1               3       -0.0043\n",
       "3            1               4        0.0007\n",
       "4            1               5       -0.0019"
      ]
     },
     "execution_count": 12,
     "metadata": {},
     "output_type": "execute_result"
    }
   ],
   "source": [
    "# 取得多個 columns 的資料\n",
    "# 舉例說明：取得 渦輪扇發動機設備編號、工作週期、設定值1（Column 名稱：'unit_number', 'time_in_cycles', 'op_setting_1'）的資料\n",
    "df[['unit_number', 'time_in_cycles', 'op_setting_1']].head()"
   ]
  },
  {
   "cell_type": "markdown",
   "metadata": {
    "colab_type": "text",
    "id": "Pryi1zCWk5Cu"
   },
   "source": [
    "還有許多的方法可以瀏覽資料，我們將在之後的章節一一說明。"
   ]
  },
  {
   "cell_type": "markdown",
   "metadata": {
    "colab_type": "text",
    "id": "jAnMn-eaP_yB"
   },
   "source": [
    "## 資料視覺化初探"
   ]
  },
  {
   "cell_type": "markdown",
   "metadata": {
    "colab_type": "text",
    "id": "5o3NSoDPm8OA"
   },
   "source": [
    "將數值類型的資料畫成圖表，在檢視資料時也是相當好用的工具。"
   ]
  },
  {
   "cell_type": "code",
   "execution_count": 13,
   "metadata": {
    "colab": {
     "autoexec": {
      "startup": false,
      "wait_interval": 0
     },
     "base_uri": "https://localhost:8080/",
     "height": 347
    },
    "colab_type": "code",
    "executionInfo": {
     "elapsed": 1334,
     "status": "ok",
     "timestamp": 1530863792580,
     "user": {
      "displayName": "黃種平",
      "photoUrl": "//lh3.googleusercontent.com/-ay6h3dmyraY/AAAAAAAAAAI/AAAAAAAADhg/t8F2AGa00fc/s50-c-k-no/photo.jpg",
      "userId": "114874362450166068432"
     },
     "user_tz": -480
    },
    "id": "JhCVd_K_Pj7H",
    "outputId": "311c75c7-6566-47b1-c21b-604b029e95fb"
   },
   "outputs": [
    {
     "data": {
      "text/plain": [
       "<AxesSubplot:>"
      ]
     },
     "execution_count": 13,
     "metadata": {},
     "output_type": "execute_result"
    },
    {
     "data": {
      "image/png": "[encoded data removed]",
      "text/plain": [
       "<Figure size 1200x300 with 1 Axes>"
      ]
     },
     "metadata": {},
     "output_type": "display_data"
    }
   ],
   "source": [
    "# 取得某一個 column 資料，利用 dataframe 的 methods plot() 將資料轉成圖表\n",
    "# 舉例說明：取得 工作週期 （Column 名稱：'time_in_cycles'）的資料，並轉成折線圖表\n",
    "df[['time_in_cycles']].plot()"
   ]
  },
  {
   "cell_type": "markdown",
   "metadata": {
    "colab_type": "text",
    "id": "lF3KkUslgiB_"
   },
   "source": [
    "除了**折線圖**以外，Pandas 還提供了不同的圖表類型可供選擇，之後的章節也會說明。"
   ]
  },
  {
   "cell_type": "code",
   "execution_count": null,
   "metadata": {
    "colab": {
     "autoexec": {
      "startup": false,
      "wait_interval": 0
     }
    },
    "colab_type": "code",
    "id": "XL7UQY2enkOs"
   },
   "outputs": [],
   "source": []
  }
 ],
 "metadata": {
  "colab": {
   "collapsed_sections": [],
   "default_view": {},
   "name": "Chapter 1 - Read from file.ipynb",
   "provenance": [],
   "toc_visible": true,
   "version": "0.3.2",
   "views": {}
  },
  "kernelspec": {
   "display_name": "Python 3",
   "language": "python",
   "name": "python3"
  },
  "language_info": {
   "codemirror_mode": {
    "name": "ipython",
    "version": 3
   },
   "file_extension": ".py",
   "mimetype": "text/x-python",
   "name": "python",
   "nbconvert_exporter": "python",
   "pygments_lexer": "ipython3",
   "version": "3.6.8"
  }
 },
 "nbformat": 4,
 "nbformat_minor": 4
}
