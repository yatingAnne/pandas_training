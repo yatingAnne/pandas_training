{
 "cells": [
  {
   "cell_type": "code",
   "execution_count": null,
   "metadata": {},
   "outputs": [],
   "source": [
    "import pandas as pd\n",
    "import numpy as np\n",
    "import matplotlib.pyplot as plt\n",
    "from IPython.display import display"
   ]
  },
  {
   "cell_type": "code",
   "execution_count": null,
   "metadata": {},
   "outputs": [],
   "source": [
    "pd.set_option('max_rows', 20)\n",
    "\n",
    "plt.style.use('default')\n",
    "plt.rcParams['figure.figsize'] = (12, 3)\n",
    "plt.rcParams['font.family'] = 'sans-serif'"
   ]
  },
  {
   "cell_type": "code",
   "execution_count": null,
   "metadata": {},
   "outputs": [],
   "source": [
    "df = pd.read_csv('titanic_train.csv')"
   ]
  },
  {
   "cell_type": "markdown",
   "metadata": {},
   "source": [
    "# Chapter 2 - Selecting data"
   ]
  },
  {
   "cell_type": "markdown",
   "metadata": {},
   "source": [
    "## Q1. 觀察資料——檢視資料的彙整資訊"
   ]
  },
  {
   "cell_type": "markdown",
   "metadata": {},
   "source": [
    "請選擇適當的 DataFrame object method，顯示鐵達尼號資料的以下資訊：\n",
    "\n",
    "* `index dtype`：Index 的資料型態\n",
    "* `column dtypes`：Column 的資料型態\n",
    "* `non-null values`：非空值的個數\n",
    "* `memory usage`：物件占用多少記憶體空間"
   ]
  },
  {
   "cell_type": "code",
   "execution_count": null,
   "metadata": {},
   "outputs": [],
   "source": []
  },
  {
   "cell_type": "markdown",
   "metadata": {},
   "source": [
    "## Q1-1.根據Q1結果回答以下問題：\n",
    "\n",
    "1. 請問本資料中共有幾個 columns？\n",
    "1. 請依序回答「年齡 (`Age`)」、「性別 (`Sex`)」、「船票等級 (`Pclass`)」3個欄位的 dtype 分別是？\n",
    "1. 請問 dtype 為 `object` 的欄位有幾個？\n",
    "1. 請問「船艙代號 (`Cabin`)」欄位為 non-null 的資料有幾筆？"
   ]
  },
  {
   "cell_type": "code",
   "execution_count": 1,
   "metadata": {},
   "outputs": [
    {
     "name": "stdout",
     "output_type": "stream",
     "text": [
      "\n"
     ]
    }
   ],
   "source": [
    "# 1. 請問本資料中共有幾個 columns？（在print()中輸入個數即可）\n",
    "print()"
   ]
  },
  {
   "cell_type": "code",
   "execution_count": null,
   "metadata": {},
   "outputs": [],
   "source": [
    "# 2. 請依序回答「年齡 (Age)」、「性別 (Sex)」、「船票等級 (Pclass)」3個欄位的 dtype 分別是？(在print()中輸入答案即可）\n",
    "print()\n",
    "print()\n",
    "print()"
   ]
  },
  {
   "cell_type": "code",
   "execution_count": null,
   "metadata": {},
   "outputs": [],
   "source": [
    "# 3. 請問 dtype 為 object 的欄位有幾個？(在print()中輸入個數即可）\n",
    "print()"
   ]
  },
  {
   "cell_type": "code",
   "execution_count": null,
   "metadata": {},
   "outputs": [],
   "source": [
    "# 4. 請問「船艙代號 (Cabin)」欄位 non-null 的資料有幾筆？（在print()中輸入個數即可）\n",
    "print()"
   ]
  },
  {
   "cell_type": "markdown",
   "metadata": {},
   "source": [
    "## Q2. 觀察資料——敘述性統計分析結果"
   ]
  },
  {
   "cell_type": "markdown",
   "metadata": {},
   "source": [
    "請選擇適當的 DataFrame object method，顯示鐵達尼號資料的敘述性統計分析，以觀察資料分布。"
   ]
  },
  {
   "cell_type": "code",
   "execution_count": null,
   "metadata": {},
   "outputs": [],
   "source": []
  },
  {
   "cell_type": "markdown",
   "metadata": {},
   "source": [
    "## Q2-1. 根據 Q2 結果回答以下問題：\n",
    "\n",
    "1. 請問「性別 (`Sex`)」中是男性或女性人數較多？有幾人？\n",
    "1. 請問平均「年齡 (`Age`)」是？\n",
    "1. 請問最大「年齡 (`Age`)」是？"
   ]
  },
  {
   "cell_type": "code",
   "execution_count": null,
   "metadata": {},
   "outputs": [],
   "source": [
    "# 1. 請問「性別 (Sex)」中是男性或女性人數較多？有幾人？\n",
    "print()\n",
    "print()"
   ]
  },
  {
   "cell_type": "code",
   "execution_count": null,
   "metadata": {},
   "outputs": [],
   "source": [
    "# 2. 請問平均「年齡 (Age)」是？\n",
    "print()"
   ]
  },
  {
   "cell_type": "code",
   "execution_count": null,
   "metadata": {},
   "outputs": [],
   "source": [
    "# 3. 請問最大「年齡 (Age)」是？\n",
    "print()"
   ]
  },
  {
   "cell_type": "markdown",
   "metadata": {},
   "source": [
    "## Q3. 觀察資料——計算數值的出現次數"
   ]
  },
  {
   "cell_type": "markdown",
   "metadata": {},
   "source": [
    "請計算船票等級 (`Pclass`)資料中，各等級的出現次數：\n",
    "\n",
    "> 備註：船票等級 (`Pclass`) 中分成三個等級：`1` = 1st, `2` = 2nd, `3` = 3rd"
   ]
  },
  {
   "cell_type": "code",
   "execution_count": null,
   "metadata": {},
   "outputs": [],
   "source": []
  },
  {
   "cell_type": "markdown",
   "metadata": {},
   "source": [
    "## Q4. 選擇資料—— `.loc` 與 `.iloc`"
   ]
  },
  {
   "cell_type": "markdown",
   "metadata": {},
   "source": [
    "取出存活與否 (`Survived`)、性別 (`Sex`)、船艙代號 (`Cabin`) 共 3 個 columns 中 row 3 ~ 5 的數據："
   ]
  },
  {
   "cell_type": "code",
   "execution_count": null,
   "metadata": {},
   "outputs": [],
   "source": []
  }
 ],
 "metadata": {
  "kernelspec": {
   "display_name": "Python 3",
   "language": "python",
   "name": "python3"
  },
  "language_info": {
   "codemirror_mode": {
    "name": "ipython",
    "version": 3
   },
   "file_extension": ".py",
   "mimetype": "text/x-python",
   "name": "python",
   "nbconvert_exporter": "python",
   "pygments_lexer": "ipython3",
   "version": "3.6.8"
  }
 },
 "nbformat": 4,
 "nbformat_minor": 4
}
