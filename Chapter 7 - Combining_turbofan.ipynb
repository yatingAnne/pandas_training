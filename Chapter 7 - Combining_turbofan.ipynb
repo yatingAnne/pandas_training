{
 "cells": [
  {
   "cell_type": "code",
   "execution_count": 5,
   "metadata": {
    "colab": {
     "autoexec": {
      "startup": false,
      "wait_interval": 0
     }
    },
    "colab_type": "code",
    "id": "uWE64OO25RXi"
   },
   "outputs": [],
   "source": [
    "import os\n",
    "import numpy as np\n",
    "import pandas as pd\n",
    "import random\n",
    "import datetime\n",
    "import matplotlib.pyplot as plt"
   ]
  },
  {
   "cell_type": "code",
   "execution_count": 3,
   "metadata": {
    "colab": {
     "autoexec": {
      "startup": false,
      "wait_interval": 0
     }
    },
    "colab_type": "code",
    "id": "nzeYG7whum_S"
   },
   "outputs": [],
   "source": [
    "pd.set_option('max_rows', 20)\n",
    "\n",
    "plt.style.use('default')\n",
    "plt.rcParams['figure.figsize'] = (12, 3)\n",
    "plt.rcParams['font.family'] = 'sans-serif'"
   ]
  },
  {
   "cell_type": "code",
   "execution_count": 4,
   "metadata": {
    "colab": {
     "autoexec": {
      "startup": false,
      "wait_interval": 0
     }
    },
    "colab_type": "code",
    "id": "ftyvhZWsD4wC"
   },
   "outputs": [
    {
     "name": "stdout",
     "output_type": "stream",
     "text": [
      "./data/turbofan.csv\n"
     ]
    }
   ],
   "source": [
    "# 指定檔案位置，包含完整路徑以及檔案名稱\n",
    "# os.curdir: 回傳目前目錄的路徑\n",
    "Turbofan_FILEPATH = os.path.join(os.curdir, 'data', 'turbofan.csv')\n",
    "Turbofan_RUL_FILEPATH = os.path.join(os.curdir, 'data', 'turbofan_rul.csv')\n",
    "# 檢視檔案位置\n",
    "print(Turbofan_FILEPATH)\n",
    "# 讀取 CSV 檔案，並將其指定為名稱是 df (DataFrame) 的物件\n",
    "df = pd.read_csv(filepath_or_buffer=Turbofan_FILEPATH)\n",
    "df_bak = df.copy()\n",
    "\n",
    "df_rul = pd.read_csv(filepath_or_buffer=Turbofan_RUL_FILEPATH)\n",
    "df_rul_bak = df_rul.copy()"
   ]
  },
  {
   "cell_type": "code",
   "execution_count": 6,
   "metadata": {
    "colab": {
     "autoexec": {
      "startup": false,
      "wait_interval": 0
     },
     "base_uri": "https://localhost:8080/",
     "height": 425
    },
    "colab_type": "code",
    "executionInfo": {
     "elapsed": 858,
     "status": "ok",
     "timestamp": 1530864687923,
     "user": {
      "displayName": "黃種平",
      "photoUrl": "//lh3.googleusercontent.com/-ay6h3dmyraY/AAAAAAAAAAI/AAAAAAAADhg/t8F2AGa00fc/s50-c-k-no/photo.jpg",
      "userId": "114874362450166068432"
     },
     "user_tz": -480
    },
    "id": "gZD-m9TRlVtU",
    "outputId": "dd4566a5-40fc-46f6-aec6-63380a179fde"
   },
   "outputs": [
    {
     "data": {
      "text/html": [
       "<div>\n",
       "<style scoped>\n",
       "    .dataframe tbody tr th:only-of-type {\n",
       "        vertical-align: middle;\n",
       "    }\n",
       "\n",
       "    .dataframe tbody tr th {\n",
       "        vertical-align: top;\n",
       "    }\n",
       "\n",
       "    .dataframe thead th {\n",
       "        text-align: right;\n",
       "    }\n",
       "</style>\n",
       "<table border=\"1\" class=\"dataframe\">\n",
       "  <thead>\n",
       "    <tr style=\"text-align: right;\">\n",
       "      <th></th>\n",
       "      <th>unit_number</th>\n",
       "      <th>time_in_cycles</th>\n",
       "      <th>op_setting_1</th>\n",
       "      <th>op_setting_2</th>\n",
       "      <th>op_setting_3</th>\n",
       "      <th>sensor_1</th>\n",
       "      <th>sensor_2</th>\n",
       "      <th>sensor_3</th>\n",
       "      <th>sensor_4</th>\n",
       "      <th>sensor_5</th>\n",
       "      <th>...</th>\n",
       "      <th>sensor_18</th>\n",
       "      <th>sensor_19</th>\n",
       "      <th>sensor_20</th>\n",
       "      <th>sensor_21</th>\n",
       "      <th>sensor_22</th>\n",
       "      <th>sensor_23</th>\n",
       "      <th>sensor_24</th>\n",
       "      <th>sensor_25</th>\n",
       "      <th>sensor_26</th>\n",
       "      <th>sensor_27</th>\n",
       "    </tr>\n",
       "  </thead>\n",
       "  <tbody>\n",
       "    <tr>\n",
       "      <th>0</th>\n",
       "      <td>1</td>\n",
       "      <td>1</td>\n",
       "      <td>-0.0007</td>\n",
       "      <td>-0.0004</td>\n",
       "      <td>100.0</td>\n",
       "      <td>518.67</td>\n",
       "      <td>641.82</td>\n",
       "      <td>1589.70</td>\n",
       "      <td>1400.60</td>\n",
       "      <td>14.62</td>\n",
       "      <td>...</td>\n",
       "      <td>2388</td>\n",
       "      <td>100.0</td>\n",
       "      <td>39.06</td>\n",
       "      <td>23.4190</td>\n",
       "      <td>NaN</td>\n",
       "      <td>NaN</td>\n",
       "      <td>NaN</td>\n",
       "      <td>NaN</td>\n",
       "      <td>NaN</td>\n",
       "      <td>NaN</td>\n",
       "    </tr>\n",
       "    <tr>\n",
       "      <th>1</th>\n",
       "      <td>1</td>\n",
       "      <td>2</td>\n",
       "      <td>0.0019</td>\n",
       "      <td>-0.0003</td>\n",
       "      <td>100.0</td>\n",
       "      <td>518.67</td>\n",
       "      <td>642.15</td>\n",
       "      <td>1591.82</td>\n",
       "      <td>1403.14</td>\n",
       "      <td>14.62</td>\n",
       "      <td>...</td>\n",
       "      <td>2388</td>\n",
       "      <td>100.0</td>\n",
       "      <td>39.00</td>\n",
       "      <td>23.4236</td>\n",
       "      <td>NaN</td>\n",
       "      <td>NaN</td>\n",
       "      <td>NaN</td>\n",
       "      <td>NaN</td>\n",
       "      <td>NaN</td>\n",
       "      <td>NaN</td>\n",
       "    </tr>\n",
       "    <tr>\n",
       "      <th>2</th>\n",
       "      <td>1</td>\n",
       "      <td>3</td>\n",
       "      <td>-0.0043</td>\n",
       "      <td>0.0003</td>\n",
       "      <td>100.0</td>\n",
       "      <td>518.67</td>\n",
       "      <td>642.35</td>\n",
       "      <td>1587.99</td>\n",
       "      <td>1404.20</td>\n",
       "      <td>14.62</td>\n",
       "      <td>...</td>\n",
       "      <td>2388</td>\n",
       "      <td>100.0</td>\n",
       "      <td>38.95</td>\n",
       "      <td>23.3442</td>\n",
       "      <td>NaN</td>\n",
       "      <td>NaN</td>\n",
       "      <td>NaN</td>\n",
       "      <td>NaN</td>\n",
       "      <td>NaN</td>\n",
       "      <td>NaN</td>\n",
       "    </tr>\n",
       "    <tr>\n",
       "      <th>3</th>\n",
       "      <td>1</td>\n",
       "      <td>4</td>\n",
       "      <td>0.0007</td>\n",
       "      <td>0.0000</td>\n",
       "      <td>100.0</td>\n",
       "      <td>518.67</td>\n",
       "      <td>642.35</td>\n",
       "      <td>1582.79</td>\n",
       "      <td>1401.87</td>\n",
       "      <td>14.62</td>\n",
       "      <td>...</td>\n",
       "      <td>2388</td>\n",
       "      <td>100.0</td>\n",
       "      <td>38.88</td>\n",
       "      <td>23.3739</td>\n",
       "      <td>NaN</td>\n",
       "      <td>NaN</td>\n",
       "      <td>NaN</td>\n",
       "      <td>NaN</td>\n",
       "      <td>NaN</td>\n",
       "      <td>NaN</td>\n",
       "    </tr>\n",
       "    <tr>\n",
       "      <th>4</th>\n",
       "      <td>1</td>\n",
       "      <td>5</td>\n",
       "      <td>-0.0019</td>\n",
       "      <td>-0.0002</td>\n",
       "      <td>100.0</td>\n",
       "      <td>518.67</td>\n",
       "      <td>642.37</td>\n",
       "      <td>1582.85</td>\n",
       "      <td>1406.22</td>\n",
       "      <td>14.62</td>\n",
       "      <td>...</td>\n",
       "      <td>2388</td>\n",
       "      <td>100.0</td>\n",
       "      <td>38.90</td>\n",
       "      <td>23.4044</td>\n",
       "      <td>NaN</td>\n",
       "      <td>NaN</td>\n",
       "      <td>NaN</td>\n",
       "      <td>NaN</td>\n",
       "      <td>NaN</td>\n",
       "      <td>NaN</td>\n",
       "    </tr>\n",
       "  </tbody>\n",
       "</table>\n",
       "<p>5 rows × 32 columns</p>\n",
       "</div>"
      ],
      "text/plain": [
       "   unit_number  time_in_cycles  op_setting_1  op_setting_2  op_setting_3  \\\n",
       "0            1               1       -0.0007       -0.0004         100.0   \n",
       "1            1               2        0.0019       -0.0003         100.0   \n",
       "2            1               3       -0.0043        0.0003         100.0   \n",
       "3            1               4        0.0007        0.0000         100.0   \n",
       "4            1               5       -0.0019       -0.0002         100.0   \n",
       "\n",
       "   sensor_1  sensor_2  sensor_3  sensor_4  sensor_5  ...  sensor_18  \\\n",
       "0    518.67    641.82   1589.70   1400.60     14.62  ...       2388   \n",
       "1    518.67    642.15   1591.82   1403.14     14.62  ...       2388   \n",
       "2    518.67    642.35   1587.99   1404.20     14.62  ...       2388   \n",
       "3    518.67    642.35   1582.79   1401.87     14.62  ...       2388   \n",
       "4    518.67    642.37   1582.85   1406.22     14.62  ...       2388   \n",
       "\n",
       "   sensor_19  sensor_20  sensor_21  sensor_22  sensor_23  sensor_24  \\\n",
       "0      100.0      39.06    23.4190        NaN        NaN        NaN   \n",
       "1      100.0      39.00    23.4236        NaN        NaN        NaN   \n",
       "2      100.0      38.95    23.3442        NaN        NaN        NaN   \n",
       "3      100.0      38.88    23.3739        NaN        NaN        NaN   \n",
       "4      100.0      38.90    23.4044        NaN        NaN        NaN   \n",
       "\n",
       "   sensor_25  sensor_26  sensor_27  \n",
       "0        NaN        NaN        NaN  \n",
       "1        NaN        NaN        NaN  \n",
       "2        NaN        NaN        NaN  \n",
       "3        NaN        NaN        NaN  \n",
       "4        NaN        NaN        NaN  \n",
       "\n",
       "[5 rows x 32 columns]"
      ]
     },
     "execution_count": 6,
     "metadata": {},
     "output_type": "execute_result"
    }
   ],
   "source": [
    "df.head()"
   ]
  },
  {
   "cell_type": "markdown",
   "metadata": {
    "colab_type": "text",
    "id": "Ib6J-0NDGvbE"
   },
   "source": [
    "# 第 7 章：結合資料"
   ]
  },
  {
   "cell_type": "markdown",
   "metadata": {
    "colab_type": "text",
    "id": "DLDENXfSR2a9"
   },
   "source": [
    "有時候要處理資料時，會拿到許多不同的檔案，這些檔案可能代表著整體現象的某一部份。這些資料可能是因為記錄方式的不同、來源位置不同、甚至有可能是擷取的方式不同，造成資料格式迥異、樣態差距也很大，也因此需要將這些資料結合，起來，再來製作分析。"
   ]
  },
  {
   "cell_type": "markdown",
   "metadata": {
    "colab_type": "text",
    "id": "MajHtntiTBnr"
   },
   "source": [
    "## `concat()`：根據座標軸來結合資料"
   ]
  },
  {
   "cell_type": "markdown",
   "metadata": {
    "colab_type": "text",
    "id": "N85VpByWyQnX"
   },
   "source": [
    "若資料集因為某些原因被分段，在後續使用時需要被重組起來的話，就會用到 `concat()` Function。舉例來說：若我們的空氣品質資料集被依月份分為十二等分，若運算時需要使用整年的資料，就要用 `concat()` Function 給結合起來再開始運算。\n",
    "\n",
    "在使用時，依據所結合的資料的方向，可以使用 parameter `axis` 來變更，預設為 `0` 或 `index`。\n",
    "\n",
    "如果結合的方向是 `0` 或 `index` 的話，還可以使用一個更簡易的 Function：`append()`。\n",
    "\n",
    "* 常用 Parameters：\n",
    "    * `join`：結合時遇到相同名稱的 column/row labels 時，參考的結合方法，預設為 `outer`\n",
    "        * `outer`：將相同 column/row label 的資料結合，不相同的 label 則**另外存放**\n",
    "        * `inner`：只將相同 column/row label 的資料結合，不相同的 label 則**捨棄**\n",
    "    * `axis`：結合方向，預設為 `0`\n",
    "        * `0`：Index (Row) 方向\n",
    "        * `1`：Column 方向\n",
    "* 參考文件：\n",
    "    * [pandas.concat](https://pandas.pydata.org/pandas-docs/stable/reference/api/pandas.concat.html#pandas-concat)\n",
    "    * [pandas.DataFrame.append](https://pandas.pydata.org/pandas-docs/stable/reference/api/pandas.DataFrame.append.html#pandas-dataframe-append)\n",
    "    * [pandas.Series.append](https://pandas.pydata.org/pandas-docs/stable/reference/api/pandas.Series.append.html#pandas-series-append)\n",
    "    * [10 MInutes to Pandas | Merge | Concat](https://pandas.pydata.org/pandas-docs/stable/user_guide/10min.html#concat)\n",
    "    * [Merge, join, and concatenate | Concatenating objects](https://pandas.pydata.org/pandas-docs/stable/user_guide/merging.html#concatenating-objects)\n",
    "    * [Merge, join, and concatenate | Concatenating objects | Concatenating using append](https://pandas.pydata.org/pandas-docs/stable/user_guide/merging.html#concatenating-using-append)"
   ]
  },
  {
   "cell_type": "markdown",
   "metadata": {},
   "source": [
    "### 依照 index (row) 方向結合資料"
   ]
  },
  {
   "cell_type": "code",
   "execution_count": 16,
   "metadata": {},
   "outputs": [],
   "source": [
    "rainfall_01 = pd.DataFrame({\"time\":pd.date_range('2020-01-01', '2020-01-31', freq=\"d\"), \n",
    "                            \"RAINFALL\":[random.randint(50, 300) for x in range(0, 31)]})\n",
    "rainfall_02 = pd.DataFrame({\"time\":pd.date_range('2020-02-01', '2020-02-28', freq=\"d\"), \n",
    "                            \"RAINFALL\":[random.randint(50, 300) for x in range(0, 28)]})\n",
    "rainfall_03 = pd.DataFrame({\"time\":pd.date_range('2020-03-01', '2020-03-31', freq=\"d\"), \n",
    "                            \"RAINFALL\":[random.randint(50, 300) for x in range(0, 31)]})\n",
    "rainfall_01.set_index(\"time\", inplace=True)\n",
    "rainfall_02.set_index(\"time\", inplace=True)\n",
    "rainfall_03.set_index(\"time\", inplace=True)"
   ]
  },
  {
   "cell_type": "code",
   "execution_count": 17,
   "metadata": {
    "colab": {
     "autoexec": {
      "startup": false,
      "wait_interval": 0
     },
     "base_uri": "https://localhost:8080/",
     "height": 490
    },
    "colab_type": "code",
    "executionInfo": {
     "elapsed": 1121,
     "status": "ok",
     "timestamp": 1530864823478,
     "user": {
      "displayName": "黃種平",
      "photoUrl": "//lh3.googleusercontent.com/-ay6h3dmyraY/AAAAAAAAAAI/AAAAAAAADhg/t8F2AGa00fc/s50-c-k-no/photo.jpg",
      "userId": "114874362450166068432"
     },
     "user_tz": -480
    },
    "id": "wB9hN6bNenPK",
    "outputId": "f234b9ea-ae07-4190-eb5f-3cd49edd10a5"
   },
   "outputs": [
    {
     "data": {
      "text/html": [
       "<div>\n",
       "<style scoped>\n",
       "    .dataframe tbody tr th:only-of-type {\n",
       "        vertical-align: middle;\n",
       "    }\n",
       "\n",
       "    .dataframe tbody tr th {\n",
       "        vertical-align: top;\n",
       "    }\n",
       "\n",
       "    .dataframe thead th {\n",
       "        text-align: right;\n",
       "    }\n",
       "</style>\n",
       "<table border=\"1\" class=\"dataframe\">\n",
       "  <thead>\n",
       "    <tr style=\"text-align: right;\">\n",
       "      <th></th>\n",
       "      <th>RAINFALL</th>\n",
       "    </tr>\n",
       "    <tr>\n",
       "      <th>time</th>\n",
       "      <th></th>\n",
       "    </tr>\n",
       "  </thead>\n",
       "  <tbody>\n",
       "    <tr>\n",
       "      <th>2020-01-01</th>\n",
       "      <td>245</td>\n",
       "    </tr>\n",
       "    <tr>\n",
       "      <th>2020-01-02</th>\n",
       "      <td>222</td>\n",
       "    </tr>\n",
       "    <tr>\n",
       "      <th>2020-01-03</th>\n",
       "      <td>67</td>\n",
       "    </tr>\n",
       "    <tr>\n",
       "      <th>2020-01-04</th>\n",
       "      <td>172</td>\n",
       "    </tr>\n",
       "    <tr>\n",
       "      <th>2020-01-05</th>\n",
       "      <td>282</td>\n",
       "    </tr>\n",
       "    <tr>\n",
       "      <th>...</th>\n",
       "      <td>...</td>\n",
       "    </tr>\n",
       "    <tr>\n",
       "      <th>2020-03-27</th>\n",
       "      <td>175</td>\n",
       "    </tr>\n",
       "    <tr>\n",
       "      <th>2020-03-28</th>\n",
       "      <td>187</td>\n",
       "    </tr>\n",
       "    <tr>\n",
       "      <th>2020-03-29</th>\n",
       "      <td>186</td>\n",
       "    </tr>\n",
       "    <tr>\n",
       "      <th>2020-03-30</th>\n",
       "      <td>79</td>\n",
       "    </tr>\n",
       "    <tr>\n",
       "      <th>2020-03-31</th>\n",
       "      <td>241</td>\n",
       "    </tr>\n",
       "  </tbody>\n",
       "</table>\n",
       "<p>90 rows × 1 columns</p>\n",
       "</div>"
      ],
      "text/plain": [
       "            RAINFALL\n",
       "time                \n",
       "2020-01-01       245\n",
       "2020-01-02       222\n",
       "2020-01-03        67\n",
       "2020-01-04       172\n",
       "2020-01-05       282\n",
       "...              ...\n",
       "2020-03-27       175\n",
       "2020-03-28       187\n",
       "2020-03-29       186\n",
       "2020-03-30        79\n",
       "2020-03-31       241\n",
       "\n",
       "[90 rows x 1 columns]"
      ]
     },
     "execution_count": 17,
     "metadata": {},
     "output_type": "execute_result"
    }
   ],
   "source": [
    "# 依照 index (row) 方向結合三份資料\n",
    "pd.concat([rainfall_01,\n",
    "           rainfall_02,\n",
    "           rainfall_03], axis=0)\n",
    "# 以上操作與以下等價\n",
    "# rainfall_01.append([rainfall_02, rainfall_03])"
   ]
  },
  {
   "cell_type": "markdown",
   "metadata": {},
   "source": [
    "### 依照 column 方向結合資料"
   ]
  },
  {
   "cell_type": "code",
   "execution_count": 20,
   "metadata": {
    "colab": {
     "autoexec": {
      "startup": false,
      "wait_interval": 0
     }
    },
    "colab_type": "code",
    "id": "JAiKBfDMd1A8"
   },
   "outputs": [],
   "source": [
    "# 雨量，濕度，溫度\n",
    "rainfall = pd.DataFrame({\"time\":pd.date_range('2020-01-01', '2020-01-31', freq=\"d\"), \n",
    "                         \"RAINFALL\":[random.randint(50, 300) for x in range(0, 31)]})\n",
    "humidity = pd.DataFrame({\"time\":pd.date_range('2020-01-01', '2020-01-31', freq=\"d\"), \n",
    "                         \"humidity\":[random.randint(0, 80) for x in range(0, 31)]})\n",
    "temperature = pd.DataFrame({\"time\":pd.date_range('2020-01-01', '2020-01-31', freq=\"d\"), \n",
    "                            \"temperature\":[random.randint(10, 30) for x in range(0, 31)]})\n",
    "rainfall.set_index(\"time\", inplace=True)\n",
    "humidity.set_index(\"time\", inplace=True)\n",
    "temperature.set_index(\"time\", inplace=True)"
   ]
  },
  {
   "cell_type": "code",
   "execution_count": 21,
   "metadata": {
    "colab": {
     "autoexec": {
      "startup": false,
      "wait_interval": 0
     },
     "base_uri": "https://localhost:8080/",
     "height": 425
    },
    "colab_type": "code",
    "executionInfo": {
     "elapsed": 1060,
     "status": "ok",
     "timestamp": 1530864826202,
     "user": {
      "displayName": "黃種平",
      "photoUrl": "//lh3.googleusercontent.com/-ay6h3dmyraY/AAAAAAAAAAI/AAAAAAAADhg/t8F2AGa00fc/s50-c-k-no/photo.jpg",
      "userId": "114874362450166068432"
     },
     "user_tz": -480
    },
    "id": "HwRJ1P9aelbQ",
    "outputId": "58a4fa83-3bec-422d-9cc4-403a9d13fabe"
   },
   "outputs": [
    {
     "data": {
      "text/html": [
       "<div>\n",
       "<style scoped>\n",
       "    .dataframe tbody tr th:only-of-type {\n",
       "        vertical-align: middle;\n",
       "    }\n",
       "\n",
       "    .dataframe tbody tr th {\n",
       "        vertical-align: top;\n",
       "    }\n",
       "\n",
       "    .dataframe thead th {\n",
       "        text-align: right;\n",
       "    }\n",
       "</style>\n",
       "<table border=\"1\" class=\"dataframe\">\n",
       "  <thead>\n",
       "    <tr style=\"text-align: right;\">\n",
       "      <th></th>\n",
       "      <th>RAINFALL</th>\n",
       "      <th>humidity</th>\n",
       "      <th>temperature</th>\n",
       "    </tr>\n",
       "    <tr>\n",
       "      <th>time</th>\n",
       "      <th></th>\n",
       "      <th></th>\n",
       "      <th></th>\n",
       "    </tr>\n",
       "  </thead>\n",
       "  <tbody>\n",
       "    <tr>\n",
       "      <th>2020-01-01</th>\n",
       "      <td>117</td>\n",
       "      <td>11</td>\n",
       "      <td>10</td>\n",
       "    </tr>\n",
       "    <tr>\n",
       "      <th>2020-01-02</th>\n",
       "      <td>287</td>\n",
       "      <td>80</td>\n",
       "      <td>10</td>\n",
       "    </tr>\n",
       "    <tr>\n",
       "      <th>2020-01-03</th>\n",
       "      <td>229</td>\n",
       "      <td>72</td>\n",
       "      <td>29</td>\n",
       "    </tr>\n",
       "    <tr>\n",
       "      <th>2020-01-04</th>\n",
       "      <td>131</td>\n",
       "      <td>41</td>\n",
       "      <td>26</td>\n",
       "    </tr>\n",
       "    <tr>\n",
       "      <th>2020-01-05</th>\n",
       "      <td>107</td>\n",
       "      <td>33</td>\n",
       "      <td>16</td>\n",
       "    </tr>\n",
       "    <tr>\n",
       "      <th>...</th>\n",
       "      <td>...</td>\n",
       "      <td>...</td>\n",
       "      <td>...</td>\n",
       "    </tr>\n",
       "    <tr>\n",
       "      <th>2020-01-27</th>\n",
       "      <td>163</td>\n",
       "      <td>69</td>\n",
       "      <td>23</td>\n",
       "    </tr>\n",
       "    <tr>\n",
       "      <th>2020-01-28</th>\n",
       "      <td>80</td>\n",
       "      <td>49</td>\n",
       "      <td>22</td>\n",
       "    </tr>\n",
       "    <tr>\n",
       "      <th>2020-01-29</th>\n",
       "      <td>233</td>\n",
       "      <td>54</td>\n",
       "      <td>12</td>\n",
       "    </tr>\n",
       "    <tr>\n",
       "      <th>2020-01-30</th>\n",
       "      <td>183</td>\n",
       "      <td>15</td>\n",
       "      <td>18</td>\n",
       "    </tr>\n",
       "    <tr>\n",
       "      <th>2020-01-31</th>\n",
       "      <td>175</td>\n",
       "      <td>4</td>\n",
       "      <td>15</td>\n",
       "    </tr>\n",
       "  </tbody>\n",
       "</table>\n",
       "<p>31 rows × 3 columns</p>\n",
       "</div>"
      ],
      "text/plain": [
       "            RAINFALL  humidity  temperature\n",
       "time                                       \n",
       "2020-01-01       117        11           10\n",
       "2020-01-02       287        80           10\n",
       "2020-01-03       229        72           29\n",
       "2020-01-04       131        41           26\n",
       "2020-01-05       107        33           16\n",
       "...              ...       ...          ...\n",
       "2020-01-27       163        69           23\n",
       "2020-01-28        80        49           22\n",
       "2020-01-29       233        54           12\n",
       "2020-01-30       183        15           18\n",
       "2020-01-31       175         4           15\n",
       "\n",
       "[31 rows x 3 columns]"
      ]
     },
     "execution_count": 21,
     "metadata": {},
     "output_type": "execute_result"
    }
   ],
   "source": [
    "# 依照 column 方向結合三份資料，結合時會以相同 index 為結合的依據\n",
    "pd.concat([rainfall, humidity, temperature], axis=1)"
   ]
  },
  {
   "cell_type": "markdown",
   "metadata": {
    "colab_type": "text",
    "id": "aqA1hh4udAxO"
   },
   "source": [
    "## `merge()`：以 Column 數值相同為依據來結合資料"
   ]
  },
  {
   "cell_type": "markdown",
   "metadata": {
    "colab_type": "text",
    "id": "o8HykH2E8wpX"
   },
   "source": [
    "若多份資料中有重複的 Column，且可以用來當作結合資料的依據，用 `merge()` Function 來結合便是一種便利的方法。例如：我們有兩份資料，分別擁有相對濕度、風速（Column 名稱：`RH`, `WIND_SPEED`） 的資料，且兩份都擁有時間（Column 名稱：`datetime`）的資料，就可以用 `merge()` Function 將她們結合起來。\n",
    "\n",
    "跟[關聯式資料庫](https://zh.wikipedia.org/zh-tw/關聯式資料庫)的 `JOIN` 操作相仿，JOIN 的時候可以選擇不同的 JOIN 方法：\n",
    "\n",
    "* 僅保留兩側都有相同資料的 **INNER JOIN**\n",
    "* 以一側為基準，指定保留該側所有資料的 **OUTER JOIN**：\n",
    "    * 保留左側資料的 **LEFT OUTER JOIN**\n",
    "    * 保留右側資料的 **RIGHT OUTER JOIN**\n",
    "\n",
    "指定 JOIN 依據的 Column 是透過 parameter `on` 來指定，而選擇的 JOIN 類型是透過 parameter `how` 來設定。\n",
    "\n",
    "* 常用 Parameters：\n",
    "    * `how`：JOIN 的方法，預設為 `1nner`\n",
    "        * `inner`： INNER JOIN\n",
    "        * `left`： LEFT OUTER JOIN\n",
    "        * `right`： RIGHT OUTER JOIN\n",
    "        * `outer`： JULL OUTER JOIN\n",
    "    * `on`：要用來比對的 label\n",
    "* 參考文件：\n",
    "    * [Merge, join, and concatenate | Database-style DataFrame joining/merging](https://pandas.pydata.org/pandas-docs/stable/merging.html#database-style-dataframe-joining-merging)\n",
    "    * [pandas.merge](https://pandas.pydata.org/pandas-docs/stable/generated/pandas.merge.html)\n",
    "    * [pandas.DataFrame.merge](https://pandas.pydata.org/pandas-docs/stable/generated/pandas.DataFrame.merge.html)\n",
    "    * [10 Minutes to Pandas | Join](https://pandas.pydata.org/pandas-docs/stable/10min.html#join)\n",
    "    * [關聯式資料庫 | Wikipedia](https://zh.wikipedia.org/zh-tw/關聯式資料庫)\n",
    "    * [SQL 連接 | Wikipedia](https://zh.wikipedia.org/zh-tw/連接_%28SQL%29)"
   ]
  },
  {
   "cell_type": "markdown",
   "metadata": {
    "colab_type": "text",
    "id": "GsR06CbQGcVM"
   },
   "source": [
    "> [備註] 資料庫的 OUTER JOIN 其實還有一種  **FULL OUTER JOIN**，但實際的應用情境實在相當少見，所以暫不介紹"
   ]
  },
  {
   "cell_type": "code",
   "execution_count": 9,
   "metadata": {
    "colab": {
     "autoexec": {
      "startup": false,
      "wait_interval": 0
     }
    },
    "colab_type": "code",
    "id": "yGT837EydUOg"
   },
   "outputs": [
    {
     "data": {
      "text/html": [
       "<div>\n",
       "<style scoped>\n",
       "    .dataframe tbody tr th:only-of-type {\n",
       "        vertical-align: middle;\n",
       "    }\n",
       "\n",
       "    .dataframe tbody tr th {\n",
       "        vertical-align: top;\n",
       "    }\n",
       "\n",
       "    .dataframe thead th {\n",
       "        text-align: right;\n",
       "    }\n",
       "</style>\n",
       "<table border=\"1\" class=\"dataframe\">\n",
       "  <thead>\n",
       "    <tr style=\"text-align: right;\">\n",
       "      <th></th>\n",
       "      <th>datetime</th>\n",
       "      <th>RH</th>\n",
       "    </tr>\n",
       "  </thead>\n",
       "  <tbody>\n",
       "    <tr>\n",
       "      <th>0</th>\n",
       "      <td>2017-01-01 00:00:00</td>\n",
       "      <td>88.0</td>\n",
       "    </tr>\n",
       "    <tr>\n",
       "      <th>1</th>\n",
       "      <td>2017-01-01 01:00:00</td>\n",
       "      <td>88.0</td>\n",
       "    </tr>\n",
       "    <tr>\n",
       "      <th>2</th>\n",
       "      <td>2017-01-01 02:00:00</td>\n",
       "      <td>89.0</td>\n",
       "    </tr>\n",
       "    <tr>\n",
       "      <th>3</th>\n",
       "      <td>2017-01-01 03:00:00</td>\n",
       "      <td>90.0</td>\n",
       "    </tr>\n",
       "    <tr>\n",
       "      <th>4</th>\n",
       "      <td>2017-01-01 04:00:00</td>\n",
       "      <td>90.0</td>\n",
       "    </tr>\n",
       "  </tbody>\n",
       "</table>\n",
       "</div>"
      ],
      "text/plain": [
       "              datetime    RH\n",
       "0  2017-01-01 00:00:00  88.0\n",
       "1  2017-01-01 01:00:00  88.0\n",
       "2  2017-01-01 02:00:00  89.0\n",
       "3  2017-01-01 03:00:00  90.0\n",
       "4  2017-01-01 04:00:00  90.0"
      ]
     },
     "metadata": {},
     "output_type": "display_data"
    },
    {
     "data": {
      "text/html": [
       "<div>\n",
       "<style scoped>\n",
       "    .dataframe tbody tr th:only-of-type {\n",
       "        vertical-align: middle;\n",
       "    }\n",
       "\n",
       "    .dataframe tbody tr th {\n",
       "        vertical-align: top;\n",
       "    }\n",
       "\n",
       "    .dataframe thead th {\n",
       "        text-align: right;\n",
       "    }\n",
       "</style>\n",
       "<table border=\"1\" class=\"dataframe\">\n",
       "  <thead>\n",
       "    <tr style=\"text-align: right;\">\n",
       "      <th></th>\n",
       "      <th>datetime</th>\n",
       "      <th>WIND_SPEED</th>\n",
       "    </tr>\n",
       "  </thead>\n",
       "  <tbody>\n",
       "    <tr>\n",
       "      <th>0</th>\n",
       "      <td>2017-01-01 00:00:00</td>\n",
       "      <td>1.4</td>\n",
       "    </tr>\n",
       "    <tr>\n",
       "      <th>1</th>\n",
       "      <td>2017-01-01 01:00:00</td>\n",
       "      <td>0.5</td>\n",
       "    </tr>\n",
       "    <tr>\n",
       "      <th>2</th>\n",
       "      <td>2017-01-01 02:00:00</td>\n",
       "      <td>0.5</td>\n",
       "    </tr>\n",
       "    <tr>\n",
       "      <th>3</th>\n",
       "      <td>2017-01-01 03:00:00</td>\n",
       "      <td>0.5</td>\n",
       "    </tr>\n",
       "    <tr>\n",
       "      <th>4</th>\n",
       "      <td>2017-01-01 04:00:00</td>\n",
       "      <td>1.0</td>\n",
       "    </tr>\n",
       "    <tr>\n",
       "      <th>5</th>\n",
       "      <td>2017-01-01 05:00:00</td>\n",
       "      <td>0.8</td>\n",
       "    </tr>\n",
       "    <tr>\n",
       "      <th>6</th>\n",
       "      <td>2017-01-01 06:00:00</td>\n",
       "      <td>1.1</td>\n",
       "    </tr>\n",
       "    <tr>\n",
       "      <th>7</th>\n",
       "      <td>2017-01-01 07:00:00</td>\n",
       "      <td>1.1</td>\n",
       "    </tr>\n",
       "    <tr>\n",
       "      <th>8</th>\n",
       "      <td>2017-01-01 08:00:00</td>\n",
       "      <td>1.5</td>\n",
       "    </tr>\n",
       "    <tr>\n",
       "      <th>9</th>\n",
       "      <td>2017-01-01 09:00:00</td>\n",
       "      <td>1.9</td>\n",
       "    </tr>\n",
       "  </tbody>\n",
       "</table>\n",
       "</div>"
      ],
      "text/plain": [
       "              datetime  WIND_SPEED\n",
       "0  2017-01-01 00:00:00         1.4\n",
       "1  2017-01-01 01:00:00         0.5\n",
       "2  2017-01-01 02:00:00         0.5\n",
       "3  2017-01-01 03:00:00         0.5\n",
       "4  2017-01-01 04:00:00         1.0\n",
       "5  2017-01-01 05:00:00         0.8\n",
       "6  2017-01-01 06:00:00         1.1\n",
       "7  2017-01-01 07:00:00         1.1\n",
       "8  2017-01-01 08:00:00         1.5\n",
       "9  2017-01-01 09:00:00         1.9"
      ]
     },
     "metadata": {},
     "output_type": "display_data"
    }
   ],
   "source": [
    "# 各自擁有相對濕度、風速（column label：'RH', 'WIND_SPEED'） 的資料\n",
    "# 且兩份都擁有時間（column label：'datetime'）的資料\n",
    "df_rh_left = df_noindex.loc[:4, ['datetime', 'RH']]  # 一份擷取 5 rows，置於左側\n",
    "\n",
    "# 預覽資料\n",
    "display(df_rh_left)\n",
    "\n",
    "df_windspeed_right = df_noindex.loc[:9, \n",
    "                                 ['datetime',\n",
    "                                  'WIND_SPEED']]  # 另一份擷取 10 rows，置於右側\n",
    "\n",
    "# 預覽資料\n",
    "display(df_windspeed_right)"
   ]
  },
  {
   "cell_type": "code",
   "execution_count": 10,
   "metadata": {
    "colab": {
     "autoexec": {
      "startup": false,
      "wait_interval": 0
     },
     "base_uri": "https://localhost:8080/",
     "height": 204
    },
    "colab_type": "code",
    "executionInfo": {
     "elapsed": 979,
     "status": "ok",
     "timestamp": 1530864828654,
     "user": {
      "displayName": "黃種平",
      "photoUrl": "//lh3.googleusercontent.com/-ay6h3dmyraY/AAAAAAAAAAI/AAAAAAAADhg/t8F2AGa00fc/s50-c-k-no/photo.jpg",
      "userId": "114874362450166068432"
     },
     "user_tz": -480
    },
    "id": "W6bb-MFuxlVo",
    "outputId": "ccc37f87-503e-4c0e-e38c-fbc9076f1b9d"
   },
   "outputs": [
    {
     "data": {
      "text/html": [
       "<div>\n",
       "<style scoped>\n",
       "    .dataframe tbody tr th:only-of-type {\n",
       "        vertical-align: middle;\n",
       "    }\n",
       "\n",
       "    .dataframe tbody tr th {\n",
       "        vertical-align: top;\n",
       "    }\n",
       "\n",
       "    .dataframe thead th {\n",
       "        text-align: right;\n",
       "    }\n",
       "</style>\n",
       "<table border=\"1\" class=\"dataframe\">\n",
       "  <thead>\n",
       "    <tr style=\"text-align: right;\">\n",
       "      <th></th>\n",
       "      <th>datetime</th>\n",
       "      <th>RH</th>\n",
       "      <th>WIND_SPEED</th>\n",
       "    </tr>\n",
       "  </thead>\n",
       "  <tbody>\n",
       "    <tr>\n",
       "      <th>0</th>\n",
       "      <td>2017-01-01 00:00:00</td>\n",
       "      <td>88.0</td>\n",
       "      <td>1.4</td>\n",
       "    </tr>\n",
       "    <tr>\n",
       "      <th>1</th>\n",
       "      <td>2017-01-01 01:00:00</td>\n",
       "      <td>88.0</td>\n",
       "      <td>0.5</td>\n",
       "    </tr>\n",
       "    <tr>\n",
       "      <th>2</th>\n",
       "      <td>2017-01-01 02:00:00</td>\n",
       "      <td>89.0</td>\n",
       "      <td>0.5</td>\n",
       "    </tr>\n",
       "    <tr>\n",
       "      <th>3</th>\n",
       "      <td>2017-01-01 03:00:00</td>\n",
       "      <td>90.0</td>\n",
       "      <td>0.5</td>\n",
       "    </tr>\n",
       "    <tr>\n",
       "      <th>4</th>\n",
       "      <td>2017-01-01 04:00:00</td>\n",
       "      <td>90.0</td>\n",
       "      <td>1.0</td>\n",
       "    </tr>\n",
       "  </tbody>\n",
       "</table>\n",
       "</div>"
      ],
      "text/plain": [
       "              datetime    RH  WIND_SPEED\n",
       "0  2017-01-01 00:00:00  88.0         1.4\n",
       "1  2017-01-01 01:00:00  88.0         0.5\n",
       "2  2017-01-01 02:00:00  89.0         0.5\n",
       "3  2017-01-01 03:00:00  90.0         0.5\n",
       "4  2017-01-01 04:00:00  90.0         1.0"
      ]
     },
     "execution_count": 10,
     "metadata": {},
     "output_type": "execute_result"
    }
   ],
   "source": [
    "# INNER JOIN\n",
    "# JOIN 時如果不自行指定 JOIN 依據的 column，Pandas 會依據輸入的資料\n",
    "# 自動找尋所有名稱相同的 column 作為依據\n",
    "pd.merge(left=df_rh_left, right=df_windspeed_right, how='inner')\n",
    "# 此操作與以下等價\n",
    "# pd.merge(left=df_rh, right=df_windspeed, how='inner', on=['inner'])"
   ]
  },
  {
   "cell_type": "code",
   "execution_count": 11,
   "metadata": {
    "colab": {
     "autoexec": {
      "startup": false,
      "wait_interval": 0
     },
     "base_uri": "https://localhost:8080/",
     "height": 204
    },
    "colab_type": "code",
    "executionInfo": {
     "elapsed": 735,
     "status": "ok",
     "timestamp": 1530864830517,
     "user": {
      "displayName": "黃種平",
      "photoUrl": "//lh3.googleusercontent.com/-ay6h3dmyraY/AAAAAAAAAAI/AAAAAAAADhg/t8F2AGa00fc/s50-c-k-no/photo.jpg",
      "userId": "114874362450166068432"
     },
     "user_tz": -480
    },
    "id": "PwWE3n5PxoH-",
    "outputId": "46f6a33b-4257-4463-d174-050d675010b0"
   },
   "outputs": [
    {
     "data": {
      "text/html": [
       "<div>\n",
       "<style scoped>\n",
       "    .dataframe tbody tr th:only-of-type {\n",
       "        vertical-align: middle;\n",
       "    }\n",
       "\n",
       "    .dataframe tbody tr th {\n",
       "        vertical-align: top;\n",
       "    }\n",
       "\n",
       "    .dataframe thead th {\n",
       "        text-align: right;\n",
       "    }\n",
       "</style>\n",
       "<table border=\"1\" class=\"dataframe\">\n",
       "  <thead>\n",
       "    <tr style=\"text-align: right;\">\n",
       "      <th></th>\n",
       "      <th>datetime</th>\n",
       "      <th>RH</th>\n",
       "      <th>WIND_SPEED</th>\n",
       "    </tr>\n",
       "  </thead>\n",
       "  <tbody>\n",
       "    <tr>\n",
       "      <th>0</th>\n",
       "      <td>2017-01-01 00:00:00</td>\n",
       "      <td>88.0</td>\n",
       "      <td>1.4</td>\n",
       "    </tr>\n",
       "    <tr>\n",
       "      <th>1</th>\n",
       "      <td>2017-01-01 01:00:00</td>\n",
       "      <td>88.0</td>\n",
       "      <td>0.5</td>\n",
       "    </tr>\n",
       "    <tr>\n",
       "      <th>2</th>\n",
       "      <td>2017-01-01 02:00:00</td>\n",
       "      <td>89.0</td>\n",
       "      <td>0.5</td>\n",
       "    </tr>\n",
       "    <tr>\n",
       "      <th>3</th>\n",
       "      <td>2017-01-01 03:00:00</td>\n",
       "      <td>90.0</td>\n",
       "      <td>0.5</td>\n",
       "    </tr>\n",
       "    <tr>\n",
       "      <th>4</th>\n",
       "      <td>2017-01-01 04:00:00</td>\n",
       "      <td>90.0</td>\n",
       "      <td>1.0</td>\n",
       "    </tr>\n",
       "  </tbody>\n",
       "</table>\n",
       "</div>"
      ],
      "text/plain": [
       "              datetime    RH  WIND_SPEED\n",
       "0  2017-01-01 00:00:00  88.0         1.4\n",
       "1  2017-01-01 01:00:00  88.0         0.5\n",
       "2  2017-01-01 02:00:00  89.0         0.5\n",
       "3  2017-01-01 03:00:00  90.0         0.5\n",
       "4  2017-01-01 04:00:00  90.0         1.0"
      ]
     },
     "execution_count": 11,
     "metadata": {},
     "output_type": "execute_result"
    }
   ],
   "source": [
    "# LEFT OUTER JOIN\n",
    "pd.merge(left=df_rh_left, right=df_windspeed_right,\n",
    "         how='left', on=['datetime'])"
   ]
  },
  {
   "cell_type": "code",
   "execution_count": 12,
   "metadata": {
    "colab": {
     "autoexec": {
      "startup": false,
      "wait_interval": 0
     },
     "base_uri": "https://localhost:8080/",
     "height": 359
    },
    "colab_type": "code",
    "executionInfo": {
     "elapsed": 1283,
     "status": "ok",
     "timestamp": 1530864832238,
     "user": {
      "displayName": "黃種平",
      "photoUrl": "//lh3.googleusercontent.com/-ay6h3dmyraY/AAAAAAAAAAI/AAAAAAAADhg/t8F2AGa00fc/s50-c-k-no/photo.jpg",
      "userId": "114874362450166068432"
     },
     "user_tz": -480
    },
    "id": "cqUQ8VQVF-RZ",
    "outputId": "33552816-6a88-4f37-e368-f6f2c3809f37"
   },
   "outputs": [
    {
     "data": {
      "text/html": [
       "<div>\n",
       "<style scoped>\n",
       "    .dataframe tbody tr th:only-of-type {\n",
       "        vertical-align: middle;\n",
       "    }\n",
       "\n",
       "    .dataframe tbody tr th {\n",
       "        vertical-align: top;\n",
       "    }\n",
       "\n",
       "    .dataframe thead th {\n",
       "        text-align: right;\n",
       "    }\n",
       "</style>\n",
       "<table border=\"1\" class=\"dataframe\">\n",
       "  <thead>\n",
       "    <tr style=\"text-align: right;\">\n",
       "      <th></th>\n",
       "      <th>datetime</th>\n",
       "      <th>RH</th>\n",
       "      <th>WIND_SPEED</th>\n",
       "    </tr>\n",
       "  </thead>\n",
       "  <tbody>\n",
       "    <tr>\n",
       "      <th>0</th>\n",
       "      <td>2017-01-01 00:00:00</td>\n",
       "      <td>88.0</td>\n",
       "      <td>1.4</td>\n",
       "    </tr>\n",
       "    <tr>\n",
       "      <th>1</th>\n",
       "      <td>2017-01-01 01:00:00</td>\n",
       "      <td>88.0</td>\n",
       "      <td>0.5</td>\n",
       "    </tr>\n",
       "    <tr>\n",
       "      <th>2</th>\n",
       "      <td>2017-01-01 02:00:00</td>\n",
       "      <td>89.0</td>\n",
       "      <td>0.5</td>\n",
       "    </tr>\n",
       "    <tr>\n",
       "      <th>3</th>\n",
       "      <td>2017-01-01 03:00:00</td>\n",
       "      <td>90.0</td>\n",
       "      <td>0.5</td>\n",
       "    </tr>\n",
       "    <tr>\n",
       "      <th>4</th>\n",
       "      <td>2017-01-01 04:00:00</td>\n",
       "      <td>90.0</td>\n",
       "      <td>1.0</td>\n",
       "    </tr>\n",
       "    <tr>\n",
       "      <th>5</th>\n",
       "      <td>2017-01-01 05:00:00</td>\n",
       "      <td>NaN</td>\n",
       "      <td>0.8</td>\n",
       "    </tr>\n",
       "    <tr>\n",
       "      <th>6</th>\n",
       "      <td>2017-01-01 06:00:00</td>\n",
       "      <td>NaN</td>\n",
       "      <td>1.1</td>\n",
       "    </tr>\n",
       "    <tr>\n",
       "      <th>7</th>\n",
       "      <td>2017-01-01 07:00:00</td>\n",
       "      <td>NaN</td>\n",
       "      <td>1.1</td>\n",
       "    </tr>\n",
       "    <tr>\n",
       "      <th>8</th>\n",
       "      <td>2017-01-01 08:00:00</td>\n",
       "      <td>NaN</td>\n",
       "      <td>1.5</td>\n",
       "    </tr>\n",
       "    <tr>\n",
       "      <th>9</th>\n",
       "      <td>2017-01-01 09:00:00</td>\n",
       "      <td>NaN</td>\n",
       "      <td>1.9</td>\n",
       "    </tr>\n",
       "  </tbody>\n",
       "</table>\n",
       "</div>"
      ],
      "text/plain": [
       "              datetime    RH  WIND_SPEED\n",
       "0  2017-01-01 00:00:00  88.0         1.4\n",
       "1  2017-01-01 01:00:00  88.0         0.5\n",
       "2  2017-01-01 02:00:00  89.0         0.5\n",
       "3  2017-01-01 03:00:00  90.0         0.5\n",
       "4  2017-01-01 04:00:00  90.0         1.0\n",
       "5  2017-01-01 05:00:00   NaN         0.8\n",
       "6  2017-01-01 06:00:00   NaN         1.1\n",
       "7  2017-01-01 07:00:00   NaN         1.1\n",
       "8  2017-01-01 08:00:00   NaN         1.5\n",
       "9  2017-01-01 09:00:00   NaN         1.9"
      ]
     },
     "execution_count": 12,
     "metadata": {},
     "output_type": "execute_result"
    }
   ],
   "source": [
    "# RIGHT OUTER JOIN\n",
    "pd.merge(left=df_rh_left, right=df_windspeed_right,\n",
    "         how='right', on=['datetime'])"
   ]
  },
  {
   "cell_type": "code",
   "execution_count": null,
   "metadata": {
    "colab": {
     "autoexec": {
      "startup": false,
      "wait_interval": 0
     }
    },
    "colab_type": "code",
    "id": "17Qj63Ejdyma"
   },
   "outputs": [],
   "source": []
  }
 ],
 "metadata": {
  "accelerator": "GPU",
  "colab": {
   "collapsed_sections": [],
   "default_view": {},
   "name": "Chapter 7 - Combining.ipynb",
   "provenance": [],
   "toc_visible": true,
   "version": "0.3.2",
   "views": {}
  },
  "kernelspec": {
   "display_name": "Python 3",
   "language": "python",
   "name": "python3"
  },
  "language_info": {
   "codemirror_mode": {
    "name": "ipython",
    "version": 3
   },
   "file_extension": ".py",
   "mimetype": "text/x-python",
   "name": "python",
   "nbconvert_exporter": "python",
   "pygments_lexer": "ipython3",
   "version": "3.6.8"
  }
 },
 "nbformat": 4,
 "nbformat_minor": 4
}
